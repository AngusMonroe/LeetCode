{
 "cells": [
  {
   "cell_type": "markdown",
   "metadata": {},
   "source": [
    "https://leetcode.com/problems/next-greater-element-i/description/"
   ]
  },
  {
   "cell_type": "markdown",
   "metadata": {},
   "source": [
    "## 题目大意\n",
    "给定两个数组，这两个数组内分别没有重复元素，且第一个数组所有元素被第二个数组所包含，问第一个数组中每个元素在第二个数组中位置的后面大于该元素的元素是多少，如果没有则返回-1\n",
    "\n",
    "## 知识点\n",
    "双层遍历暴力解题即可"
   ]
  },
  {
   "cell_type": "code",
   "execution_count": null,
   "metadata": {
    "collapsed": true
   },
   "outputs": [],
   "source": [
    "class Solution {\n",
    "public:\n",
    "    vector<int> nextGreaterElement(vector<int>& findNums, vector<int>& nums) {\n",
    "        vector<int> ans(findNums.size(), -1);\n",
    "        for (int i = 0; i < findNums.size(); i++) {\n",
    "            bool flag = false;\n",
    "            \n",
    "            for (int j = 0; j < nums.size(); j++) {\n",
    "                if(nums[j] == findNums[i])\n",
    "                    flag = true;\n",
    "                if(flag == true && nums[j] > findNums[i]) {\n",
    "                    ans[i] = nums[j];\n",
    "                    break;\n",
    "                }\n",
    "            }\n",
    "        }\n",
    "        return ans;\n",
    "    }\n",
    "};"
   ]
  }
 ],
 "metadata": {
  "kernelspec": {
   "display_name": "C",
   "language": "c",
   "name": "c"
  },
  "language_info": {
   "file_extension": ".c",
   "mimetype": "text/plain",
   "name": "c"
  }
 },
 "nbformat": 4,
 "nbformat_minor": 2
}
