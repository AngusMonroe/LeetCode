{
 "cells": [
  {
   "cell_type": "markdown",
   "metadata": {},
   "source": [
    "https://leetcode.com/problems/minimum-moves-to-equal-array-elements-ii/description/"
   ]
  },
  {
   "cell_type": "markdown",
   "metadata": {},
   "source": [
    "## 题目大意\n",
    "给定一个数组，将其中的值变为同一个值，问所需变化的值的和最小是多少\n",
    "\n",
    "## 解题思路\n",
    "解题关键在于找出将所有数变成哪个值，最开始想到的事把所有值都变成平均值，然后像所有人一样WA了\n",
    "\n",
    "然后发现其实应该是中位数：排序之后，从两边往中间走，最大和最小之间的差距，是一定要填补上的，不管+1 还是 -1，所以最后都等于中位数。"
   ]
  },
  {
   "cell_type": "code",
   "execution_count": null,
   "metadata": {
    "collapsed": true
   },
   "outputs": [],
   "source": [
    "class Solution {\n",
    "public:\n",
    "      int minMoves2(vector<int>& nums) {\n",
    "      sort(nums.begin(), nums.end()); \n",
    "      int n = nums.size(), res = 0;\n",
    "      for (int i = 0; i < n / 2; i++) \n",
    "          res += (nums[n - 1 - i] - nums[i]);\n",
    "      return res;\n",
    "    }\n",
    "};"
   ]
  }
 ],
 "metadata": {
  "kernelspec": {
   "display_name": "C",
   "language": "c",
   "name": "c"
  },
  "language_info": {
   "file_extension": ".c",
   "mimetype": "text/plain",
   "name": "c"
  }
 },
 "nbformat": 4,
 "nbformat_minor": 2
}
