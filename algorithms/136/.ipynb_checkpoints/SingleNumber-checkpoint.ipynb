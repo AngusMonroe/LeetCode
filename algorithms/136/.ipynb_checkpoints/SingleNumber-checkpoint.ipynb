{
 "cells": [
  {
   "cell_type": "markdown",
   "metadata": {},
   "source": [
    "https://leetcode.com/problems/single-number/description/"
   ]
  },
  {
   "cell_type": "markdown",
   "metadata": {},
   "source": [
    "## 题目大意\n",
    "给定一个数组，其中元素除一个出现一次，其他均出现两次，求出现一次的元素，要求时间复杂度为O(n)，不使用额外空间\n",
    "\n",
    "## 解题思路\n",
    "利用异或的性质，一个数与其本身做异或运算结果为0，一个数与0做异或运算等于其本身，所以将数组中所有数字做异或运算，出现两次的元素将与自身的抵消，剩下的就是只出现一次的元素"
   ]
  },
  {
   "cell_type": "code",
   "execution_count": null,
   "metadata": {
    "collapsed": true
   },
   "outputs": [],
   "source": [
    "class Solution {\n",
    "public:\n",
    "    int singleNumber(vector<int>& nums) {\n",
    "        int ans = 0;\n",
    "        for (int i = 0; i < nums.size(); i++)\n",
    "            ans = ans ^ nums[i];\n",
    "        return ans;\n",
    "    }\n",
    "};"
   ]
  }
 ],
 "metadata": {
  "kernelspec": {
   "display_name": "C",
   "language": "c",
   "name": "c"
  },
  "language_info": {
   "file_extension": ".c",
   "mimetype": "text/plain",
   "name": "c"
  }
 },
 "nbformat": 4,
 "nbformat_minor": 2
}
