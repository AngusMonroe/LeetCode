{
 "cells": [
  {
   "cell_type": "markdown",
   "metadata": {},
   "source": [
    "https://leetcode.com/problems/unique-paths-iii/"
   ]
  },
  {
   "cell_type": "markdown",
   "metadata": {},
   "source": [
    "## 题目大意\n",
    "给出一个map，map中存在起点、终点、可走点和不可走点四种点，要从起点走到终点并遍历所有点，求有多少种走法\n",
    "\n",
    "## 解题思路\n",
    "\n",
    "首先想到dfs，将走过的点做一下标记，要求走的步数等于可走点的数量，遍历所有情况即可\n",
    "\n",
    "题解中还有一种dp的做法，并没有仔细研究，感觉并无必要"
   ]
  },
  {
   "cell_type": "code",
   "execution_count": null,
   "metadata": {
    "collapsed": true
   },
   "outputs": [],
   "source": [
    "class Solution:\n",
    "    def uniquePathsIII(self, grid: 'List[List[int]]') -> 'int':\n",
    "        x_len = len(grid[0])\n",
    "        y_len = len(grid)\n",
    "        \n",
    "        def neighbor(x, y):\n",
    "            for next_x, next_y in ((x + 1, y), (x - 1, y), (x, y + 1), (x, y - 1)):\n",
    "                if 0 <= next_x < x_len and 0 <= next_y < y_len and grid[next_y][next_x] % 2 == 0:\n",
    "                    yield next_x, next_y\n",
    "        \n",
    "        todo, s_x, s_y, e_x, e_y = 0, 0, 0, 0, 0\n",
    "        for j in range(y_len):\n",
    "            for i in range(x_len):\n",
    "                if grid[j][i] != -1:\n",
    "                    todo += 1\n",
    "                if grid[j][i] == 1:\n",
    "                    s_x, s_y = i, j\n",
    "                elif grid[j][i] == 2:\n",
    "                    e_x, e_y = i, j\n",
    "        \n",
    "        self.ans = 0\n",
    "        \n",
    "        def dfs(x, y, todo):\n",
    "            todo -= 1\n",
    "            if todo < 0:\n",
    "                return\n",
    "            elif x == e_x and y == e_y and todo == 0:\n",
    "                self.ans += 1\n",
    "                return\n",
    "            \n",
    "            grid[y][x] = -1\n",
    "            for next_x, next_y in neighbor(x, y):\n",
    "                dfs(next_x, next_y, todo)\n",
    "            grid[y][x] = 0\n",
    "        \n",
    "        dfs(s_x, s_y, todo)\n",
    "        return self.ans\n",
    "        "
   ]
  }
 ],
 "metadata": {
  "kernelspec": {
   "display_name": "Python 3",
   "language": "python",
   "name": "python3"
  },
  "language_info": {
   "codemirror_mode": {
    "name": "ipython",
    "version": 3
   },
   "file_extension": ".py",
   "mimetype": "text/x-python",
   "name": "python",
   "nbconvert_exporter": "python",
   "pygments_lexer": "ipython3",
   "version": "3.6.1"
  }
 },
 "nbformat": 4,
 "nbformat_minor": 2
}
