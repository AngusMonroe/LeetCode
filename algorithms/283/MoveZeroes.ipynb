{
 "cells": [
  {
   "cell_type": "markdown",
   "metadata": {},
   "source": [
    "https://leetcode.com/problems/move-zeroes/description/"
   ]
  },
  {
   "cell_type": "markdown",
   "metadata": {},
   "source": [
    "## 题目大意\n",
    "将数组中所有0移到数组末尾\n",
    "\n",
    "## 解题思路\n",
    "遍历数组，erase掉0，最后再push_back即可"
   ]
  },
  {
   "cell_type": "code",
   "execution_count": null,
   "metadata": {
    "collapsed": true
   },
   "outputs": [],
   "source": [
    "class Solution {\n",
    "public:\n",
    "    void moveZeroes(vector<int>& nums) {\n",
    "        int num = 0;\n",
    "        vector<int>::iterator it;\n",
    "        for (it = nums.begin(); it != nums.end(); it++) {\n",
    "            if(*it == 0) {\n",
    "                num++;\n",
    "                it--;\n",
    "                nums.erase(it + 1);\n",
    "            }\n",
    "        }\n",
    "        for(int i = 0; i < num; i++)\n",
    "            nums.push_back(0);\n",
    "    }\n",
    "};"
   ]
  }
 ],
 "metadata": {
  "kernelspec": {
   "display_name": "C",
   "language": "c",
   "name": "c"
  },
  "language_info": {
   "file_extension": ".c",
   "mimetype": "text/plain",
   "name": "c"
  }
 },
 "nbformat": 4,
 "nbformat_minor": 2
}
