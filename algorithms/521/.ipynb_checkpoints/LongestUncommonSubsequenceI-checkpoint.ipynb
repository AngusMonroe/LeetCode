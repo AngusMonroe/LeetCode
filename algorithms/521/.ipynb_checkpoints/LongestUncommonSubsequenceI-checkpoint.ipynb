{
 "cells": [
  {
   "cell_type": "markdown",
   "metadata": {},
   "source": [
    "https://leetcode.com/problems/longest-uncommon-subsequence-i/description/"
   ]
  },
  {
   "cell_type": "markdown",
   "metadata": {},
   "source": [
    "## 题目大意\n",
    "给定两个字符串，求一个序列不为另一个序列的子串的最大长度\n",
    "\n",
    "## 解题思路\n",
    "两个字符串长度不相同时，长的字符串一定不是短的字符串的子串，返回长的字符串即可，两个字符串长度相同时，若两个字符串完全相同，则这两个字符串互为子串，否则返回字符串长度"
   ]
  },
  {
   "cell_type": "code",
   "execution_count": null,
   "metadata": {
    "collapsed": true
   },
   "outputs": [],
   "source": [
    "class Solution {\n",
    "public:\n",
    "    int findLUSlength(string a, string b) {\n",
    "        int ans = -1;\n",
    "        if(a.size() != b.size()) \n",
    "            ans = max(a.size(), b.size());\n",
    "        else if(a != b)\n",
    "            ans = b.size();\n",
    "        return ans;\n",
    "    }\n",
    "};"
   ]
  }
 ],
 "metadata": {
  "kernelspec": {
   "display_name": "C",
   "language": "c",
   "name": "c"
  },
  "language_info": {
   "file_extension": ".c",
   "mimetype": "text/plain",
   "name": "c"
  }
 },
 "nbformat": 4,
 "nbformat_minor": 2
}
