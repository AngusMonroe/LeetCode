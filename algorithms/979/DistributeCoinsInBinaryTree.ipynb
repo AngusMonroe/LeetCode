{
 "cells": [
  {
   "cell_type": "markdown",
   "metadata": {},
   "source": [
    "https://leetcode.com/problems/distribute-coins-in-binary-tree/"
   ]
  },
  {
   "cell_type": "markdown",
   "metadata": {},
   "source": [
    "## 题目大意\n",
    "给定一棵二叉树，树上结点可能有coin，将一个coin向父节点或子节点移动一个单位视为一次操作，问使每个节点上都有1个coin需要进行多少次操作（节点总个数与coin总个数相等）\n",
    "\n",
    "## 解题思路\n",
    "dfs\n",
    "\n",
    "从叶子节点开始考虑，每个叶子节点需要有1个coin，若没有则需要移入，多于1个则需要移出，计算其需要的操作次数，此后就不用再考虑该节点\n",
    "\n",
    "考虑其父节点，如果其父节点（含孩子）拥有的coin数为1+1+1，则无需操作，否则少则移入，多则移出，计算其需要的操作次数。递归进行该操作，直至根节点"
   ]
  },
  {
   "cell_type": "code",
   "execution_count": null,
   "metadata": {
    "collapsed": true
   },
   "outputs": [],
   "source": [
    "# Definition for a binary tree node.\n",
    "# class TreeNode:\n",
    "#     def __init__(self, x):\n",
    "#         self.val = x\n",
    "#         self.left = None\n",
    "#         self.right = None\n",
    "\n",
    "class Solution:\n",
    "    def distributeCoins(self, root: 'TreeNode') -> 'int':\n",
    "        self.ans = 0\n",
    "        \n",
    "        def dfs(node):\n",
    "            if not node:\n",
    "                return 0\n",
    "            else:\n",
    "                l, r = dfs(node.left) , dfs(node.right)\n",
    "                self.ans += abs(l) + abs(r)\n",
    "                return node.val + l + r - 1\n",
    "                \n",
    "        dfs(root)\n",
    "        return self.ans\n",
    "                \n",
    "        "
   ]
  }
 ],
 "metadata": {
  "kernelspec": {
   "display_name": "Python 3",
   "language": "python",
   "name": "python3"
  },
  "language_info": {
   "codemirror_mode": {
    "name": "ipython",
    "version": 3
   },
   "file_extension": ".py",
   "mimetype": "text/x-python",
   "name": "python",
   "nbconvert_exporter": "python",
   "pygments_lexer": "ipython3",
   "version": "3.6.1"
  }
 },
 "nbformat": 4,
 "nbformat_minor": 2
}
