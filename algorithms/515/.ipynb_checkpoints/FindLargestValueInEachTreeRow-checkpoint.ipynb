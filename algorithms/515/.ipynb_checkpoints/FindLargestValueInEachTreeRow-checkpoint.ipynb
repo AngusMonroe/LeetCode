{
 "cells": [
  {
   "cell_type": "markdown",
   "metadata": {},
   "source": [
    "https://leetcode.com/problems/find-largest-value-in-each-tree-row/description/"
   ]
  },
  {
   "cell_type": "markdown",
   "metadata": {},
   "source": [
    "### 题目大意\n",
    "给定一个二叉树，求二叉树每一行的最大值\n",
    "\n",
    "### 解题思路\n",
    "递归遍历更新每行最大值即可"
   ]
  },
  {
   "cell_type": "code",
   "execution_count": null,
   "metadata": {
    "collapsed": true
   },
   "outputs": [],
   "source": [
    "/**\n",
    " * Definition for a binary tree node.\n",
    " * struct TreeNode {\n",
    " *     int val;\n",
    " *     TreeNode *left;\n",
    " *     TreeNode *right;\n",
    " *     TreeNode(int x) : val(x), left(NULL), right(NULL) {}\n",
    " * };\n",
    " */\n",
    "class Solution {\n",
    "public:\n",
    "    vector<int> num;\n",
    "    \n",
    "    void check(TreeNode* root, int n) {\n",
    "        if (root == NULL) \n",
    "            return;\n",
    "        else {\n",
    "            if (num.size() <= n) {\n",
    "                num.push_back(root->val);\n",
    "            }\n",
    "            else if (num[n] < root->val)\n",
    "                num[n] = root->val;\n",
    "            check(root->left, n + 1);\n",
    "            check(root->right, n + 1);\n",
    "        }\n",
    "\n",
    "    }\n",
    "    \n",
    "    vector<int> largestValues(TreeNode* root) {\n",
    "        check(root, 0);\n",
    "        return num;\n",
    "    }\n",
    "};"
   ]
  }
 ],
 "metadata": {
  "kernelspec": {
   "display_name": "Python 3",
   "language": "python",
   "name": "python3"
  },
  "language_info": {
   "codemirror_mode": {
    "name": "ipython",
    "version": 3
   },
   "file_extension": ".py",
   "mimetype": "text/x-python",
   "name": "python",
   "nbconvert_exporter": "python",
   "pygments_lexer": "ipython3",
   "version": "3.6.1"
  }
 },
 "nbformat": 4,
 "nbformat_minor": 2
}
