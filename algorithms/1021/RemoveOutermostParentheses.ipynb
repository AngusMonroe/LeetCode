{
 "cells": [
  {
   "cell_type": "markdown",
   "metadata": {},
   "source": [
    "https://leetcode.com/problems/remove-outermost-parentheses/"
   ]
  },
  {
   "cell_type": "markdown",
   "metadata": {},
   "source": [
    "# 题目大意\n",
    "\n",
    "给一个字符串，该字符串由小括号组成，保证左右括号成对出现且合法，求去掉最外面一层括号之后的字符串\n",
    "\n",
    "# 解题思路\n",
    "\n",
    "用栈的思路，每次出栈时判断栈是否为空，若为空说明已经遇到最外层括号，此时不将最外层左右括号加入结果字符串即可"
   ]
  },
  {
   "cell_type": "code",
   "execution_count": null,
   "metadata": {
    "collapsed": true
   },
   "outputs": [],
   "source": [
    "class Solution:\n",
    "    def removeOuterParentheses(self, S: str) -> str:\n",
    "        stack = []\n",
    "        res = ''\n",
    "        start = 0\n",
    "        for i in range(len(S)):\n",
    "            if S[i] == '(':\n",
    "                stack.append(S[i])\n",
    "            else:\n",
    "                stack.pop()\n",
    "                if not stack:\n",
    "                    res += S[start + 1:i]\n",
    "                    start = i + 1\n",
    "        return res\n",
    "                    "
   ]
  }
 ],
 "metadata": {
  "kernelspec": {
   "display_name": "Python 3",
   "language": "python",
   "name": "python3"
  },
  "language_info": {
   "codemirror_mode": {
    "name": "ipython",
    "version": 3
   },
   "file_extension": ".py",
   "mimetype": "text/x-python",
   "name": "python",
   "nbconvert_exporter": "python",
   "pygments_lexer": "ipython3",
   "version": "3.6.7"
  }
 },
 "nbformat": 4,
 "nbformat_minor": 2
}
