{
 "cells": [
  {
   "cell_type": "markdown",
   "metadata": {},
   "source": [
    "https://leetcode.com/problems/add-digits/description/"
   ]
  },
  {
   "cell_type": "markdown",
   "metadata": {},
   "source": [
    "## 题目大意\n",
    "讲一个数字的各位求和，直至这个数字只有一位为止。\n",
    "\n",
    "## 解题思路\n",
    "两层循环即可"
   ]
  },
  {
   "cell_type": "code",
   "execution_count": null,
   "metadata": {
    "collapsed": true
   },
   "outputs": [],
   "source": [
    "class Solution {\n",
    "public:\n",
    "    int addDigits(int num) {\n",
    "        while(num >= 10) {\n",
    "            int ans = 0;\n",
    "            while(num > 0) {\n",
    "                ans += num % 10;\n",
    "                num /= 10;\n",
    "            }\n",
    "            num = ans;\n",
    "        }\n",
    "        return num;\n",
    "    }\n",
    "};"
   ]
  }
 ],
 "metadata": {
  "kernelspec": {
   "display_name": "C",
   "language": "c",
   "name": "c"
  },
  "language_info": {
   "file_extension": ".c",
   "mimetype": "text/plain",
   "name": "c"
  }
 },
 "nbformat": 4,
 "nbformat_minor": 2
}
