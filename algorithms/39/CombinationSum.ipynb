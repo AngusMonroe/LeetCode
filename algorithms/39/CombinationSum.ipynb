{
 "cells": [
  {
   "cell_type": "markdown",
   "metadata": {},
   "source": [
    "https://leetcode.com/problems/combination-sum/"
   ]
  },
  {
   "cell_type": "markdown",
   "metadata": {},
   "source": [
    "# 题目大意\n",
    "\n",
    "给定一个int类型的list以及一个整数target，从list中任意选取数字（可重复）求和，问和为target的所有情况。\n",
    "\n",
    "# 解题思路\n",
    "\n",
    "很容易就能想到的一个方案是，维护一个当前元素和，当前元素和小于target时分别选取list中的元素再次进行判断。\n",
    "\n",
    "但这种方法存在一个问题就是可能产生重复但顺序不同的结果，例如2+3=5和3+2=5。\n",
    "\n",
    "为了排除重复的情况，在选取元素时可以从list头向尾依次选取，记录当前选取的位置，由于“不走回头路”，故避免了产生重复结果的情况"
   ]
  },
  {
   "cell_type": "code",
   "execution_count": null,
   "metadata": {
    "collapsed": true
   },
   "outputs": [],
   "source": [
    "class Solution:\n",
    "    def combinationSum(self, candidates: List[int], target: int) -> List[List[int]]:\n",
    "        res = []\n",
    "        def check(sum, idx, l):\n",
    "            if sum == target:\n",
    "                res.append(l)\n",
    "            elif sum < target:\n",
    "                check(sum + candidates[idx], idx, l + [candidates[idx]])\n",
    "                if idx < len(candidates) - 1:\n",
    "                    check(sum, idx + 1, l)\n",
    "        \n",
    "        check(0, 0, [])\n",
    "        return res"
   ]
  }
 ],
 "metadata": {
  "kernelspec": {
   "display_name": "Python 3",
   "language": "python",
   "name": "python3"
  },
  "language_info": {
   "codemirror_mode": {
    "name": "ipython",
    "version": 3
   },
   "file_extension": ".py",
   "mimetype": "text/x-python",
   "name": "python",
   "nbconvert_exporter": "python",
   "pygments_lexer": "ipython3",
   "version": "3.6.7"
  }
 },
 "nbformat": 4,
 "nbformat_minor": 2
}
