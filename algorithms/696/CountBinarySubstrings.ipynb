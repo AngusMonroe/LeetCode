{
 "cells": [
  {
   "cell_type": "markdown",
   "metadata": {},
   "source": [
    "https://leetcode.com/problems/count-binary-substrings/description/"
   ]
  },
  {
   "cell_type": "markdown",
   "metadata": {},
   "source": [
    "## 题目大意\n",
    "给定一个由01组成的字符串，求有多少形如01，10，0011，1100这样的子串\n",
    "\n",
    "## 解题思路\n",
    "对题目分析可知，子串的形式为连续的1和连续的0，且0和1的个数相同。\n",
    "\n",
    "我们首先要找出连续的1和0，然后判断前后的0和1个数是否相同"
   ]
  },
  {
   "cell_type": "code",
   "execution_count": null,
   "metadata": {
    "collapsed": true
   },
   "outputs": [],
   "source": [
    "class Solution {\n",
    "public:\n",
    "    int countBinarySubstrings(string s) {\n",
    "        int cur = 1, pre = 0, res = 0;\n",
    "        for (int i = 1; i < s.size(); i++) {\n",
    "            if (s[i] == s[i - 1]) \n",
    "                cur++;\n",
    "            else {\n",
    "                res += min(cur, pre);\n",
    "                pre = cur;\n",
    "                cur = 1;\n",
    "            }\n",
    "        }\n",
    "        return res + min(cur, pre);\n",
    "    }\n",
    "};"
   ]
  }
 ],
 "metadata": {
  "kernelspec": {
   "display_name": "C",
   "language": "c",
   "name": "c"
  },
  "language_info": {
   "file_extension": ".c",
   "mimetype": "text/plain",
   "name": "c"
  }
 },
 "nbformat": 4,
 "nbformat_minor": 2
}
