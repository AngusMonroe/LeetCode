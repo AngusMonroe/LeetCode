{
 "cells": [
  {
   "cell_type": "markdown",
   "metadata": {},
   "source": [
    "https://leetcode.com/problems/design-circular-deque/"
   ]
  },
  {
   "cell_type": "markdown",
   "metadata": {},
   "source": [
    "# 题目大意\n",
    "\n",
    "实现一个deque\n",
    "\n",
    "# 解题思路\n",
    "\n",
    "声明一个list，前端作为队首，后端作为队尾"
   ]
  },
  {
   "cell_type": "code",
   "execution_count": null,
   "metadata": {
    "collapsed": true
   },
   "outputs": [],
   "source": [
    "class MyCircularDeque:\n",
    "\n",
    "    def __init__(self, k: int):\n",
    "        \"\"\"\n",
    "        Initialize your data structure here. Set the size of the deque to be k.\n",
    "        \"\"\"\n",
    "        self.items = []\n",
    "        self.len = k\n",
    "\n",
    "    def insertFront(self, value: int) -> bool:\n",
    "        \"\"\"\n",
    "        Adds an item at the front of Deque. Return true if the operation is successful.\n",
    "        \"\"\"\n",
    "        if len(self.items) < self.len:\n",
    "            self.items.insert(0, value)\n",
    "            return True\n",
    "        return False\n",
    "\n",
    "    def insertLast(self, value: int) -> bool:\n",
    "        \"\"\"\n",
    "        Adds an item at the rear of Deque. Return true if the operation is successful.\n",
    "        \"\"\"\n",
    "        if len(self.items) < self.len:\n",
    "            self.items.append(value)\n",
    "            return True\n",
    "        return False\n",
    "\n",
    "    def deleteFront(self) -> bool:\n",
    "        \"\"\"\n",
    "        Deletes an item from the front of Deque. Return true if the operation is successful.\n",
    "        \"\"\"\n",
    "        if self.items:\n",
    "            self.items.pop(0)\n",
    "            return True\n",
    "        return False\n",
    "\n",
    "    def deleteLast(self) -> bool:\n",
    "        \"\"\"\n",
    "        Deletes an item from the rear of Deque. Return true if the operation is successful.\n",
    "        \"\"\"\n",
    "        if self.items:\n",
    "            self.items.pop()\n",
    "            return True\n",
    "        return False\n",
    "\n",
    "    def getFront(self) -> int:\n",
    "        \"\"\"\n",
    "        Get the front item from the deque.\n",
    "        \"\"\"\n",
    "        if self.items:\n",
    "            return self.items[0]\n",
    "        return -1\n",
    "\n",
    "    def getRear(self) -> int:\n",
    "        \"\"\"\n",
    "        Get the last item from the deque.\n",
    "        \"\"\"\n",
    "        if self.items:\n",
    "            return self.items[-1]\n",
    "        return -1\n",
    "\n",
    "    def isEmpty(self) -> bool:\n",
    "        \"\"\"\n",
    "        Checks whether the circular deque is empty or not.\n",
    "        \"\"\"\n",
    "        return len(self.items) == 0\n",
    "\n",
    "    def isFull(self) -> bool:\n",
    "        \"\"\"\n",
    "        Checks whether the circular deque is full or not.\n",
    "        \"\"\"\n",
    "        return len(self.items) == self.len\n",
    "\n",
    "\n",
    "# Your MyCircularDeque object will be instantiated and called as such:\n",
    "# obj = MyCircularDeque(k)\n",
    "# param_1 = obj.insertFront(value)\n",
    "# param_2 = obj.insertLast(value)\n",
    "# param_3 = obj.deleteFront()\n",
    "# param_4 = obj.deleteLast()\n",
    "# param_5 = obj.getFront()\n",
    "# param_6 = obj.getRear()\n",
    "# param_7 = obj.isEmpty()\n",
    "# param_8 = obj.isFull()"
   ]
  }
 ],
 "metadata": {
  "kernelspec": {
   "display_name": "Python 3",
   "language": "python",
   "name": "python3"
  },
  "language_info": {
   "codemirror_mode": {
    "name": "ipython",
    "version": 3
   },
   "file_extension": ".py",
   "mimetype": "text/x-python",
   "name": "python",
   "nbconvert_exporter": "python",
   "pygments_lexer": "ipython3",
   "version": "3.6.7"
  }
 },
 "nbformat": 4,
 "nbformat_minor": 2
}
