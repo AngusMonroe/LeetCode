{
 "cells": [
  {
   "cell_type": "markdown",
   "metadata": {},
   "source": [
    "https://leetcode.com/problems/average-of-levels-in-binary-tree/description/"
   ]
  },
  {
   "cell_type": "markdown",
   "metadata": {},
   "source": [
    "## 题目大意\n",
    "给定一个二叉树，求每一层元素的平均值\n",
    "\n",
    "## 解题思路\n",
    "遍历二叉树，将每一层的元素个数、元素和储存起来相除即可\n",
    "\n",
    "PS.题目中说二叉树元素在32位int范围内，但由于计算过程中需要对每层元素求和，中间值大小可能超int，所以要用long long声明中间变量"
   ]
  },
  {
   "cell_type": "code",
   "execution_count": null,
   "metadata": {
    "collapsed": true
   },
   "outputs": [],
   "source": [
    "/**\n",
    " * Definition for a binary tree node.\n",
    " * struct TreeNode {\n",
    " *     int val;\n",
    " *     TreeNode *left;\n",
    " *     TreeNode *right;\n",
    " *     TreeNode(int x) : val(x), left(NULL), right(NULL) {}\n",
    " * };\n",
    " */\n",
    "class Solution {\n",
    "public:\n",
    "    vector<long long> sum;\n",
    "    vector<long long> num;\n",
    "    \n",
    "    void check(TreeNode* root, int n) {\n",
    "        if (root == NULL) \n",
    "            return;\n",
    "        else {\n",
    "            if (sum.size() <= n) {\n",
    "                sum.push_back(root->val);\n",
    "                num.push_back(1);\n",
    "            }\n",
    "            else {\n",
    "                sum[n] += root->val;\n",
    "                num[n]++;\n",
    "            }\n",
    "            check(root->left, n + 1);\n",
    "            check(root->right, n + 1);\n",
    "        }\n",
    "\n",
    "    }\n",
    "    \n",
    "    vector<double> averageOfLevels(TreeNode* root) {\n",
    "        vector<double> ans;\n",
    "        check(root, 0);\n",
    "        for (int i = 0; i < sum.size(); i++)\n",
    "            ans.push_back((double)sum[i] / (double)num[i]);\n",
    "        return ans;\n",
    "    }\n",
    "};"
   ]
  }
 ],
 "metadata": {
  "kernelspec": {
   "display_name": "C",
   "language": "c",
   "name": "c"
  },
  "language_info": {
   "file_extension": ".c",
   "mimetype": "text/plain",
   "name": "c"
  }
 },
 "nbformat": 4,
 "nbformat_minor": 2
}
