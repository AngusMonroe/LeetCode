{
 "cells": [
  {
   "cell_type": "markdown",
   "metadata": {},
   "source": [
    "https://leetcode.com/problems/multiply-strings"
   ]
  },
  {
   "cell_type": "markdown",
   "metadata": {},
   "source": [
    "# 题目大意\n",
    "\n",
    "求两个string类型的数字的乘积，输出string\n",
    "\n",
    "# 解题思路\n",
    "\n",
    "没太明白这题的考点是大数相乘还是string转int，下面分别给出这两种的解法，均可ac\n",
    "\n",
    "大数相乘：按位相乘模拟竖式\n",
    "\n",
    "手动string转int：单个字符减去'0'其差值即为该数字本身"
   ]
  },
  {
   "cell_type": "code",
   "execution_count": null,
   "metadata": {
    "collapsed": true
   },
   "outputs": [],
   "source": [
    "class Solution:\n",
    "    def multiply(self, num1: str, num2: str) -> str:\n",
    "        if len(num1)  < len(num2):\n",
    "            tmp = num1\n",
    "            num1 = num2\n",
    "            num2 = tmp\n",
    "            \n",
    "        ans = 0\n",
    "        for j in range(len(num2)):\n",
    "            product = 0\n",
    "            for i in range(len(num1)):\n",
    "                product += int(num2[-j - 1]) * int(num1[-i - 1]) * pow(10, i)\n",
    "            ans += product * pow(10, j)\n",
    "        return str(ans)"
   ]
  },
  {
   "cell_type": "code",
   "execution_count": null,
   "metadata": {
    "collapsed": true
   },
   "outputs": [],
   "source": [
    "class Solution:\n",
    "    def multiply(self, num1: str, num2: str) -> str:\n",
    "        n1 = 0\n",
    "        n2 = 0\n",
    "        for i in num1:    \n",
    "            n1 = n1 * 10 + (ord(i) - ord('0')) \n",
    "        for i in num2:  \n",
    "            n2 = n2 * 10 + (ord(i) - ord('0'))\n",
    "        return str(n1 * n2)"
   ]
  }
 ],
 "metadata": {
  "kernelspec": {
   "display_name": "Python 3",
   "language": "python",
   "name": "python3"
  },
  "language_info": {
   "codemirror_mode": {
    "name": "ipython",
    "version": 3
   },
   "file_extension": ".py",
   "mimetype": "text/x-python",
   "name": "python",
   "nbconvert_exporter": "python",
   "pygments_lexer": "ipython3",
   "version": "3.6.7"
  }
 },
 "nbformat": 4,
 "nbformat_minor": 2
}
