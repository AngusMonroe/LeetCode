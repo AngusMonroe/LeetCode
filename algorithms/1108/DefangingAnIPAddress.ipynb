{
 "cells": [
  {
   "cell_type": "markdown",
   "metadata": {},
   "source": [
    "https://leetcode.com/problems/defanging-an-ip-address/"
   ]
  },
  {
   "cell_type": "markdown",
   "metadata": {},
   "source": [
    "# 题目大意\n",
    "\n",
    "给一个ip地址，将其中所有的`.`替换为`[.]`\n",
    "\n",
    "# 解题思路\n",
    "\n",
    "先将string按.分割为list，再将其重构为字符串"
   ]
  },
  {
   "cell_type": "code",
   "execution_count": null,
   "metadata": {
    "collapsed": true
   },
   "outputs": [],
   "source": [
    "class Solution:\n",
    "    def defangIPaddr(self, address: str) -> str:\n",
    "        items = address.split('.')\n",
    "        s = ''\n",
    "        for item in items:\n",
    "            s += item + '[.]'\n",
    "        return s[:-3]\n",
    "        "
   ]
  }
 ],
 "metadata": {
  "kernelspec": {
   "display_name": "Python 3",
   "language": "python",
   "name": "python3"
  },
  "language_info": {
   "codemirror_mode": {
    "name": "ipython",
    "version": 3
   },
   "file_extension": ".py",
   "mimetype": "text/x-python",
   "name": "python",
   "nbconvert_exporter": "python",
   "pygments_lexer": "ipython3",
   "version": "3.6.7"
  }
 },
 "nbformat": 4,
 "nbformat_minor": 2
}
