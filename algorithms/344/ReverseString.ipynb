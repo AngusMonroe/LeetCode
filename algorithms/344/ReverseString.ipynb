{
 "cells": [
  {
   "cell_type": "markdown",
   "metadata": {},
   "source": [
    "https://leetcode.com/problems/reverse-string/description/"
   ]
  },
  {
   "cell_type": "markdown",
   "metadata": {},
   "source": [
    "## 题目大意\n",
    "输入一个字符串，返回其倒序\n",
    "\n",
    "## 知识点\n",
    "交换a[i]与a[n-i-1]即可，时间复杂度为`O(n/2)`"
   ]
  },
  {
   "cell_type": "code",
   "execution_count": null,
   "metadata": {
    "collapsed": true
   },
   "outputs": [],
   "source": [
    "class Solution {\n",
    "public:\n",
    "    string reverseString(string s) {\n",
    "        for (int i = 0, j = s.size() - 1; i < j; i++, j--)\n",
    "            swap(s[i], s[j]); \n",
    "        return s;\n",
    "    }\n",
    "};"
   ]
  }
 ],
 "metadata": {
  "kernelspec": {
   "display_name": "C",
   "language": "c",
   "name": "c"
  },
  "language_info": {
   "file_extension": ".c",
   "mimetype": "text/plain",
   "name": "c"
  }
 },
 "nbformat": 4,
 "nbformat_minor": 2
}
