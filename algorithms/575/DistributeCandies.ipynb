{
 "cells": [
  {
   "cell_type": "markdown",
   "metadata": {},
   "source": [
    "https://leetcode.com/problems/distribute-candies/description/"
   ]
  },
  {
   "cell_type": "markdown",
   "metadata": {},
   "source": [
    "## 题目大意\n",
    "有一堆糖要平均分给两个人，问一个人最多能得到多少种糖\n",
    "\n",
    "## 知识点\n",
    "记录糖的种类数，若糖的种类数大于糖的数量的一半，由于必须评分，则最多只能得到总数一半的糖，若糖的种类数小于糖的数量的一半，则可以获得该种数的糖\n",
    "\n",
    "*在LeetCode中，hashmap需要通过`unordered_map<int, int> num; `进行声明*"
   ]
  },
  {
   "cell_type": "code",
   "execution_count": null,
   "metadata": {
    "collapsed": true
   },
   "outputs": [],
   "source": [
    "class Solution {\n",
    "public:\n",
    "    int distributeCandies(vector<int>& candies) {\n",
    "        unordered_map<int, int> num; \n",
    "        int ans = 0;\n",
    "        vector<int>::iterator it;\n",
    "        for(it = candies.begin(); it != candies.end(); it++) {\n",
    "            if(num[*it] != 1) {\n",
    "                num[*it] = 1;\n",
    "                ans++;\n",
    "            }\n",
    "        }\n",
    "        if (ans > candies.size() / 2)\n",
    "            return candies.size() / 2;\n",
    "        else\n",
    "            return ans;\n",
    "    }\n",
    "};"
   ]
  }
 ],
 "metadata": {
  "kernelspec": {
   "display_name": "C",
   "language": "c",
   "name": "c"
  },
  "language_info": {
   "file_extension": ".c",
   "mimetype": "text/plain",
   "name": "c"
  }
 },
 "nbformat": 4,
 "nbformat_minor": 2
}
