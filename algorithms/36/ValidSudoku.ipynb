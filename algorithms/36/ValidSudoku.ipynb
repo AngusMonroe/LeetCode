{
 "cells": [
  {
   "cell_type": "markdown",
   "metadata": {},
   "source": [
    "https://leetcode.com/problems/valid-sudoku/"
   ]
  },
  {
   "cell_type": "markdown",
   "metadata": {},
   "source": [
    "# 题目大意\n",
    "\n",
    "检查一个$9*9$的数独矩阵是否合法。要求每行每列以及每个相邻的$3*3$矩阵中的数字不重复\n",
    "\n",
    "# 解题思路\n",
    "\n",
    "我一开始的思路是搞三个dictionary验证每行、每列、每grid的合法性，见代码1，复杂度为$O(2*9^2)$，内存由于引入了deepcopy的包也占用很大\n",
    "\n",
    "结果发现暴力的存储每行、每列、每grid来验证反而更快、内存占用更小，复杂度为$O(9^2)$。\n",
    "\n",
    "典型的想太多反而搞复杂了..."
   ]
  },
  {
   "cell_type": "code",
   "execution_count": null,
   "metadata": {
    "collapsed": true
   },
   "outputs": [],
   "source": [
    "class Solution1:\n",
    "    from copy import deepcopy\n",
    "    def isValidSudoku(self, board: List[List[str]]) -> bool:\n",
    "        init_cnt = {\".\": 0}\n",
    "        for i in range(1, 10):\n",
    "            init_cnt[str(i)] = 0\n",
    "        \n",
    "        for i in range(9):\n",
    "            cnt_row = deepcopy(init_cnt)\n",
    "            cnt_col = deepcopy(init_cnt)\n",
    "            for j in range(9):\n",
    "                cnt_row[board[i][j]] += 1\n",
    "                cnt_col[board[j][i]] += 1\n",
    "                if (board[i][j] != \".\" and cnt_row[board[i][j]] > 1) or (board[j][i] != \".\" and cnt_col[board[j][i]]) > 1:\n",
    "                    return False\n",
    "        \n",
    "        for i in range(3):\n",
    "            for j in range(3):\n",
    "                cnt_grid = deepcopy(init_cnt)\n",
    "                for m in range(3):\n",
    "                    for n in range(3):\n",
    "                        cnt_grid[board[3 * i + m][3 * j + n]] += 1\n",
    "                        if board[3 * i + m][3 * j + n] != \".\" and cnt_grid[board[3 * i + m][3 * j + n]] > 1:\n",
    "                            return False\n",
    "        return True"
   ]
  },
  {
   "cell_type": "code",
   "execution_count": null,
   "metadata": {
    "collapsed": true
   },
   "outputs": [],
   "source": [
    "class Solution1:\n",
    "    def isValidSudoku(self, board: List[List[str]]) -> bool:\n",
    "        rows = [[], [], [], [], [], [], [], [], [] ]\n",
    "        columns = [[], [], [], [], [], [], [], [], []]\n",
    "        boxes = [[], [], [], [], [], [], [], [], [] ]\n",
    "        for i in range(len(board)):\n",
    "            for j in range(len(board[i])):\n",
    "                char = board[i][j]\n",
    "                if char != \".\":\n",
    "                    if char in rows[i]:\n",
    "                        return False\n",
    "                    else:\n",
    "                        rows[i].append(char)\n",
    "\n",
    "                    if char in columns[j]:\n",
    "                        return False\n",
    "                    else:\n",
    "                        columns[j].append(char)\n",
    "\n",
    "                    boxid = (i // 3)*3 + j // 3\n",
    "\n",
    "                    if char in boxes[boxid]:\n",
    "                        return False\n",
    "                    else:\n",
    "                        boxes[boxid].append(char)\n",
    "\n",
    "        return True"
   ]
  }
 ],
 "metadata": {
  "kernelspec": {
   "display_name": "Python 3",
   "language": "python",
   "name": "python3"
  },
  "language_info": {
   "codemirror_mode": {
    "name": "ipython",
    "version": 3
   },
   "file_extension": ".py",
   "mimetype": "text/x-python",
   "name": "python",
   "nbconvert_exporter": "python",
   "pygments_lexer": "ipython3",
   "version": "3.6.7"
  }
 },
 "nbformat": 4,
 "nbformat_minor": 2
}
