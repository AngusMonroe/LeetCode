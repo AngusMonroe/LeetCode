{
 "cells": [
  {
   "cell_type": "markdown",
   "metadata": {},
   "source": [
    "https://leetcode.com/problems/trim-a-binary-search-tree/description/"
   ]
  },
  {
   "cell_type": "markdown",
   "metadata": {},
   "source": [
    "## 题目大意\n",
    "给定一个二叉搜索树及其边界，修剪二叉搜索树使之所有节点均在边界范围内\n",
    "\n",
    "## 知识点\n",
    "分三步进行\n",
    "\n",
    "1. 寻找合适的根节点\n",
    "2. 删除所有小于L的节点，并用其右节点替换该节点\n",
    "3. 删除所有大于R的节点，并用其左节点替换该节点"
   ]
  },
  {
   "cell_type": "code",
   "execution_count": null,
   "metadata": {
    "collapsed": true
   },
   "outputs": [],
   "source": [
    "/**\n",
    " * Definition for a binary tree node.\n",
    " * struct TreeNode {\n",
    " *     int val;\n",
    " *     TreeNode *left;\n",
    " *     TreeNode *right;\n",
    " *     TreeNode(int x) : val(x), left(NULL), right(NULL) {}\n",
    " * };\n",
    " */\n",
    "class Solution {\n",
    "public:\n",
    "    TreeNode* trimBST(TreeNode* root, int L, int R) {\n",
    "        // find the proper root\n",
    "        while (root->val < L || root->val > R) {\n",
    "            if(root->val < L)\n",
    "                root = root->right;\n",
    "            else \n",
    "                root = root->left;\n",
    "        }\n",
    "        \n",
    "        // temporary pointer for left and right subtree\n",
    "        TreeNode *Ltemp = root;\n",
    "        TreeNode *Rtemp = root;\n",
    "        \n",
    "        // remove the elements smaller than L\n",
    "        while(Ltemp->left) {\n",
    "            if (Ltemp->left->val < L )\n",
    "                Ltemp->left = Ltemp->left->right;\n",
    "            else \n",
    "                Ltemp = Ltemp->left;\n",
    "        }\n",
    "         // remove the elements larger than R\n",
    "        while(Rtemp->right) {\n",
    "            if (Rtemp->right->val > R)\n",
    "                Rtemp->right = Rtemp->right->left;\n",
    "            else\n",
    "                Rtemp = Rtemp->right;\n",
    "        }\n",
    "\n",
    "        return root;\n",
    "    }\n",
    "};"
   ]
  }
 ],
 "metadata": {
  "kernelspec": {
   "display_name": "C",
   "language": "c",
   "name": "c"
  },
  "language_info": {
   "file_extension": ".c",
   "mimetype": "text/plain",
   "name": "c"
  }
 },
 "nbformat": 4,
 "nbformat_minor": 2
}
