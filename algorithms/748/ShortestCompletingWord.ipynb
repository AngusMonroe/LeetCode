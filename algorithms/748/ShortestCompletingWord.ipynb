{
 "cells": [
  {
   "cell_type": "markdown",
   "metadata": {},
   "source": [
    "https://leetcode.com/problems/shortest-completing-word/description/"
   ]
  },
  {
   "cell_type": "markdown",
   "metadata": {},
   "source": [
    "## 题目大意\n",
    "给定一个字符串和一个字符串数组，求字符串数组中的一个元素，满足其每个字母个数大于等于给定字符串对应字母的个数（不区分大小写），若有多个满足，返回最短的一个，若有长度相同，返回先出现的那个。\n",
    "\n",
    "## 解题思路\n",
    "两个hash map分别记录给定字符串与比对字符串中每个字母的个数进行比对即可。"
   ]
  },
  {
   "cell_type": "code",
   "execution_count": null,
   "metadata": {
    "collapsed": true
   },
   "outputs": [],
   "source": [
    "class Solution {\n",
    "public:\n",
    "    string shortestCompletingWord(string licensePlate, vector<string>& words) {\n",
    "        unordered_map<char, int> map1;\n",
    "        for(int i = 0; i < licensePlate.size(); i++) {\n",
    "            if(isalpha(licensePlate[i])) {\n",
    "                if(licensePlate[i] < 'a')\n",
    "                    licensePlate[i] ^= 32;\n",
    "                map1[licensePlate[i]]++;\n",
    "            } \n",
    "        }\n",
    "        string ans;\n",
    "        int len = INT_MAX;\n",
    "        for(int word = 0; word < words.size(); word++) {\n",
    "            unordered_map<char, int> map2;\n",
    "            for(int i = 0; i < words[word].size(); i++) {\n",
    "                if(isalpha(words[word][i])) {\n",
    "                    if(words[word][i] < 'a')\n",
    "                        words[word][i] ^= 32;\n",
    "                    map2[words[word][i]]++;\n",
    "                } \n",
    "            }\n",
    "            bool flag = true;\n",
    "            unordered_map<char, int>::iterator it;\n",
    "            for(it = map1.begin(); it != map1.end(); it++) {\n",
    "                if(it->second > map2[it->first]) {\n",
    "                    flag = false;\n",
    "                    break;\n",
    "                }       \n",
    "            }\n",
    "            if(flag && len > words[word].length()) {\n",
    "                ans = words[word];\n",
    "                len = words[word].length();\n",
    "            }\n",
    "        }\n",
    "        return ans;\n",
    "    }\n",
    "};"
   ]
  }
 ],
 "metadata": {
  "kernelspec": {
   "display_name": "C",
   "language": "c",
   "name": "c"
  },
  "language_info": {
   "file_extension": ".c",
   "mimetype": "text/plain",
   "name": "c"
  }
 },
 "nbformat": 4,
 "nbformat_minor": 2
}
