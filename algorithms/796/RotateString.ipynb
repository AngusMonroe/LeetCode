{
 "cells": [
  {
   "cell_type": "markdown",
   "metadata": {},
   "source": [
    "https://leetcode.com/problems/rotate-string/description/"
   ]
  },
  {
   "cell_type": "markdown",
   "metadata": {},
   "source": [
    "## 题目大意\n",
    "给定字符串A、B，将字符串A的首字符移至末尾，若此时字符串A、B相同，则返回true，否则返回false\n",
    "\n",
    "## 知识点\n",
    "补充一些String的操作：\n",
    "- substr\n",
    "\n",
    "    ```C++\n",
    "    string s = \"0123456789\";\n",
    "\n",
    "    string sub1 = s.substr(5); //只有一个数字5表示从下标为5开始一直到结尾：sub1 = \"56789\"\n",
    "    string sub2 = s.substr(5, 3); //从下标为5开始截取长度为3位：sub2 = \"567\"\n",
    "    ```\n",
    "    \n",
    "- append\n",
    "\n",
    "    向string的后面追加字符或字符串\n",
    "    \n",
    "    ```C++\n",
    "    string str1 = str2 = str3 = str4 = str5 = str6 = \"hello \";\n",
    "    const char *c = \"out here \";\n",
    "    string str = \"wide world \"; \n",
    "    \n",
    "    str1.append(c); // 把char类型字符串c连接到当前字符串结尾: str1 = \"hello out here\"\n",
    "    str2.append(c,3); // 把char类型字符串c的前n个字符连接到当前字符串结尾: str2 = \"hello out\"\n",
    "    str3.append(str); //把字符串str连接到当前字符串的结尾 str3 = \"hello wide world\"\n",
    "    str4.append(str, 5, 5); ////把字符串str中从5开始的5个字符连接到当前字符串的结尾 str4 = \"hello world\" \n",
    "    str5.append(str.begin()+5, str.end()); //把str的迭代器begin()+5和end()之间的部分连接到当前字符串的结尾 str5 = \"hello world\"\n",
    "    str6.append(4,'!'); //在当前字符串结尾添加4个字符! str6 = \"hello !!!\"\n",
    "    ```"
   ]
  },
  {
   "cell_type": "code",
   "execution_count": null,
   "metadata": {
    "collapsed": true
   },
   "outputs": [],
   "source": [
    "class Solution {\n",
    "public:\n",
    "    bool rotateString(string A, string B) {\n",
    "        if(A.size() != B.size())\n",
    "            return false;\n",
    "        for(int i = 0; i < A.size(); i++) {\n",
    "            A.append(1, A[0]);\n",
    "            A = A.substr(1);\n",
    "            if (A == B)\n",
    "                return true;\n",
    "        }\n",
    "        return false;\n",
    "    }\n",
    "};"
   ]
  }
 ],
 "metadata": {
  "kernelspec": {
   "display_name": "C",
   "language": "c",
   "name": "c"
  },
  "language_info": {
   "file_extension": ".c",
   "mimetype": "text/plain",
   "name": "c"
  }
 },
 "nbformat": 4,
 "nbformat_minor": 2
}
