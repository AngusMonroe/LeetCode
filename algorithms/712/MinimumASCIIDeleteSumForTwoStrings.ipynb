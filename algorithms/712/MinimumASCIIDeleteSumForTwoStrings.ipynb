{
 "cells": [
  {
   "cell_type": "markdown",
   "metadata": {},
   "source": [
    "https://leetcode.com/problems/minimum-ascii-delete-sum-for-two-strings/description/"
   ]
  },
  {
   "cell_type": "markdown",
   "metadata": {},
   "source": [
    "## 题目大意\n",
    "给定两个字符串，求将这两个字符串变成相同的需要删除的字符的最小ASCII码和\n",
    "\n",
    "## 解题思路\n",
    "DP\n"
   ]
  },
  {
   "cell_type": "markdown",
   "metadata": {},
   "source": [
    "### 二维DP\n"
   ]
  },
  {
   "cell_type": "code",
   "execution_count": null,
   "metadata": {
    "collapsed": true
   },
   "outputs": [],
   "source": [
    "class Solution {\n",
    "public:\n",
    "    int minimumDeleteSum(string s1, string s2) {\n",
    "        int m = s1.size(), n = s2.size();\n",
    "        vector<vector<int>> dp(m+1, vector<int>(n+1, 0));\n",
    "        for (int j = 1; j <= n; j++)\n",
    "            dp[0][j] = dp[0][j-1]+s2[j-1];\n",
    "        for (int i = 1; i <= m; i++) {\n",
    "            dp[i][0] = dp[i-1][0]+s1[i-1];\n",
    "            for (int j = 1; j <= n; j++) {\n",
    "                if (s1[i-1] == s2[j-1])\n",
    "                    dp[i][j] = dp[i-1][j-1];\n",
    "                else \n",
    "                    dp[i][j] = min(dp[i-1][j]+s1[i-1], dp[i][j-1]+s2[j-1]);\n",
    "            }\n",
    "        }\n",
    "        return dp[m][n];\n",
    "    }\n",
    "};\n"
   ]
  },
  {
   "cell_type": "markdown",
   "metadata": {},
   "source": [
    "### 一维DP\n"
   ]
  },
  {
   "cell_type": "code",
   "execution_count": null,
   "metadata": {
    "collapsed": true
   },
   "outputs": [],
   "source": [
    "class Solution {\n",
    "public:\n",
    "    int minimumDeleteSum(string s1, string s2) {\n",
    "        int m = s1.size(), n = s2.size();\n",
    "        vector<int> dp(n+1, 0);\n",
    "        for (int j = 1; j <= n; j++)\n",
    "            dp[j] = dp[j-1]+s2[j-1];\n",
    "        for (int i = 1; i <= m; i++) {\n",
    "            int t1 = dp[0];\n",
    "            dp[0] += s1[i-1];\n",
    "            for (int j = 1; j <= n; j++) {\n",
    "                int t2 = dp[j];\n",
    "                dp[j] = s1[i-1] == s2[j-1]? t1:min(dp[j]+s1[i-1], dp[j-1]+s2[j-1]);\n",
    "                t1 = t2;\n",
    "            }\n",
    "        }\n",
    "        return dp[n];\n",
    "    }\n",
    "};"
   ]
  }
 ],
 "metadata": {
  "kernelspec": {
   "display_name": "C",
   "language": "c",
   "name": "c"
  },
  "language_info": {
   "file_extension": ".c",
   "mimetype": "text/plain",
   "name": "c"
  }
 },
 "nbformat": 4,
 "nbformat_minor": 2
}
