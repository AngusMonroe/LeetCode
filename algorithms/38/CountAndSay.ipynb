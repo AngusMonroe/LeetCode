{
 "cells": [
  {
   "cell_type": "markdown",
   "metadata": {},
   "source": [
    "https://leetcode.com/problems/count-and-say/"
   ]
  },
  {
   "cell_type": "markdown",
   "metadata": {},
   "source": [
    "# 题目大意\n",
    "\n",
    "say是一个递归函数\n",
    "\n",
    "定义`say(1) = \"1\"`\n",
    "\n",
    "则有\n",
    "\n",
    "```\n",
    "say(2) = say \"1\" = 1个1 = \"11\"\n",
    "say(3) = say \"11\" = 2个1 = \"21\"\n",
    "say(4) = say \"21\" = 2个2 + 1个1 = \"12\" + \"11\" = \"1211\"\n",
    "say(5) = say \"1211\" = 1个1 + 1个2 + 2个1 = \"11\" + \"12\" + \"21\" = \"111221\"\n",
    "```\n",
    "\n",
    "# 解题思路\n",
    "\n",
    "递归判断即可"
   ]
  },
  {
   "cell_type": "code",
   "execution_count": null,
   "metadata": {
    "collapsed": true
   },
   "outputs": [],
   "source": [
    "class Solution:\n",
    "    def __init__(self):\n",
    "        self.say = ['1', '11', '21']\n",
    "        for i in range(3, 30):\n",
    "            s = self.say[i - 1]\n",
    "            ans = ''\n",
    "            num = 1\n",
    "            for i in range(1, len(s)):\n",
    "                if s[i] != s[i - 1]:\n",
    "                    ans += str(num) + s[i - 1]\n",
    "                    num = 1\n",
    "                else:\n",
    "                    num += 1\n",
    "            ans += str(num) + s[-1]\n",
    "            self.say.append(ans)\n",
    "        \n",
    "    def countAndSay(self, n: int) -> str:\n",
    "        return self.say[n - 1]"
   ]
  }
 ],
 "metadata": {
  "kernelspec": {
   "display_name": "Python 3",
   "language": "python",
   "name": "python3"
  },
  "language_info": {
   "codemirror_mode": {
    "name": "ipython",
    "version": 3
   },
   "file_extension": ".py",
   "mimetype": "text/x-python",
   "name": "python",
   "nbconvert_exporter": "python",
   "pygments_lexer": "ipython3",
   "version": "3.6.7"
  }
 },
 "nbformat": 4,
 "nbformat_minor": 2
}
