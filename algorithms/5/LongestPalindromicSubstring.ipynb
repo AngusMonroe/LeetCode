{
 "cells": [
  {
   "cell_type": "markdown",
   "metadata": {},
   "source": [
    "https://leetcode.com/problems/longest-palindromic-substring/"
   ]
  },
  {
   "cell_type": "markdown",
   "metadata": {},
   "source": [
    "## 题目大意\n",
    "求一个字符串的最长回文串\n",
    "\n",
    "## 解题思路\n",
    "方法1：暴力，从长到短遍历字符串进行判断，耗时较长，时间复杂度大概为O(n^3)\n",
    "\n",
    "方法2：dp，从短到长遍历字符串，假设子串为s[l:r]，那么如果s[l+1, r-1]为回文串，则只需满足s[l] == s[r]即可判断s[l:r]也为回文串，时间复杂度约为O(n^2)"
   ]
  },
  {
   "cell_type": "code",
   "execution_count": 1,
   "metadata": {
    "collapsed": true
   },
   "outputs": [],
   "source": [
    "class Solution:\n",
    "    def longestPalindrome(self, s: str) -> str:\n",
    "        l = len(s)\n",
    "        if l <= 1:\n",
    "            return s\n",
    "        while l > 1:\n",
    "            for start in range(len(s) - l + 1):\n",
    "                flag = True\n",
    "                can_s = s[start: start + l]\n",
    "                for _ in range(int(l/2)):\n",
    "                    if can_s[_] != can_s[-1 - _]:\n",
    "                        flag = False\n",
    "                        break\n",
    "                if flag:\n",
    "                    return can_s\n",
    "            l -= 1\n",
    "        return s[0]"
   ]
  },
  {
   "cell_type": "code",
   "execution_count": 2,
   "metadata": {
    "collapsed": true
   },
   "outputs": [],
   "source": [
    "class Solution2:\n",
    "    def longestPalindrome(self, s: str) -> str:\n",
    "        dp = [[0] * len(s) for _ in range(len(s))]\n",
    "        max_len = 0\n",
    "        ans = [0, 0]\n",
    "        for length in range(1, len(s)+1):\n",
    "            for l in range(len(s)-length+1):\n",
    "                r = l + length - 1\n",
    "                if length == 1 or (s[l] == s[r] and (length == 2 or (length > 2 and dp[l+1][r-1]))):\n",
    "                    dp[l][r] = 1\n",
    "                    if length > max_len:\n",
    "                        max_len = length\n",
    "                        ans = [l, r]\n",
    "        return s[ans[0] : ans[1]+1]"
   ]
  }
 ],
 "metadata": {
  "kernelspec": {
   "display_name": "Python 3",
   "language": "python",
   "name": "python3"
  },
  "language_info": {
   "codemirror_mode": {
    "name": "ipython",
    "version": 3
   },
   "file_extension": ".py",
   "mimetype": "text/x-python",
   "name": "python",
   "nbconvert_exporter": "python",
   "pygments_lexer": "ipython3",
   "version": "3.6.7"
  }
 },
 "nbformat": 4,
 "nbformat_minor": 2
}
