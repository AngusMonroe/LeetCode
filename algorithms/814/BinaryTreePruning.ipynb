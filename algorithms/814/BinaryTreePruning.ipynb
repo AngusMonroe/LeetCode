{
 "cells": [
  {
   "cell_type": "markdown",
   "metadata": {},
   "source": [
    "https://leetcode.com/problems/binary-tree-pruning/"
   ]
  },
  {
   "cell_type": "markdown",
   "metadata": {},
   "source": [
    "# 题目大意\n",
    "\n",
    "给定一个二叉树，删除其不包含1的分支\n",
    "\n",
    "# 解题思路\n",
    "\n",
    "递归进行检查"
   ]
  },
  {
   "cell_type": "code",
   "execution_count": null,
   "metadata": {
    "collapsed": true
   },
   "outputs": [],
   "source": [
    "# Definition for a binary tree node.\n",
    "# class TreeNode:\n",
    "#     def __init__(self, val=0, left=None, right=None):\n",
    "#         self.val = val\n",
    "#         self.left = left\n",
    "#         self.right = right\n",
    "class Solution:\n",
    "    def pruneTree(self, root: TreeNode) -> TreeNode:\n",
    "        \n",
    "        def check_node(node):\n",
    "            if not node:\n",
    "                return node, False\n",
    "            if not node.left and not node.right:\n",
    "                return node, node.val\n",
    "            node.left, l = check_node(node.left)\n",
    "            node.right, r = check_node(node.right)\n",
    "            if not l:\n",
    "                node.left = None\n",
    "            if not r:\n",
    "                node.right = None\n",
    "            if not (node.val or l or r):\n",
    "                return None, False\n",
    "            else:\n",
    "                return node,True\n",
    "        \n",
    "        root, _ = check_node(root)\n",
    "        return root\n",
    "        "
   ]
  }
 ],
 "metadata": {
  "kernelspec": {
   "display_name": "Python 3",
   "language": "python",
   "name": "python3"
  },
  "language_info": {
   "codemirror_mode": {
    "name": "ipython",
    "version": 3
   },
   "file_extension": ".py",
   "mimetype": "text/x-python",
   "name": "python",
   "nbconvert_exporter": "python",
   "pygments_lexer": "ipython3",
   "version": "3.6.7"
  }
 },
 "nbformat": 4,
 "nbformat_minor": 2
}
