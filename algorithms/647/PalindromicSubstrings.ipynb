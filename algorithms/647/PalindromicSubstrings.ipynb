{
 "cells": [
  {
   "cell_type": "markdown",
   "metadata": {},
   "source": [
    "https://leetcode.com/problems/palindromic-substrings/description/"
   ]
  },
  {
   "cell_type": "markdown",
   "metadata": {},
   "source": [
    "## 题目大意\n",
    "求一个字符串中回文串的个数（包括相同回文串）\n",
    "\n",
    "## 解题思路\n",
    "遍历字符串，将每个元素作为回文串中心元素判断其左右元素是否相同，奇数偶数长度回文串分开讨论"
   ]
  },
  {
   "cell_type": "code",
   "execution_count": null,
   "metadata": {
    "collapsed": true
   },
   "outputs": [],
   "source": [
    "class Solution {\n",
    "public:\n",
    "    int countSubstrings(string s) {\n",
    "        int ans = 0;\n",
    "        for (int i = 0; i < s.size(); i++) {\n",
    "            for (int j = 0; i - j >= 0 && i + j < s.size() && s[i - j] == s[i + j]; j++)\n",
    "                ans++;\n",
    "            for (int j = 0; i - j >= 0 && i + 1 + j < s.size() && s[i - j] == s[i + 1 + j]; j++)\n",
    "                ans++;\n",
    "        }\n",
    "        return ans;\n",
    "    }\n",
    "};"
   ]
  }
 ],
 "metadata": {
  "kernelspec": {
   "display_name": "C",
   "language": "c",
   "name": "c"
  },
  "language_info": {
   "file_extension": ".c",
   "mimetype": "text/plain",
   "name": "c"
  }
 },
 "nbformat": 4,
 "nbformat_minor": 2
}
