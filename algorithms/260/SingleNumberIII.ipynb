{
 "cells": [
  {
   "cell_type": "markdown",
   "metadata": {},
   "source": [
    "https://leetcode.com/problems/single-number-iii/description/"
   ]
  },
  {
   "cell_type": "markdown",
   "metadata": {},
   "source": [
    "## 题目大意\n",
    "一个数组中有两个元素只出现一次，其他元素均出现两次，求出现一次的两个元素\n",
    "\n",
    "## 解题思路\n",
    "先排序，然后判断一个元素是否与其左右两边的元素均不相同即可，排序时间复杂度为$O(nlog_{2}n)$，判断时间复杂度为$O(n)$"
   ]
  },
  {
   "cell_type": "code",
   "execution_count": null,
   "metadata": {
    "collapsed": true
   },
   "outputs": [],
   "source": [
    "class Solution {\n",
    "public:\n",
    "    vector<int> singleNumber(vector<int>& nums) {\n",
    "        vector<int> ans;\n",
    "        sort(nums.begin(), nums.end());\n",
    "        for (int i = 0; i < nums.size(); i++) {\n",
    "            if ((i == 0 || nums[i] != nums[i - 1]) &&  (i == nums.size() - 1 || nums[i] != nums[i + 1]))\n",
    "                ans.push_back(nums[i]);\n",
    "        }\n",
    "        return ans;\n",
    "    }\n",
    "};"
   ]
  },
  {
   "cell_type": "markdown",
   "metadata": {},
   "source": [
    "## Better Solution\n",
    "之前出现过一个数组中有一个元素只出现一次，其他元素均出现两次的题目，就直接将数组中所有元素做异或运算即可，但这道题有两个元素a，b只出现一次，也就意味着如果再这么做的话得到的res实际上是a^b。\n",
    "那么如何将a,b分离开来呢？\n",
    "- 首先res&(res-1)可以得到a与b最后一位不同的位置，也就是除了这一位为1，其他位置均为0\n",
    "- 接下来我们就可以以这一位是否为1为标准，对数组中其他元素进行分类，这样就将a,b分别分到了两类里面，实质上也就将问题转化为两个数组中都有一个元素只出现一次，其他元素均出现两次的问题\n",
    "- 像之前题目那样分别对得到的两个数组做异或运算即可"
   ]
  },
  {
   "cell_type": "code",
   "execution_count": null,
   "metadata": {
    "collapsed": true
   },
   "outputs": [],
   "source": [
    "vector<int> singleNumber(vector<int>& nums) {\n",
    "    int aXorb = 0;  // the result of a xor b;\n",
    "    for (auto item : nums) aXorb ^= item;\n",
    "    int lastBit = (aXorb & (aXorb - 1)) ^ aXorb;  // the last bit that a diffs b\n",
    "    int intA = 0, intB = 0;\n",
    "    for (auto item : nums) {\n",
    "        // based on the last bit, group the items into groupA(include a) and groupB\n",
    "        if (item & lastBit) intA = intA ^ item;\n",
    "        else intB = intB ^ item;\n",
    "    }\n",
    "    return vector<int>{intA, intB};   \n",
    "}"
   ]
  }
 ],
 "metadata": {
  "kernelspec": {
   "display_name": "C",
   "language": "c",
   "name": "c"
  },
  "language_info": {
   "file_extension": ".c",
   "mimetype": "text/plain",
   "name": "c"
  }
 },
 "nbformat": 4,
 "nbformat_minor": 2
}
