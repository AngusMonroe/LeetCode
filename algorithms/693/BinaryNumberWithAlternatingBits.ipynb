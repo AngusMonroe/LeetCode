{
 "cells": [
  {
   "cell_type": "markdown",
   "metadata": {},
   "source": [
    "https://leetcode.com/problems/binary-number-with-alternating-bits/description/"
   ]
  },
  {
   "cell_type": "markdown",
   "metadata": {},
   "source": [
    "## 题目大意\n",
    "给定一个数字，问其二进制表示中有没有连续的0或1\n",
    "\n",
    "## 解题思路\n",
    "遍历判断即可"
   ]
  },
  {
   "cell_type": "code",
   "execution_count": null,
   "metadata": {
    "collapsed": true
   },
   "outputs": [],
   "source": [
    "class Solution {\n",
    "public:\n",
    "    bool hasAlternatingBits(int n) {\n",
    "        int a, b;\n",
    "        b = n % 2;\n",
    "        n = n / 2;\n",
    "        while (n > 0) {\n",
    "            a = b;\n",
    "            b = n % 2;\n",
    "            n /= 2;\n",
    "            if (b == a)\n",
    "                return false;\n",
    "        }\n",
    "        return true;\n",
    "    }\n",
    "};"
   ]
  }
 ],
 "metadata": {
  "kernelspec": {
   "display_name": "C",
   "language": "c",
   "name": "c"
  },
  "language_info": {
   "file_extension": ".c",
   "mimetype": "text/plain",
   "name": "c"
  }
 },
 "nbformat": 4,
 "nbformat_minor": 2
}
