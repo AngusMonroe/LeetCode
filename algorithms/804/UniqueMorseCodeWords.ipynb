{
 "cells": [
  {
   "cell_type": "markdown",
   "metadata": {},
   "source": [
    "https://leetcode.com/problems/unique-morse-code-words/"
   ]
  },
  {
   "cell_type": "markdown",
   "metadata": {},
   "source": [
    "# 题目大意\n",
    "\n",
    "24个字母均可转换为一个由`·`和`-`组成的字符串，那么一个单词也可以由一个字符串组成，给定一个单词的list，求有多少种字符串表示\n",
    "\n",
    "# 解题思路\n",
    "\n",
    "转化对比即可"
   ]
  },
  {
   "cell_type": "code",
   "execution_count": null,
   "metadata": {
    "collapsed": true
   },
   "outputs": [],
   "source": [
    "class Solution:\n",
    "    def uniqueMorseRepresentations(self, words: List[str]) -> int:\n",
    "        alphabet = [\".-\",\"-...\",\"-.-.\",\"-..\",\".\",\"..-.\",\"--.\",\"....\",\"..\",\".---\",\"-.-\",\".-..\",\"--\",\"-.\",\"---\",\".--.\",\"--.-\",\".-.\",\"...\",\"-\",\"..-\",\"...-\",\".--\",\"-..-\",\"-.--\",\"--..\"]\n",
    "        dic = {}\n",
    "        for i, s in enumerate(alphabet):\n",
    "            dic[chr(ord(\"a\") + i)] = s\n",
    "        res_list = []\n",
    "        for word in words:\n",
    "            res = ''\n",
    "            for i in range(len(word)):\n",
    "                res += dic[word[i]]\n",
    "            if res not in res_list:\n",
    "                res_list.append(res)\n",
    "        return len(res_list)"
   ]
  },
  {
   "cell_type": "markdown",
   "metadata": {},
   "source": [
    "一个更简洁的方法："
   ]
  },
  {
   "cell_type": "code",
   "execution_count": null,
   "metadata": {
    "collapsed": true
   },
   "outputs": [],
   "source": [
    "class Solution(object):\n",
    "    def uniqueMorseRepresentations(self, words):\n",
    "        MORSE = [\".-\",\"-...\",\"-.-.\",\"-..\",\".\",\"..-.\",\"--.\",\n",
    "                 \"....\",\"..\",\".---\",\"-.-\",\".-..\",\"--\",\"-.\",\n",
    "                 \"---\",\".--.\",\"--.-\",\".-.\",\"...\",\"-\",\"..-\",\n",
    "                 \"...-\",\".--\",\"-..-\",\"-.--\",\"--..\"]\n",
    "\n",
    "        seen = {\"\".join(MORSE[ord(c) - ord('a')] for c in word)\n",
    "                for word in words}\n",
    "\n",
    "        return len(seen)"
   ]
  }
 ],
 "metadata": {
  "kernelspec": {
   "display_name": "Python 3",
   "language": "python",
   "name": "python3"
  },
  "language_info": {
   "codemirror_mode": {
    "name": "ipython",
    "version": 3
   },
   "file_extension": ".py",
   "mimetype": "text/x-python",
   "name": "python",
   "nbconvert_exporter": "python",
   "pygments_lexer": "ipython3",
   "version": "3.6.7"
  }
 },
 "nbformat": 4,
 "nbformat_minor": 2
}
