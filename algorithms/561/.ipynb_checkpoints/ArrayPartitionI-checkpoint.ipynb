{
 "cells": [
  {
   "cell_type": "markdown",
   "metadata": {},
   "source": [
    "https://leetcode.com/problems/array-partition-i/description/"
   ]
  },
  {
   "cell_type": "markdown",
   "metadata": {},
   "source": [
    "## 题目大意\n",
    "给定一个长度为2n的数组，将其中元素两两配对，问每对较小元素的和为多少\n",
    "\n",
    "## 知识点\n",
    "先排序，再取其奇数项的和即可\n",
    "\n",
    "### vocter循环遍历的三种方法\n",
    "\n",
    "```\n",
    "typedef vector<int> vInt;\n",
    "\n",
    "void print_vec_operator(const vInt & v) {//方法一，采用下标访问\n",
    "    int i;\n",
    "    for (i = 0; i<v.size(); i++) {\n",
    "        cout << v[i] << \" \";\n",
    "    }\n",
    "    cout << endl;\n",
    "}\n",
    "\n",
    "void print_vec_iterator(const vInt &v) {//方法二，采用迭代器访问\n",
    "    for (vInt::const_iterator iter = v.begin(); iter != v.end();iter++) {\n",
    "        cout << *iter << \" \";\n",
    "    }\n",
    "    cout << endl;\n",
    "}\n",
    "void print_vec_algorithm(const vInt &v) {//方法三，将容器的内容复制到cout绑定的迭代器\n",
    "    copy(v.begin(), v.end(), ostream_iterator<int>(cout, \" \"));\n",
    "    cout << endl;\n",
    "}\n",
    "```"
   ]
  },
  {
   "cell_type": "code",
   "execution_count": null,
   "metadata": {
    "collapsed": true
   },
   "outputs": [],
   "source": [
    "class Solution {\n",
    "public:\n",
    "    int arrayPairSum(vector<int>& nums) {\n",
    "        int ans = 0;\n",
    "        sort(nums.begin(), nums.end());\n",
    "        for (int i = 0; i < nums.size(); i++) {\n",
    "            if (i % 2 == 0)\n",
    "                ans += nums[i];\n",
    "        }\n",
    "        return ans;\n",
    "    }\n",
    "};"
   ]
  }
 ],
 "metadata": {
  "kernelspec": {
   "display_name": "C",
   "language": "c",
   "name": "c"
  },
  "language_info": {
   "file_extension": ".c",
   "mimetype": "text/plain",
   "name": "c"
  }
 },
 "nbformat": 4,
 "nbformat_minor": 2
}
