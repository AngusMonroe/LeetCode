{
 "cells": [
  {
   "cell_type": "markdown",
   "metadata": {},
   "source": [
    "https://leetcode.com/problems/find-the-difference/description/"
   ]
  },
  {
   "cell_type": "markdown",
   "metadata": {},
   "source": [
    "## 题目大意\n",
    "给定字符串s和字符串t，t是将s打乱顺序后插入一个字母得到的，求插入的那个字母\n",
    "\n",
    "## 解题思路\n",
    "两个字符串求异或和即可"
   ]
  },
  {
   "cell_type": "code",
   "execution_count": null,
   "metadata": {
    "collapsed": true
   },
   "outputs": [],
   "source": [
    "class Solution {\n",
    "public:\n",
    "    char findTheDifference(string s, string t) {\n",
    "        char ch = 0;\n",
    "        for(int i = 0; i < s.size(); i++)\n",
    "            ch ^= t[i] ^s[i];\n",
    "        return ch ^ t[t.size() - 1];\n",
    "    }\n",
    "};"
   ]
  }
 ],
 "metadata": {
  "kernelspec": {
   "display_name": "C",
   "language": "c",
   "name": "c"
  },
  "language_info": {
   "file_extension": ".c",
   "mimetype": "text/plain",
   "name": "c"
  }
 },
 "nbformat": 4,
 "nbformat_minor": 2
}
