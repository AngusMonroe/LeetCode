{
 "cells": [
  {
   "cell_type": "markdown",
   "metadata": {},
   "source": [
    "https://leetcode.com/problems/detect-capital/description/"
   ]
  },
  {
   "cell_type": "markdown",
   "metadata": {},
   "source": [
    "## 题目大意\n",
    "给定一个单词，判断其是否合法\n",
    "\n",
    "合法条件：\n",
    "\n",
    "1. 单词首字母大写，其余字母小写\n",
    "2. 单词全部大写\n",
    "3. 单词全部小写\n",
    "\n",
    "## 解题思路\n",
    "由于单词首字母大写或小写都可以，所以先对单词第二个字母进行判断，如果第二个字母为大写，则单词必全部大写，如果第二个字母为小写，则首字母大写小写均可，只需判断第二个字母后的字母是否均为小写即可"
   ]
  },
  {
   "cell_type": "code",
   "execution_count": null,
   "metadata": {
    "collapsed": true
   },
   "outputs": [],
   "source": [
    "class Solution {\n",
    "public:\n",
    "    bool detectCapitalUse(string word) {\n",
    "        if(word[1] >= 'A' && word[1] <= 'Z') {\n",
    "        for(int i = 0; i < word.length(); i++)\n",
    "            if(word[i] >= 'a' && word[i] <= 'z')\n",
    "                return false;\n",
    "        }\n",
    "        else {\n",
    "            for(int i = 2; i < word.length(); i++)\n",
    "                if(word[i] >= 'A' && word[i] <='Z')\n",
    "                    return false;\n",
    "        }\n",
    "        return true;\n",
    "    }\n",
    "};"
   ]
  }
 ],
 "metadata": {
  "kernelspec": {
   "display_name": "C",
   "language": "c",
   "name": "c"
  },
  "language_info": {
   "file_extension": ".c",
   "mimetype": "text/plain",
   "name": "c"
  }
 },
 "nbformat": 4,
 "nbformat_minor": 2
}
