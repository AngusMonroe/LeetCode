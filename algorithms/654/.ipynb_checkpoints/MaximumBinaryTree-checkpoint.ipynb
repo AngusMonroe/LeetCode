{
 "cells": [
  {
   "cell_type": "markdown",
   "metadata": {},
   "source": [
    "https://leetcode.com/problems/maximum-binary-tree/description/"
   ]
  },
  {
   "cell_type": "code",
   "execution_count": null,
   "metadata": {
    "collapsed": true
   },
   "outputs": [],
   "source": [
    "/**\n",
    " * Definition for a binary tree node.\n",
    " * struct TreeNode {\n",
    " *     int val;\n",
    " *     TreeNode *left;\n",
    " *     TreeNode *right;\n",
    " *     TreeNode(int x) : val(x), left(NULL), right(NULL) {}\n",
    " * };\n",
    " */\n",
    "class Solution {\n",
    "public:\n",
    "    \n",
    "    TreeNode* constructMaximumBinaryTree(vector<int>& nums) {\n",
    "           vector<TreeNode*> stk;\n",
    "        for (int i = 0; i < nums.size(); i++) {\n",
    "            TreeNode* tree = new TreeNode(nums[i]);\n",
    "            while (!stk.empty() && stk.back()->val < nums[i]) {\n",
    "                tree->left = stk.back();\n",
    "                stk.pop_back();\n",
    "            }\n",
    "            if (!stk.empty())\n",
    "                stk.back()->right = tree;\n",
    "            stk.push_back(tree);\n",
    "        }\n",
    "        return stk.front();  \n",
    "    }\n",
    "};"
   ]
  }
 ],
 "metadata": {
  "kernelspec": {
   "display_name": "C",
   "language": "c",
   "name": "c"
  },
  "language_info": {
   "file_extension": ".c",
   "mimetype": "text/plain",
   "name": "c"
  }
 },
 "nbformat": 4,
 "nbformat_minor": 2
}
