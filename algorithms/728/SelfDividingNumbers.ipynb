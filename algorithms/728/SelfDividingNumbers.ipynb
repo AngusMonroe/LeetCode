{
 "cells": [
  {
   "cell_type": "markdown",
   "metadata": {},
   "source": [
    "https://leetcode.com/problems/self-dividing-numbers/description/"
   ]
  },
  {
   "cell_type": "markdown",
   "metadata": {},
   "source": [
    "## 题目大意\n",
    "题目定义了一种自分数，即可以被自身的每一位整除的整数，比如128 % 1 = 0，128 % 2 = 0，128 % 8 = 0\n",
    "\n",
    "## 知识点\n",
    "主要考察了数位提取的方法\n",
    "\n",
    "## PS\n",
    "第一次达成了运行时间高于100%代码的成就2333\n",
    "没有像之前一样造一个惨不忍睹的轮子我很欣慰\n",
    "![屏幕快照 2018-03-19 上午10.55.55.png](https://i.loli.net/2018/03/19/5aaf28936cde4.png)"
   ]
  },
  {
   "cell_type": "code",
   "execution_count": null,
   "metadata": {
    "collapsed": true
   },
   "outputs": [],
   "source": [
    "class Solution {\n",
    "public:\n",
    "    \n",
    "    vector<int> selfDividingNumbers(int left, int right) {\n",
    "        vector<int> ans;\n",
    "        for (int i = left; i <= right; i++) {\n",
    "            \n",
    "            bool flag = true;\n",
    "            \n",
    "            for (int num = i; num > 1; num /= 10) {\n",
    "                if (num % 10 == 0 || i % (num % 10) != 0) {\n",
    "                    flag = false;\n",
    "                    break;\n",
    "                }\n",
    "            }\n",
    "            \n",
    "            if (flag)\n",
    "                ans.push_back(i);\n",
    "        }\n",
    "        return ans;\n",
    "    }\n",
    "};"
   ]
  }
 ],
 "metadata": {
  "kernelspec": {
   "display_name": "C",
   "language": "c",
   "name": "c"
  },
  "language_info": {
   "file_extension": ".c",
   "mimetype": "text/plain",
   "name": "c"
  }
 },
 "nbformat": 4,
 "nbformat_minor": 2
}
