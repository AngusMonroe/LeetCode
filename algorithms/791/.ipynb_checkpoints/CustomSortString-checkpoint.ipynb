{
 "cells": [
  {
   "cell_type": "markdown",
   "metadata": {},
   "source": [
    "https://leetcode.com/problems/custom-sort-string/description/"
   ]
  },
  {
   "cell_type": "markdown",
   "metadata": {},
   "source": [
    "## 题目大意\n",
    "给定两个字符串，要求按照第一个字符串的字符顺序调整第二个字符串的顺序\n",
    "\n",
    "## 知识点\n",
    "刚看题的时候觉得需要暴力遍历两个字符串，后来仔细想想只需要用sort函数进行排序即可\n",
    "需要注意的是，将cmp函数写在sort函数内的方法（因为单独在外面写cmp函数会报错）"
   ]
  },
  {
   "cell_type": "code",
   "execution_count": null,
   "metadata": {
    "collapsed": true
   },
   "outputs": [],
   "source": [
    "class Solution {\n",
    "public:\n",
    "    string customSortString(string S, string T) {\n",
    "        sort(T.begin(), T.end(),\n",
    "             [&](char a, char b) { return S.find(a) < S.find(b); });\n",
    "        return T;\n",
    "    }\n",
    "};"
   ]
  }
 ],
 "metadata": {
  "kernelspec": {
   "display_name": "C",
   "language": "c",
   "name": "c"
  },
  "language_info": {
   "file_extension": ".c",
   "mimetype": "text/plain",
   "name": "c"
  }
 },
 "nbformat": 4,
 "nbformat_minor": 2
}
