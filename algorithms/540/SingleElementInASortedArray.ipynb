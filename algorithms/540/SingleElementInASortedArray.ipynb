{
 "cells": [
  {
   "cell_type": "markdown",
   "metadata": {},
   "source": [
    "https://leetcode.com/problems/single-element-in-a-sorted-array/description/"
   ]
  },
  {
   "cell_type": "markdown",
   "metadata": {},
   "source": [
    "## 题目大意\n",
    "给定一个排好序的数组，其中只有一个元素出现一次，其他所有元素出现两次，请找出出现一次的元素\n",
    "\n",
    "## 解题思路\n",
    "由于只有一个元素出现一次，其他所有元素出现两次，也就是说出现一次的元素一定出现在数组的偶数位置（从0开始），所以只需要遍历数组的奇数位置即可，如果数组奇数位置上的元素与其前面的元素不相等，则说明该元素前面的元素只出现了一次"
   ]
  },
  {
   "cell_type": "code",
   "execution_count": null,
   "metadata": {
    "collapsed": true
   },
   "outputs": [],
   "source": [
    "class Solution {\n",
    "public:\n",
    "    int singleNonDuplicate(vector<int>& nums) {\n",
    "        int ans;\n",
    "        for (int i = 1; i < nums.size(); i += 2) {\n",
    "            if (nums[i] != nums[i - 1])\n",
    "                return nums[i - 1];\n",
    "        }\n",
    "        return nums[nums.size() - 1];\n",
    "    }\n",
    "};"
   ]
  }
 ],
 "metadata": {
  "kernelspec": {
   "display_name": "C",
   "language": "c",
   "name": "c"
  },
  "language_info": {
   "file_extension": ".c",
   "mimetype": "text/plain",
   "name": "c"
  }
 },
 "nbformat": 4,
 "nbformat_minor": 2
}
