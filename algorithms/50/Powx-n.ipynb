{
 "cells": [
  {
   "cell_type": "markdown",
   "metadata": {},
   "source": [
    "https://leetcode.com/problems/powx-n/"
   ]
  },
  {
   "cell_type": "markdown",
   "metadata": {},
   "source": [
    "# 题目大意\n",
    "\n",
    "手动实现一个pow函数\n",
    "\n",
    "# 解题思路\n",
    "\n",
    "将$x^n$化为多项式递归求解。\n",
    "\n",
    "如$2^{10}=(2^5)^2=((2^2)^2*2^1)^2$ "
   ]
  },
  {
   "cell_type": "code",
   "execution_count": null,
   "metadata": {
    "collapsed": true
   },
   "outputs": [],
   "source": [
    "class Solution:\n",
    "    def myPow(self, x: float, n: int) -> float:\n",
    "        if n == 0:\n",
    "            return 1\n",
    "        elif n == 1:\n",
    "            return x\n",
    "        elif n == 2:\n",
    "            return x * x\n",
    "        elif n < 0:\n",
    "            x = 1 / x\n",
    "            n = -n\n",
    "        ans = 1\n",
    "        while n > 0:\n",
    "            if n == 1:\n",
    "                ans *= x\n",
    "                n -= 1\n",
    "            else:\n",
    "                m = int(n / 2)\n",
    "                tmp = self.myPow(x, m)\n",
    "                ans *= tmp * tmp\n",
    "                n -= m * 2\n",
    "        return ans"
   ]
  }
 ],
 "metadata": {
  "kernelspec": {
   "display_name": "Python 3",
   "language": "python",
   "name": "python3"
  },
  "language_info": {
   "codemirror_mode": {
    "name": "ipython",
    "version": 3
   },
   "file_extension": ".py",
   "mimetype": "text/x-python",
   "name": "python",
   "nbconvert_exporter": "python",
   "pygments_lexer": "ipython3",
   "version": "3.6.7"
  }
 },
 "nbformat": 4,
 "nbformat_minor": 2
}
