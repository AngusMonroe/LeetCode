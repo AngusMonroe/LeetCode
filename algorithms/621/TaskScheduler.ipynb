{
 "cells": [
  {
   "cell_type": "markdown",
   "metadata": {},
   "source": [
    "https://leetcode.com/problems/task-scheduler/"
   ]
  },
  {
   "cell_type": "markdown",
   "metadata": {},
   "source": [
    "# 题目大意\n",
    "\n",
    "给定一个任务列表，每个任务由单个大写英文字母表示，最多26个，在进行两个相同任务之间需要至少间隔n个其他任务，否则则需要进行等待，假设每个任务的完成时间相同，问最快多长时间能完成这些任务\n",
    "\n",
    "# 解题思路\n",
    "\n",
    "不用直接的构造任务队列。分析题意可知，最佳的执行任务方法是先执行出现次数多的任务，并保证两个任务的间隔为n。\n",
    "\n",
    "所以我们可以先构造一个任务出现次数的list并将其排序，接下来从出现次数高到低依次安排任务，并实时更新任务出现次数list，每当安排的任务等于n个就重新排序任务出现次数list，若可安排的任务数小于n，则进行等待。直至清空任务出现次数list"
   ]
  },
  {
   "cell_type": "code",
   "execution_count": null,
   "metadata": {
    "collapsed": true
   },
   "outputs": [],
   "source": [
    "class Solution:\n",
    "    def leastInterval(self, tasks: List[str], n: int) -> int:\n",
    "        cnt = [0] * 26\n",
    "        for task in tasks:\n",
    "            cnt[ord(task) - ord('A')] += 1\n",
    "        cnt.sort()\n",
    "        \n",
    "        time = 0\n",
    "        while cnt[-1]:\n",
    "            i = 0\n",
    "            num = 25\n",
    "            while i <= n and cnt[-1]:\n",
    "                if cnt[num]:\n",
    "                    cnt[num] -= 1\n",
    "                    num -= 1\n",
    "                time += 1\n",
    "                i += 1\n",
    "            cnt.sort()\n",
    "        return time"
   ]
  }
 ],
 "metadata": {
  "kernelspec": {
   "display_name": "Python 3",
   "language": "python",
   "name": "python3"
  },
  "language_info": {
   "codemirror_mode": {
    "name": "ipython",
    "version": 3
   },
   "file_extension": ".py",
   "mimetype": "text/x-python",
   "name": "python",
   "nbconvert_exporter": "python",
   "pygments_lexer": "ipython3",
   "version": "3.6.7"
  }
 },
 "nbformat": 4,
 "nbformat_minor": 2
}
