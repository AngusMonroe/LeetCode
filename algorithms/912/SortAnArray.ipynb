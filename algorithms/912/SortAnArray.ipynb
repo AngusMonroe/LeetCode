{
 "cells": [
  {
   "cell_type": "markdown",
   "metadata": {},
   "source": [
    "https://leetcode.com/problems/sort-an-array/"
   ]
  },
  {
   "cell_type": "markdown",
   "metadata": {},
   "source": [
    "## 题目大意\n",
    "排序\n",
    "\n",
    "## 解题思路\n",
    "总结一下排序算法"
   ]
  },
  {
   "cell_type": "markdown",
   "metadata": {},
   "source": [
    "最简单的调库："
   ]
  },
  {
   "cell_type": "code",
   "execution_count": null,
   "metadata": {
    "collapsed": true
   },
   "outputs": [],
   "source": [
    "class Solution1:\n",
    "    def sortArray(self, nums: List[int]) -> List[int]:\n",
    "        nums.sort()\n",
    "        return nums"
   ]
  },
  {
   "cell_type": "markdown",
   "metadata": {},
   "source": [
    "冒泡（tle了）："
   ]
  },
  {
   "cell_type": "code",
   "execution_count": null,
   "metadata": {
    "collapsed": true
   },
   "outputs": [],
   "source": [
    "class Solution2:\n",
    "    def sortArray(self, nums: List[int]) -> List[int]:\n",
    "        for i in range(len(nums)):\n",
    "            for j in range(len(nums) - i - 1):\n",
    "                if nums[j] > nums[j + 1]:\n",
    "                    tmp = nums[j]\n",
    "                    nums[j] = nums[j + 1]\n",
    "                    nums[j + 1] = tmp\n",
    "        return nums"
   ]
  },
  {
   "cell_type": "markdown",
   "metadata": {},
   "source": [
    "二分："
   ]
  },
  {
   "cell_type": "code",
   "execution_count": null,
   "metadata": {
    "collapsed": true
   },
   "outputs": [],
   "source": [
    "class Solution3:\n",
    "    def sortArray(self, nums: List[int]) -> List[int]:\n",
    "        ll = [nums[0]]\n",
    "        def check(l, r, num):\n",
    "            if int((l + r) / 2)  == l:\n",
    "                if num > ll[l]:\n",
    "                    ll.insert(l + 1, num)\n",
    "                else:\n",
    "                    ll.insert(l, num)\n",
    "            else:\n",
    "                if num < ll[int((l + r) / 2)]:\n",
    "                    check(l, int((l + r) / 2), num)\n",
    "                else:\n",
    "                    check(int((l + r) / 2), r, num)\n",
    "        \n",
    "        l = 0\n",
    "        r = 1\n",
    "        for r in range(1, len(nums)):\n",
    "            check(l, r, nums[r])\n",
    "        \n",
    "        return ll"
   ]
  },
  {
   "cell_type": "markdown",
   "metadata": {},
   "source": [
    "归并："
   ]
  },
  {
   "cell_type": "code",
   "execution_count": null,
   "metadata": {
    "collapsed": true
   },
   "outputs": [],
   "source": [
    "class Solution:\n",
    "    def sortArray(self, nums: List[int]) -> List[int]:\n",
    "        return self.mergesort(nums)\n",
    "    \n",
    "    def mergesort(self, nums):\n",
    "        if len(nums) <= 1:\n",
    "            return nums\n",
    "        pivot = len(nums) // 2\n",
    "        return self.merge(self.mergesort(nums[:pivot]), self.mergesort(nums[pivot:]))\n",
    "    \n",
    "    def merge(self, l, r):\n",
    "        lc, rc, ret = 0, 0, []\n",
    "        while lc < len(l) and rc < len(r):\n",
    "            if l[lc] < r[rc]:\n",
    "                ret.append(l[lc])\n",
    "                lc += 1\n",
    "            else:\n",
    "                ret.append(r[rc])\n",
    "                rc += 1\n",
    "        ret.extend(l[lc:])\n",
    "        ret.extend(r[rc:])\n",
    "        return ret"
   ]
  }
 ],
 "metadata": {
  "kernelspec": {
   "display_name": "Python 3",
   "language": "python",
   "name": "python3"
  },
  "language_info": {
   "codemirror_mode": {
    "name": "ipython",
    "version": 3
   },
   "file_extension": ".py",
   "mimetype": "text/x-python",
   "name": "python",
   "nbconvert_exporter": "python",
   "pygments_lexer": "ipython3",
   "version": "3.6.7"
  }
 },
 "nbformat": 4,
 "nbformat_minor": 2
}
