{
 "cells": [
  {
   "cell_type": "markdown",
   "metadata": {},
   "source": [
    "https://leetcode.com/problems/largest-triangle-area/description/"
   ]
  },
  {
   "cell_type": "markdown",
   "metadata": {},
   "source": [
    "## 题目大意\n",
    "给出平面上一系列点的坐标，求由其中三个点组成的最大三角形面积\n",
    "\n",
    "## 解题思路\n",
    "\n",
    "暴力循环三个点的所有组合并使用“三点三角形面积公式”计算这三个点的面积。\n",
    "\n",
    "时间复杂度为$O(N^{3})$，但N <= 50速度足够快。\n",
    "\n",
    "“三点三角形面积公式”证明过程：\n",
    "\n",
    "![屏幕快照 2018-04-27 下午11.02.09.png](https://i.loli.net/2018/04/27/5ae33b82982e5.png)"
   ]
  },
  {
   "cell_type": "code",
   "execution_count": null,
   "metadata": {
    "collapsed": true
   },
   "outputs": [],
   "source": [
    "class Solution {\n",
    "public:\n",
    "    \n",
    "    double largestTriangleArea(vector<vector<int>>& points) {\n",
    "        double res = 0;\n",
    "        for (auto &i : points)\n",
    "            for (auto &j : points)\n",
    "                for (auto &k : points)\n",
    "            res = max(res, 0.5 * abs(i[0] * j[1] + j[0] * k[1] + k[0] * i[1]- j[0] * i[1] - k[0] * j[1] - i[0] * k[1]));\n",
    "        return res;\n",
    "    }\n",
    "};"
   ]
  }
 ],
 "metadata": {
  "kernelspec": {
   "display_name": "C",
   "language": "c",
   "name": "c"
  },
  "language_info": {
   "file_extension": ".c",
   "mimetype": "text/plain",
   "name": "c"
  }
 },
 "nbformat": 4,
 "nbformat_minor": 2
}
