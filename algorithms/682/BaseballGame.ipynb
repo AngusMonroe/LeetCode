{
 "cells": [
  {
   "cell_type": "markdown",
   "metadata": {},
   "source": [
    "https://leetcode.com/problems/baseball-game/description/"
   ]
  },
  {
   "cell_type": "markdown",
   "metadata": {},
   "source": [
    "## 题目大意\n",
    "输入一系列的字符串，如果为数字则将其添加进队列，如果是'+'则将前两个数字的和添加进队列，如果是'C'则队列末尾的数字无效（将其弹出队列），如果是'D'则将上一个数字的二倍添加进队列，返回队列的数字总和\n",
    "\n",
    "## 知识点\n",
    "由于传入的是String类型的vector，所以判断'+'、'C'、'D'等字符只需判断ops[i][0]即可，遇到数字就需要将其转化为int类型，这里就要用到stoi函数：\n",
    "```\n",
    "std::string str;  \n",
    "int i = std::stoi(str);  \n",
    "```"
   ]
  },
  {
   "cell_type": "code",
   "execution_count": null,
   "metadata": {
    "collapsed": true
   },
   "outputs": [],
   "source": [
    "class Solution {\n",
    "public:\n",
    "    int calPoints(vector<string>& ops) {\n",
    "        vector<int> num;\n",
    "        int ans = 0;\n",
    "        for (int i = 0; i < ops.size(); i++) {\n",
    "            if (ops[i][0] == 'C')\n",
    "                num.pop_back();\n",
    "            else if (ops[i][0] == 'D')\n",
    "                num.push_back(num[num.size() - 1] * 2);\n",
    "            else if (ops[i][0] == '+') {\n",
    "                int num1 = num[num.size() - 1];\n",
    "                int num2 = num[num.size() - 2];\n",
    "                num.push_back(num1 + num2);\n",
    "            }\n",
    "            else\n",
    "                num.push_back(stoi(ops[i]));\n",
    "        }\n",
    "        vector<int>::iterator it;\n",
    "        for(it = num.begin(); it != num.end(); it++)\n",
    "            ans += *it;\n",
    "        return ans;\n",
    "    }\n",
    "};"
   ]
  }
 ],
 "metadata": {
  "kernelspec": {
   "display_name": "C",
   "language": "c",
   "name": "c"
  },
  "language_info": {
   "file_extension": ".c",
   "mimetype": "text/plain",
   "name": "c"
  }
 },
 "nbformat": 4,
 "nbformat_minor": 2
}
