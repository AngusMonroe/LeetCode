{
 "cells": [
  {
   "cell_type": "markdown",
   "metadata": {},
   "source": [
    "https://leetcode.com/problems/sum-of-two-integers/description/"
   ]
  },
  {
   "cell_type": "markdown",
   "metadata": {},
   "source": [
    "## 题目大意\n",
    "要求不用加法减法实现a+b\n",
    "\n",
    "## 解题思路\n",
    "按位进行运算"
   ]
  },
  {
   "cell_type": "code",
   "execution_count": null,
   "metadata": {
    "collapsed": true
   },
   "outputs": [],
   "source": [
    "class Solution {\n",
    "public:\n",
    "    int getSum(int a, int b) {\n",
    "        if (b == 0) {\n",
    "            return a;\n",
    "        }\n",
    "        int sum = a ^ b;            //加操作\n",
    "        int carry = (a & b) << 1;   //进位操作\n",
    "        return getSum(sum, carry);     //将加操作结果加上进位操作结果\n",
    "    }\n",
    "};"
   ]
  }
 ],
 "metadata": {
  "kernelspec": {
   "display_name": "C",
   "language": "c",
   "name": "c"
  },
  "language_info": {
   "file_extension": ".c",
   "mimetype": "text/plain",
   "name": "c"
  }
 },
 "nbformat": 4,
 "nbformat_minor": 2
}
