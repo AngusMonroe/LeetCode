{
 "cells": [
  {
   "cell_type": "markdown",
   "metadata": {},
   "source": [
    "https://leetcode.com/problems/escape-the-ghosts/description/"
   ]
  },
  {
   "cell_type": "markdown",
   "metadata": {},
   "source": [
    "## 题目大意\n",
    "\n",
    "你从(0, 0)位置出发，需要到达目的地(target[0], target[1])，不过周围有许多鬼魂，你和它们每次可以向4个方向移动一格，问你是否能在被鬼魂碰到之前到达目的地，同时到达也不算逃脱成功。\n",
    "\n",
    "## 解题思路\n",
    "\n",
    "对于ghost而言，其最好的策略就是在pacman之前到达出口，然后在出口处阻止pacman。因此，我们仅仅需要计算pacman是否可以在每个gphost到达出口之前到达出口。如果是，则说明pacman可成功脱险；否则pacman就一定会被ghost堵死在门口。"
   ]
  },
  {
   "cell_type": "code",
   "execution_count": null,
   "metadata": {
    "collapsed": true
   },
   "outputs": [],
   "source": [
    "class Solution {\n",
    "public:\n",
    "    bool escapeGhosts(vector<vector<int>>& ghosts, vector<int>& target) {\n",
    "        int d = abs(target[0]) + abs(target[1]);\n",
    "        for(auto g: ghosts)\n",
    "            if (d >= abs(target[0] - g[0]) + abs(target[1] - g[1]))\n",
    "                return false;\n",
    "        return true;\n",
    "    }\n",
    "};"
   ]
  }
 ],
 "metadata": {
  "kernelspec": {
   "display_name": "C",
   "language": "c",
   "name": "c"
  },
  "language_info": {
   "file_extension": ".c",
   "mimetype": "text/plain",
   "name": "c"
  }
 },
 "nbformat": 4,
 "nbformat_minor": 2
}
