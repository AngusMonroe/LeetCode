{
 "cells": [
  {
   "cell_type": "markdown",
   "metadata": {},
   "source": [
    "https://leetcode.com/problems/max-area-of-island/description/"
   ]
  },
  {
   "cell_type": "markdown",
   "metadata": {},
   "source": [
    "## 题目大意\n",
    "给定一个二维数组，求连续的1有多少个（上下左右相邻视为连续）\n",
    "\n",
    "## 解题思路\n",
    "暴力遍历递归求解即可"
   ]
  },
  {
   "cell_type": "code",
   "execution_count": null,
   "metadata": {
    "collapsed": true
   },
   "outputs": [],
   "source": [
    "class Solution {\n",
    "public:\n",
    "    int maxAreaOfIsland(vector<vector<int>>& grid) {\n",
    "        int max_area = 0;\n",
    "        for(int i = 0; i < grid.size(); i++)\n",
    "            for(int j = 0; j < grid[0].size(); j++)\n",
    "                if(grid[i][j] == 1)max_area = max(max_area, AreaOfIsland(grid, i, j));\n",
    "        return max_area;\n",
    "    }\n",
    "    \n",
    "    int AreaOfIsland(vector<vector<int>>& grid, int i, int j){\n",
    "        if( i >= 0 && i < grid.size() && j >= 0 && j < grid[0].size() && grid[i][j] == 1){\n",
    "            grid[i][j] = 0;\n",
    "            return 1 + AreaOfIsland(grid, i+1, j) + AreaOfIsland(grid, i-1, j) + AreaOfIsland(grid, i, j-1) + AreaOfIsland(grid, i, j+1);\n",
    "        }\n",
    "        return 0;\n",
    "    }\n",
    "};"
   ]
  }
 ],
 "metadata": {
  "kernelspec": {
   "display_name": "C",
   "language": "c",
   "name": "c"
  },
  "language_info": {
   "file_extension": ".c",
   "mimetype": "text/plain",
   "name": "c"
  }
 },
 "nbformat": 4,
 "nbformat_minor": 2
}
