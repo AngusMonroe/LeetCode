{
 "cells": [
  {
   "cell_type": "markdown",
   "metadata": {},
   "source": [
    "https://leetcode.com/problems/wildcard-matching/"
   ]
  },
  {
   "cell_type": "markdown",
   "metadata": {},
   "source": [
    "## 题目大意\n",
    "给一个字符串s和一个pattern p，p中可能包含?可以用于匹配单个任意字符、*可以用于匹配0到任意数量的任意字符，问pattern与字符串能否匹配，返回True/False\n",
    "\n",
    "## 解题思路\n",
    "dp，其实纯递归也能解决，但这个题时间卡得比较死，会tle，初始化一个len(s)\\*len(p)的dp矩阵用于处理中间状态，可以减少重复的运算"
   ]
  },
  {
   "cell_type": "code",
   "execution_count": 1,
   "metadata": {
    "collapsed": true
   },
   "outputs": [],
   "source": [
    "class Solution:\n",
    "    def dp(self,A,B,i,j,aux):\n",
    "        if aux[i][j] != -1:\n",
    "            return aux[i][j]\n",
    "        ans = 0\n",
    "        if i == 0 and j == 0:\n",
    "            ans = 1\n",
    "\n",
    "        elif j == 0:\n",
    "            ans = 0\n",
    "\n",
    "        elif i == 0:\n",
    "            if B[j-1] == '*':\n",
    "                ans = self.dp(A,B,i,j-1,aux)\n",
    "\n",
    "        elif A[i-1] == B[j-1] or B[j-1] == '?':\n",
    "            ans =  self.dp(A,B,i-1,j-1,aux)\n",
    "\n",
    "        elif B[j-1] == '*':\n",
    "            ans = self.dp(A,B,i-1,j,aux) or self.dp(A,B,i,j-1,aux)\n",
    "        else:\n",
    "            ans = 0\n",
    "        aux[i][j] = ans\n",
    "        return ans\n",
    "    \n",
    "    def isMatch(self, s: str, p: str) -> bool:\n",
    "        A = '_'+s\n",
    "        B = '_'+p\n",
    "        m = len(A)\n",
    "        n = len(B)\n",
    "        dp = [[-1]*(n+1) for _ in range(m+1)]\n",
    "        return self.dp(A,B,m,n,dp)"
   ]
  }
 ],
 "metadata": {
  "kernelspec": {
   "display_name": "Python 3",
   "language": "python",
   "name": "python3"
  },
  "language_info": {
   "codemirror_mode": {
    "name": "ipython",
    "version": 3
   },
   "file_extension": ".py",
   "mimetype": "text/x-python",
   "name": "python",
   "nbconvert_exporter": "python",
   "pygments_lexer": "ipython3",
   "version": "3.6.7"
  }
 },
 "nbformat": 4,
 "nbformat_minor": 2
}
