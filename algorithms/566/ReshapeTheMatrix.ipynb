{
 "cells": [
  {
   "cell_type": "markdown",
   "metadata": {},
   "source": [
    "https://leetcode.com/problems/reshape-the-matrix/description/"
   ]
  },
  {
   "cell_type": "markdown",
   "metadata": {},
   "source": [
    "## 题目大意\n",
    "给定一个矩阵，以及另一矩阵的长和宽，要求按照该大小生成新矩阵，如果不能生成则返回原矩阵\n",
    "\n",
    "## 知识点\n",
    "- 一维向量的初始化：\n",
    "    ```\n",
    "    vector<int> v(c, num)\n",
    "    ```\n",
    "    v为向量名，c为向量大小，num为初始值\n",
    "\n",
    "\n",
    "- 二维向量的初始化：\n",
    "    ```\n",
    "    vector<vector<int>> v(r, vector<int>(c, num));\n",
    "    ```\n",
    "    v为向量名，r,c分别为向量两个维度的大小（类似二维数组），num为初始值"
   ]
  },
  {
   "cell_type": "code",
   "execution_count": null,
   "metadata": {
    "collapsed": true
   },
   "outputs": [],
   "source": [
    "class Solution {\n",
    "public:\n",
    "    vector<vector<int>> matrixReshape(vector<vector<int>>& nums, int r, int c) {\n",
    "        if (r * c != nums.size() * nums[0].size())\n",
    "            return nums;\n",
    "        else {\n",
    "            vector<vector<int>> ans(r, vector<int>(c, 0));\n",
    "            int m = 0, n = 0;\n",
    "            for (int i = 0; i < r; i++) {\n",
    "                for (int j = 0; j < c; j++) {\n",
    "                    ans[i][j] = nums[m][n];\n",
    "                    n++;\n",
    "                    if (n == nums[0].size()) {\n",
    "                        n = 0;\n",
    "                        m++;\n",
    "                    }   \n",
    "                }\n",
    "            }\n",
    "            return ans;\n",
    "        }\n",
    "    }\n",
    "};"
   ]
  },
  {
   "cell_type": "markdown",
   "metadata": {},
   "source": [
    "原写法赋值部分运行效率极低，在discuss里发现了一种优雅效率高的算法"
   ]
  },
  {
   "cell_type": "code",
   "execution_count": null,
   "metadata": {
    "collapsed": true
   },
   "outputs": [],
   "source": [
    "for (int i = 0; i < m * n; ++i)\n",
    "        result[i/c][i%c] = nums[i/n][i%n];"
   ]
  }
 ],
 "metadata": {
  "kernelspec": {
   "display_name": "C",
   "language": "c",
   "name": "c"
  },
  "language_info": {
   "file_extension": ".c",
   "mimetype": "text/plain",
   "name": "c"
  }
 },
 "nbformat": 4,
 "nbformat_minor": 2
}
