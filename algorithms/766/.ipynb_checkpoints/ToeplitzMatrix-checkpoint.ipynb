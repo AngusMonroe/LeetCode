{
 "cells": [
  {
   "cell_type": "markdown",
   "metadata": {},
   "source": [
    "https://leetcode.com/problems/toeplitz-matrix/description/"
   ]
  },
  {
   "cell_type": "markdown",
   "metadata": {},
   "source": [
    "## 题目大意\n",
    "给定一个M*N的矩阵，判断其在一条斜线上的元素是否相等，相等返回true，否则返回false\n",
    "\n",
    "## 解题思路\n",
    "`matrix[i][j] == matrix[i + 1][j + 1]`遍历判断每一条斜线即可"
   ]
  },
  {
   "cell_type": "code",
   "execution_count": null,
   "metadata": {
    "collapsed": true
   },
   "outputs": [],
   "source": [
    "class Solution {\n",
    "public:\n",
    "    bool isToeplitzMatrix(vector<vector<int>>& matrix) {\n",
    "        for (int i = 0; i < matrix.size(); i++) {\n",
    "            int num = matrix[i][0];\n",
    "            for (int j = i; j < matrix.size() && j - i < matrix[i].size(); j++) {\n",
    "                if (matrix[j][j - i] != num)\n",
    "                    return false;\n",
    "            }\n",
    "        }\n",
    "        for (int j = 0; j < matrix[0].size(); j++) {\n",
    "            int num = matrix[0][j];\n",
    "            for (int i = j; i - j < matrix.size() && i < matrix[0].size(); i++) {\n",
    "                if (matrix[i - j][i] != num)\n",
    "                    return false;\n",
    "            }\n",
    "        }\n",
    "        return true;\n",
    "    }\n",
    "};"
   ]
  }
 ],
 "metadata": {
  "kernelspec": {
   "display_name": "C",
   "language": "c",
   "name": "c"
  },
  "language_info": {
   "file_extension": ".c",
   "mimetype": "text/plain",
   "name": "c"
  }
 },
 "nbformat": 4,
 "nbformat_minor": 2
}
