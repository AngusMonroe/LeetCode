{
 "cells": [
  {
   "cell_type": "markdown",
   "metadata": {},
   "source": [
    "https://leetcode.com/problems/reverse-words-in-a-string-iii/description/"
   ]
  },
  {
   "cell_type": "markdown",
   "metadata": {},
   "source": [
    "## 题目大意\n",
    "输入一个字符串，将其中的每个词翻转\n",
    "\n",
    "## 知识点\n",
    "这道题与之前的[Reverse String](./algorithms/344/ReverseString.ipynb)很相似，只不过增加了对于词的边界判断\n",
    "我的做法是用两个变量分别记录词的开头结尾位置，然后将这个区间内的字符串翻转，时间复杂度应为`O(2n)`"
   ]
  },
  {
   "cell_type": "code",
   "execution_count": null,
   "metadata": {
    "collapsed": true
   },
   "outputs": [],
   "source": [
    "class Solution {\n",
    "public:\n",
    "    string reverseWords(string str) {\n",
    "        for (int s = 0, e = 0; e <= str.size(); e++) {\n",
    "            if (str[e] == ' ' || str[e] == '\\0') {\n",
    "                for (int i = s; i < (s + e) / 2; i++)\n",
    "                    swap(str[i], str[e - i + s - 1]);\n",
    "                s = e + 1;\n",
    "            }\n",
    "        }\n",
    "        return str;\n",
    "    }\n",
    "};"
   ]
  }
 ],
 "metadata": {
  "kernelspec": {
   "display_name": "C",
   "language": "c",
   "name": "c"
  },
  "language_info": {
   "file_extension": ".c",
   "mimetype": "text/plain",
   "name": "c"
  }
 },
 "nbformat": 4,
 "nbformat_minor": 2
}
