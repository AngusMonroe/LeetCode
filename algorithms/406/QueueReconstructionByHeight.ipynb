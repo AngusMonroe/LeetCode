{
 "cells": [
  {
   "cell_type": "markdown",
   "metadata": {},
   "source": [
    "https://leetcode.com/problems/queue-reconstruction-by-height/description/"
   ]
  },
  {
   "cell_type": "markdown",
   "metadata": {},
   "source": [
    "## 题目大意\n",
    "给定一个由数值对（h,k）组成的数组，h表示一个人的身高，k表示在他前面有多少比他高的人，请按照这个规则给这些人排队\n",
    "\n",
    "## 知识点\n",
    "\n",
    "解题步骤：\n",
    "\n",
    "1. 选出最高的一群人，并将他们排序在一个子阵列（S）中。 既然没有其他人比他们高，所以每个人的位置就会和他的k值一样。\n",
    "2. 对于第二最高组（及其余组），将它们中的每一个按k值插入（S）。 以此类推。\n",
    "\n",
    "eg.\n",
    "\n",
    "输入：[[7,0]，[4,4]，[7,1]，[5,0]，[6,1]，[5,2]]\n",
    "\n",
    "步骤1之后的子阵列：[[7,0]，[7,1]]\n",
    "\n",
    "在步骤2之后的子阵列：[[7,0]，[6,1]，[7,1]]\n",
    "\n",
    "...\n",
    "\n",
    "\n",
    "这不是最简洁的代码，但它很好地解释了这个方法"
   ]
  },
  {
   "cell_type": "code",
   "execution_count": null,
   "metadata": {
    "collapsed": true
   },
   "outputs": [],
   "source": [
    "class Solution {\n",
    "public:\n",
    "    vector<pair<int, int>> reconstructQueue(vector<pair<int, int>>& people) {\n",
    "        sort(people.begin(), people.end(),[](pair<int,int> p1, pair<int,int> p2) {\n",
    "            return p1.first > p2.first || (p1.first == p2.first && p1.second < p2.second);\n",
    "        });\n",
    "        vector<pair<int,int>> sol;\n",
    "        for (auto person : people) {\n",
    "            sol.insert(sol.begin() + person.second, person);\n",
    "        }\n",
    "        return sol;\n",
    "    }\n",
    "};"
   ]
  }
 ],
 "metadata": {
  "kernelspec": {
   "display_name": "C",
   "language": "c",
   "name": "c"
  },
  "language_info": {
   "file_extension": ".c",
   "mimetype": "text/plain",
   "name": "c"
  }
 },
 "nbformat": 4,
 "nbformat_minor": 2
}
