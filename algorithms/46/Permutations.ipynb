{
 "cells": [
  {
   "cell_type": "markdown",
   "metadata": {},
   "source": [
    "https://leetcode.com/problems/permutations/"
   ]
  },
  {
   "cell_type": "markdown",
   "metadata": {},
   "source": [
    "# 题目大意\n",
    "\n",
    "输出一个list的全部排列组合形式（其中无重复元素）\n",
    "\n",
    "# 解题思路\n",
    "\n",
    "将原list中的元素一个个插入新的list，递归求解即可"
   ]
  },
  {
   "cell_type": "code",
   "execution_count": null,
   "metadata": {
    "collapsed": true
   },
   "outputs": [],
   "source": [
    "class Solution:\n",
    "    from copy import deepcopy\n",
    "    def permute(self, nums: List[int]) -> List[List[int]]:\n",
    "        ans = []\n",
    "        \n",
    "        def add_num(l, num):\n",
    "            if not num:\n",
    "                ans.append(l)\n",
    "                return\n",
    "            for i in range(len(l) + 1):\n",
    "                tmp = deepcopy(l)\n",
    "                tmp.insert(i, num[-1])\n",
    "                add_num(tmp, num[:-1])\n",
    "        \n",
    "        if not nums:\n",
    "            return []\n",
    "        elif len(nums) == 1:\n",
    "            return [nums]\n",
    "        else:\n",
    "            add_num([nums[-1]], nums[:-1])\n",
    "            return ans\n",
    "        "
   ]
  }
 ],
 "metadata": {
  "kernelspec": {
   "display_name": "Python 3",
   "language": "python",
   "name": "python3"
  },
  "language_info": {
   "codemirror_mode": {
    "name": "ipython",
    "version": 3
   },
   "file_extension": ".py",
   "mimetype": "text/x-python",
   "name": "python",
   "nbconvert_exporter": "python",
   "pygments_lexer": "ipython3",
   "version": "3.6.7"
  }
 },
 "nbformat": 4,
 "nbformat_minor": 2
}
