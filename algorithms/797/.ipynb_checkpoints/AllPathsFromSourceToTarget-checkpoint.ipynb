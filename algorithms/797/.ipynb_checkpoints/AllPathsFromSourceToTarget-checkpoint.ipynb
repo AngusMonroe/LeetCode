{
 "cells": [
  {
   "cell_type": "markdown",
   "metadata": {},
   "source": [
    "https://leetcode.com/problems/all-paths-from-source-to-target/description/"
   ]
  },
  {
   "cell_type": "markdown",
   "metadata": {},
   "source": [
    "# DFS"
   ]
  },
  {
   "cell_type": "code",
   "execution_count": null,
   "metadata": {
    "collapsed": true
   },
   "outputs": [],
   "source": [
    "class Solution {\n",
    "public:\n",
    "    vector<vector<int>> res;\n",
    "    \n",
    "    void DFS(vector<vector<int>>& graph, vector<int> path) {\n",
    "        int node = path.back();\n",
    "        if(node == graph.size() - 1) {\n",
    "            res.push_back(path);\n",
    "            return;\n",
    "        }\n",
    "        for(int i = 0; i < graph[node].size(); i++) {\n",
    "            path.push_back(graph[node][i]);\n",
    "            DFS(graph, path);\n",
    "            path.pop_back();\n",
    "        }\n",
    "    }\n",
    "    \n",
    "    vector<vector<int>> allPathsSourceTarget(vector<vector<int>>& graph) {\n",
    "        DFS(graph, {0});\n",
    "        return res;\n",
    "    }\n",
    "};"
   ]
  }
 ],
 "metadata": {
  "kernelspec": {
   "display_name": "C",
   "language": "c",
   "name": "c"
  },
  "language_info": {
   "file_extension": ".c",
   "mimetype": "text/plain",
   "name": "c"
  }
 },
 "nbformat": 4,
 "nbformat_minor": 2
}
