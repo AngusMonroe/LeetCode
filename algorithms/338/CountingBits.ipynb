{
 "cells": [
  {
   "cell_type": "markdown",
   "metadata": {},
   "source": [
    "https://leetcode.com/problems/counting-bits/description/"
   ]
  },
  {
   "cell_type": "markdown",
   "metadata": {},
   "source": [
    "## 题目大意\n",
    "给定一个数num，计算0~num每个数的二进制表示中1的个数，返回一个数组\n",
    "\n",
    "## 知识点\n",
    "通过观察我们可以发现规律，由于将一个数乘二相当于将其左移一位，故f(2n)=f(n)，由此可解出偶数的f(n)值；由于偶数的二进制表示最后一位一定为0，故有f(2n+1)=f(2n)+1\n",
    "发现规律后递归求解即可"
   ]
  },
  {
   "cell_type": "code",
   "execution_count": null,
   "metadata": {
    "collapsed": true
   },
   "outputs": [],
   "source": [
    "class Solution {\n",
    "public:\n",
    "    vector<int> countBits(int num) {\n",
    "        vector<int> ans(num + 1, 0);\n",
    "        ans[0] = 0;\n",
    "        for (int i = 1; i <= num; i++) {\n",
    "            if (i % 2 == 0)\n",
    "                ans[i] = ans[i / 2];\n",
    "            else\n",
    "                ans[i] = ans[i - 1] + 1;\n",
    "        }\n",
    "        return ans;\n",
    "    }\n",
    "};"
   ]
  }
 ],
 "metadata": {
  "kernelspec": {
   "display_name": "C",
   "language": "c",
   "name": "c"
  },
  "language_info": {
   "file_extension": ".c",
   "mimetype": "text/plain",
   "name": "c"
  }
 },
 "nbformat": 4,
 "nbformat_minor": 2
}
