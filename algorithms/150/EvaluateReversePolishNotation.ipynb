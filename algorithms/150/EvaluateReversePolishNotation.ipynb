{
 "cells": [
  {
   "cell_type": "markdown",
   "metadata": {},
   "source": [
    "https://leetcode.com/problems/evaluate-reverse-polish-notation/"
   ]
  },
  {
   "cell_type": "markdown",
   "metadata": {},
   "source": [
    "# 题目大意\n",
    "\n",
    "求一个后缀表达式的结果\n",
    "\n",
    "# 解题思路\n",
    "\n",
    "用栈实现，栈中只存数值，遇到运算符时弹出栈顶两个数，运算后再入栈\n",
    "\n",
    "需要注意的是，python中1/-22=-1，但在本题中应该为0，将除数转化为float进行除法运算，将结果再转化为int即可解决此问题"
   ]
  },
  {
   "cell_type": "code",
   "execution_count": null,
   "metadata": {
    "collapsed": true
   },
   "outputs": [],
   "source": [
    "class Solution:\n",
    "    def evalRPN(self, tokens: List[str]) -> int:\n",
    "        stack = []\n",
    "        for item in tokens:\n",
    "            if item not in ['+', '-', '*', '/']:\n",
    "                stack.append(int(item))\n",
    "            else:\n",
    "                r = stack.pop()\n",
    "                l = stack.pop()\n",
    "                if item == '+':\n",
    "                    stack.append(l + r)\n",
    "                elif item == '-':\n",
    "                    stack.append(l - r)\n",
    "                elif item == '*':\n",
    "                    stack.append(l * r)\n",
    "                elif item == '/':\n",
    "                    stack.append(int(float(l) / r))\n",
    "        return stack.pop()\n",
    "        "
   ]
  }
 ],
 "metadata": {
  "kernelspec": {
   "display_name": "Python 3",
   "language": "python",
   "name": "python3"
  },
  "language_info": {
   "codemirror_mode": {
    "name": "ipython",
    "version": 3
   },
   "file_extension": ".py",
   "mimetype": "text/x-python",
   "name": "python",
   "nbconvert_exporter": "python",
   "pygments_lexer": "ipython3",
   "version": "3.6.7"
  }
 },
 "nbformat": 4,
 "nbformat_minor": 2
}
