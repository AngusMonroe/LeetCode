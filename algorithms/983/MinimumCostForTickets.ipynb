{
 "cells": [
  {
   "cell_type": "markdown",
   "metadata": {},
   "source": [
    "https://leetcode.com/problems/minimum-cost-for-tickets/"
   ]
  },
  {
   "cell_type": "markdown",
   "metadata": {},
   "source": [
    "## 题目大意\n",
    "给定两个list，第一个list是要旅行的日子，第二个list是日票、周票、月票的价格，日票、周票、月票分别在1，7，30天内有效，问能够覆盖所有要旅行的日子的购票最低花费\n",
    "\n",
    "## 解题思路\n",
    "dp\n",
    "\n",
    "$\\begin{array} { l } { \\mathrm { dp } ( i ) = \\min ( \\mathrm { dp } ( i + 1 ) + \\operatorname { costs } [ 0 ] , \\mathrm { dp } ( i + 7 ) + \\operatorname { costs } [ 1 ] , \\mathrm { dp } ( i + 30 ) + } \\\\ { \\operatorname { costs } [ 2 ] ) } \\end{array}$\n",
    "\n",
    "## PS \n",
    "```\n",
    "from functools import lru_cache\n",
    "\n",
    "@lru_cache(None)\n",
    "def fun():\n",
    "    pass\n",
    "```\n",
    "\n",
    "以上声明可以用来做缓存，他能把相对耗时的函数结果进行保存，避免传入相同的参数重复计算。同时，缓存并不会无限增长，不用的缓存会被释放。"
   ]
  },
  {
   "cell_type": "code",
   "execution_count": null,
   "metadata": {
    "collapsed": true
   },
   "outputs": [],
   "source": [
    "from functools import lru_cache\n",
    "\n",
    "class Solution:\n",
    "    def mincostTickets(self, days: 'List[int]', costs: 'List[int]') -> 'int':\n",
    "        dayset = set(days)\n",
    "        duration = [1, 7, 30]\n",
    "        \n",
    "        @lru_cache(None)\n",
    "        def dp(i):\n",
    "            if i > 365:\n",
    "                return 0\n",
    "            elif i in dayset:\n",
    "                return min(dp(i + d) + c for c, d in zip(costs, duration))\n",
    "            else:\n",
    "                return dp(i + 1)\n",
    "        \n",
    "        return dp(1)\n",
    "        "
   ]
  }
 ],
 "metadata": {
  "kernelspec": {
   "display_name": "Python 3",
   "language": "python",
   "name": "python3"
  },
  "language_info": {
   "codemirror_mode": {
    "name": "ipython",
    "version": 3
   },
   "file_extension": ".py",
   "mimetype": "text/x-python",
   "name": "python",
   "nbconvert_exporter": "python",
   "pygments_lexer": "ipython3",
   "version": "3.6.7"
  }
 },
 "nbformat": 4,
 "nbformat_minor": 2
}
