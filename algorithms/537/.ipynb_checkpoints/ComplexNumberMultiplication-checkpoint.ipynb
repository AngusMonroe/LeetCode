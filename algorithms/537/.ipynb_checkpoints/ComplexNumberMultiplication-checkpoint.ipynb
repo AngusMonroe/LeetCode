{
 "cells": [
  {
   "cell_type": "markdown",
   "metadata": {},
   "source": [
    "https://leetcode.com/problems/complex-number-multiplication/description/"
   ]
  },
  {
   "cell_type": "markdown",
   "metadata": {},
   "source": [
    "## 题目大意\n",
    "虚数乘法\n",
    "\n",
    "## 知识点\n",
    "在这里我是直接暴力对字符串进行分析的，造了一个惨不忍睹的轮子，还需要注意字符和数字之间的类型转化，然而看了题解才发现原来用stringstream解题超级简单，其形式就跟iostream非常相似"
   ]
  },
  {
   "cell_type": "markdown",
   "metadata": {},
   "source": [
    "## my original code"
   ]
  },
  {
   "cell_type": "code",
   "execution_count": null,
   "metadata": {
    "collapsed": true
   },
   "outputs": [],
   "source": [
    "class Solution {\n",
    "public:\n",
    "    \n",
    "    const int maxn = 100;\n",
    "     \n",
    "    struct num {\n",
    "        int x = 0;\n",
    "        int y = 0;\n",
    "    };\n",
    "    \n",
    "    string to_string(int n){\n",
    "        int m = n;\n",
    "        char s[maxn];\n",
    "        char ss[maxn];\n",
    "        int i = 0, j = 0;\n",
    "        if (n < 0){// 处理负数\n",
    "            m = -m;\n",
    "            j = 1;\n",
    "            ss[0] = '-';\n",
    "        }    \n",
    "        while (m >= 0){\n",
    "            s[i++] = m % 10 + '0';\n",
    "            m /= 10;\n",
    "            if (m == 0)\n",
    "                break;\n",
    "        }\n",
    "        s[i] = '\\0';\n",
    "        i = i - 1;\n",
    "        while (i >= 0){\n",
    "            ss[j++] = s[i--];\n",
    "        }    \n",
    "        ss[j] = '\\0';    \n",
    "        return ss;\n",
    "    }\n",
    "    \n",
    "    num extract(string str, num z) {\n",
    "        bool flag = false;\n",
    "        int pos = -1;\n",
    "        for (int i = 0; i < str.size(); i++) {\n",
    "            if (str[i] >= '0' && str[i] <= '9') {\n",
    "                if (flag == false)\n",
    "                    z.x = z.x * 10 + (str[i] - '0');\n",
    "                else\n",
    "                    z.y = z.y  * 10 + (str[i] - '0');\n",
    "            }\n",
    "            else {\n",
    "                if (i == 0 || i == str.size() - 1)\n",
    "                    continue;\n",
    "                if (pos == -1)\n",
    "                    pos = i;\n",
    "                flag = true;\n",
    "            }\n",
    "        }\n",
    "        if (str[0] == '-')\n",
    "            z.x = -z.x;\n",
    "        if (str[pos + 1] == '-')\n",
    "            z.y = -z.y;\n",
    "        return z;\n",
    "    }\n",
    "    \n",
    "    string complexNumberMultiply(string a, string b) {\n",
    "        string ans;\n",
    "        num m, n;\n",
    "        m = extract(a, m);\n",
    "        n = extract(b, n);\n",
    "        ans = to_string(m.x * n.x - m.y * n.y) + '+' + to_string(m.x * n.y + m.y * n.x) + 'i';\n",
    "        return ans;\n",
    "    }\n",
    "};"
   ]
  },
  {
   "cell_type": "markdown",
   "metadata": {},
   "source": [
    "## Easy Solution using stringstream"
   ]
  },
  {
   "cell_type": "code",
   "execution_count": null,
   "metadata": {
    "collapsed": true
   },
   "outputs": [],
   "source": [
    "class Solution {\n",
    "public:\n",
    "    string complexNumberMultiply(string a, string b) {\n",
    "        int ra, ia, rb, ib;\n",
    "        char buff;\n",
    "        stringstream aa(a), bb(b), ans;\n",
    "        aa >> ra >> buff >> ia >> buff;\n",
    "        bb >> rb >> buff >> ib >> buff;\n",
    "        ans << ra*rb - ia*ib << \"+\" << ra*ib + rb*ia << \"i\";\n",
    "        return ans.str();\n",
    "    }\n",
    "};"
   ]
  }
 ],
 "metadata": {
  "kernelspec": {
   "display_name": "C",
   "language": "c",
   "name": "c"
  },
  "language_info": {
   "file_extension": ".c",
   "mimetype": "text/plain",
   "name": "c"
  }
 },
 "nbformat": 4,
 "nbformat_minor": 2
}
