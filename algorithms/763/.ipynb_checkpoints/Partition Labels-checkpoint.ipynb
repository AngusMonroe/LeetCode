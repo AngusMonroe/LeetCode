{
 "cells": [
  {
   "cell_type": "markdown",
   "metadata": {},
   "source": [
    "https://leetcode.com/problems/partition-labels/description/"
   ]
  },
  {
   "cell_type": "markdown",
   "metadata": {},
   "source": [
    "## 题目大意\n",
    "给定一个仅由小写字母组成的字符串S，将其进行分隔，使得每部分包含的字母不在其他部分出现，返回分割后每部分字符串的长度\n",
    "\n",
    "## 知识点\n",
    "可使用两个HashMap，其中main_map储存每个字母出现的次数，然后借助helper_map来构造序列，方法是每当该部分出现一个字母，其对应的main_map值-1，直至该部分内所有字母的main_map值为0，此时该部分序列构造完成"
   ]
  },
  {
   "cell_type": "code",
   "execution_count": null,
   "metadata": {
    "collapsed": true
   },
   "outputs": [],
   "source": [
    "class Solution {\n",
    "public:\n",
    "    vector<int> partitionLabels(string S) {\n",
    "        unordered_map<char, int> main_map;\n",
    "        unordered_map<char, int> helper_map;\n",
    "        vector<int> result;\n",
    "\n",
    "        int index = 0;\n",
    "        int preIndex = 0;\n",
    "\n",
    "        for(auto ch : S)\n",
    "            main_map[ch] += 1;\n",
    "\n",
    "        for(auto ch : S) {   \n",
    "            helper_map[ch] = --main_map[ch];\n",
    "\n",
    "            if(helper_map[ch] == 0)\n",
    "                helper_map.erase(ch);\n",
    "            index++;\n",
    "            if(helper_map.size() == 0) {\n",
    "                result.push_back(index - preIndex);\n",
    "                preIndex = index;\n",
    "            }\n",
    "        }\n",
    "        return result;\n",
    "    }\n",
    "};"
   ]
  }
 ],
 "metadata": {
  "kernelspec": {
   "display_name": "C",
   "language": "c",
   "name": "c"
  },
  "language_info": {
   "file_extension": ".c",
   "mimetype": "text/plain",
   "name": "c"
  }
 },
 "nbformat": 4,
 "nbformat_minor": 2
}
