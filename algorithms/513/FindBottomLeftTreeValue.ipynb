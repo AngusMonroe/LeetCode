{
 "cells": [
  {
   "cell_type": "markdown",
   "metadata": {},
   "source": [
    "https://leetcode.com/problems/find-bottom-left-tree-value/description/"
   ]
  },
  {
   "cell_type": "markdown",
   "metadata": {},
   "source": [
    "## 题目大意\n",
    "给定一棵二叉树，问这棵二叉树最下层的最左边元素是什么\n",
    "\n",
    "## 知识点\n",
    "简单递归遍历即可"
   ]
  },
  {
   "cell_type": "code",
   "execution_count": null,
   "metadata": {
    "collapsed": true
   },
   "outputs": [],
   "source": [
    "/**\n",
    " * Definition for a binary tree node.\n",
    " * struct TreeNode {\n",
    " *     int val;\n",
    " *     TreeNode *left;\n",
    " *     TreeNode *right;\n",
    " *     TreeNode(int x) : val(x), left(NULL), right(NULL) {}\n",
    " * };\n",
    " */\n",
    "class Solution {\n",
    "public:\n",
    "    \n",
    "    void findBottomLeftValue(TreeNode* root, int& maxDepth, int& leftVal, int depth) {\n",
    "        if (root == NULL) {\n",
    "            return;\n",
    "        }\n",
    "        //Go to the left and right of each node \n",
    "        findBottomLeftValue(root->left, maxDepth, leftVal, depth+1);\n",
    "        findBottomLeftValue(root->right, maxDepth, leftVal, depth+1);\n",
    "        \n",
    "        //Update leftVal and maxDepth\n",
    "        if (depth > maxDepth) {\n",
    "            maxDepth = depth;\n",
    "            leftVal = root->val;\n",
    "        }\n",
    "    }\n",
    "    \n",
    "    //Entry function\n",
    "    int findBottomLeftValue(TreeNode* root) {\n",
    "        int maxDepth = 0;\n",
    "        //Initialize leftVal with root's value to cover the edge case with single node\n",
    "        int leftVal = root->val;\n",
    "        findBottomLeftValue(root, maxDepth, leftVal, 0);\n",
    "        return leftVal;\n",
    "    }\n",
    "};"
   ]
  }
 ],
 "metadata": {
  "kernelspec": {
   "display_name": "C",
   "language": "c",
   "name": "c"
  },
  "language_info": {
   "file_extension": ".c",
   "mimetype": "text/plain",
   "name": "c"
  }
 },
 "nbformat": 4,
 "nbformat_minor": 2
}
