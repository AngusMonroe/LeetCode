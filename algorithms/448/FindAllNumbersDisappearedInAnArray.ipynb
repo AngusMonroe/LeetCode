{
 "cells": [
  {
   "cell_type": "markdown",
   "metadata": {},
   "source": [
    "https://leetcode.com/problems/find-all-numbers-disappeared-in-an-array/description/"
   ]
  },
  {
   "cell_type": "markdown",
   "metadata": {},
   "source": [
    "## 题目大意\n",
    "给出一个整形数组，长度为n，数组中的整数都在1~n之间，有些数出现一次，有些数出现两次，求出那些没出现的数的集合。\n",
    "\n",
    "## 解题思路\n",
    "时间复杂度为`O(n)`，空间复杂度为`O(1)`的做法。（符合题目要求的做法，没有使用多余空间）。遍历数组，索引为`i`，将`nums[i]-1`所在的位置的数置为负数。再次遍历数组，索引为`index`，对于每个数组值，如果为负数，就代表`index+1`这个数已经出现过了，如果为正数，代表没出现过，放到要返回的数组里面。"
   ]
  },
  {
   "cell_type": "code",
   "execution_count": null,
   "metadata": {
    "collapsed": true
   },
   "outputs": [],
   "source": [
    "class Solution {  \n",
    "public:  \n",
    "    vector<int> findDisappearedNumbers(vector<int>& nums) {  \n",
    "        int len = nums.size();  \n",
    "        vector<int> res;  \n",
    "        for(int i = 0; i < len; i++) {  \n",
    "            int index = abs(nums[i]) - 1;  \n",
    "            if(nums[index] > 0)\n",
    "                nums[index] = -nums[index];  \n",
    "        }  \n",
    "        for(int i = 0; i < len; i++) {  \n",
    "            if(nums[i] > 0)  \n",
    "                res.push_back(i + 1);  \n",
    "        }  \n",
    "        return res;  \n",
    "    }  \n",
    "};  \n",
    "\n"
   ]
  }
 ],
 "metadata": {
  "kernelspec": {
   "display_name": "C",
   "language": "c",
   "name": "c"
  },
  "language_info": {
   "file_extension": ".c",
   "mimetype": "text/plain",
   "name": "c"
  }
 },
 "nbformat": 4,
 "nbformat_minor": 2
}
