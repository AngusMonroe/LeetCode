{
 "cells": [
  {
   "cell_type": "markdown",
   "metadata": {},
   "source": [
    "https://leetcode.com/problems/insert-into-a-binary-search-tree/"
   ]
  },
  {
   "cell_type": "markdown",
   "metadata": {},
   "source": [
    "# 题目大意\n",
    "\n",
    "在一个二叉搜索树中插入一个元素\n",
    "\n",
    "# 解题思路\n",
    "\n",
    "利用二叉搜索树的性质"
   ]
  },
  {
   "cell_type": "code",
   "execution_count": null,
   "metadata": {
    "collapsed": true
   },
   "outputs": [],
   "source": [
    "# Definition for a binary tree node.\n",
    "# class TreeNode:\n",
    "#     def __init__(self, val=0, left=None, right=None):\n",
    "#         self.val = val\n",
    "#         self.left = left\n",
    "#         self.right = right\n",
    "class Solution:\n",
    "    def insertIntoBST(self, root: TreeNode, val: int) -> TreeNode:\n",
    "        if not root:\n",
    "            return TreeNode(val)\n",
    "        else:\n",
    "            curr_node = root\n",
    "            while True:\n",
    "                if curr_node.val > val:\n",
    "                    if curr_node.left:\n",
    "                        curr_node = curr_node.left\n",
    "                        continue\n",
    "                    else:\n",
    "                        curr_node.left = TreeNode(val)\n",
    "                        break\n",
    "                else:\n",
    "                    if curr_node.right:\n",
    "                        curr_node = curr_node.right\n",
    "                        continue\n",
    "                    else:\n",
    "                        curr_node.right = TreeNode(val)\n",
    "                        break\n",
    "            return root"
   ]
  }
 ],
 "metadata": {
  "kernelspec": {
   "display_name": "Python 3",
   "language": "python",
   "name": "python3"
  },
  "language_info": {
   "codemirror_mode": {
    "name": "ipython",
    "version": 3
   },
   "file_extension": ".py",
   "mimetype": "text/x-python",
   "name": "python",
   "nbconvert_exporter": "python",
   "pygments_lexer": "ipython3",
   "version": "3.6.7"
  }
 },
 "nbformat": 4,
 "nbformat_minor": 2
}
