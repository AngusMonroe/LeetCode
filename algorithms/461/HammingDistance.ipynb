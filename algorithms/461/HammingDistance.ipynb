{
 "cells": [
  {
   "cell_type": "markdown",
   "metadata": {},
   "source": [
    "https://leetcode.com/problems/hamming-distance/description/"
   ]
  },
  {
   "cell_type": "markdown",
   "metadata": {},
   "source": [
    "# 汉明距离\n",
    "\n",
    "两个数的汉明距离即为将其转换为二进制后，不同的位的个数（即为每一位做异或运算后的和）"
   ]
  },
  {
   "cell_type": "code",
   "execution_count": null,
   "metadata": {
    "collapsed": true
   },
   "outputs": [],
   "source": [
    "class Solution {\n",
    "public:\n",
    "    int hammingDistance(int x, int y) {\n",
    "        int ch1[35]= {0}, ch2[35] = {0};\n",
    "        int ans = 0;\n",
    "        \n",
    "        for (int i = 0; x > 0; i++) {\n",
    "            ch1[i] = x % 2;\n",
    "            x /= 2;\n",
    "        }\n",
    "        for (int i = 0; y > 0; i++) {\n",
    "            ch2[i] = y % 2;\n",
    "            y /= 2;\n",
    "        }\n",
    "        for (int i = 0; i < 32; i++) {\n",
    "            ans += ch1[i] ^ ch2[i];\n",
    "        }\n",
    "        return ans;\n",
    "    }\n",
    "};"
   ]
  }
 ],
 "metadata": {
  "kernelspec": {
   "display_name": "C",
   "language": "c",
   "name": "c"
  },
  "language_info": {
   "file_extension": ".c",
   "mimetype": "text/plain",
   "name": "c"
  }
 },
 "nbformat": 4,
 "nbformat_minor": 2
}
