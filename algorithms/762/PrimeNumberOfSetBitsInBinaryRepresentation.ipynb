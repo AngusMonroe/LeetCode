{
 "cells": [
  {
   "cell_type": "markdown",
   "metadata": {},
   "source": [
    "https://leetcode.com/problems/prime-number-of-set-bits-in-binary-representation/description/"
   ]
  },
  {
   "cell_type": "markdown",
   "metadata": {},
   "source": [
    "## 题目大意\n",
    "给定一个区间，求这个区间内的数字有多少个的二进制表示有质数个1\n",
    "\n",
    "## 解题思路\n",
    "打质数表，暴力遍历区间内每一个元素看其二进制表示的1的个数是否为质数即可\n",
    "\n",
    "需要注意的是，求一个数字的二进制表示的1的个数，只需将该数字与1做与运算，不断右移做和即可"
   ]
  },
  {
   "cell_type": "code",
   "execution_count": null,
   "metadata": {
    "collapsed": true
   },
   "outputs": [],
   "source": [
    "class Solution {\n",
    "public:\n",
    "    int countPrimeSetBits(int l, int r) {\n",
    "        set<int> primes = {2, 3, 5, 7, 11, 13, 17, 19, 23, 29};\n",
    "        int ans = 0;\n",
    "        for (int i = l; i <= r; i++) {\n",
    "            int bits = 0;\n",
    "            for (int n = i; n; n >>= 1)\n",
    "                bits += n & 1;\n",
    "            ans += primes.count(bits);\n",
    "        }\n",
    "        return ans;\n",
    "    }\n",
    "};"
   ]
  }
 ],
 "metadata": {
  "kernelspec": {
   "display_name": "C",
   "language": "c",
   "name": "c"
  },
  "language_info": {
   "file_extension": ".c",
   "mimetype": "text/plain",
   "name": "c"
  }
 },
 "nbformat": 4,
 "nbformat_minor": 2
}
