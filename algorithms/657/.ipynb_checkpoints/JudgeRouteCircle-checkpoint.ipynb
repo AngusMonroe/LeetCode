{
 "cells": [
  {
   "cell_type": "markdown",
   "metadata": {},
   "source": [
    "https://leetcode.com/problems/judge-route-circle/description/"
   ]
  },
  {
   "cell_type": "markdown",
   "metadata": {},
   "source": [
    "## 题目大意\n",
    "一个点从初始位置进行运动，\"U\"、\"D\"、\"L\"、\"R\"分别表示向上下左右方向运动，每次运动距离相同，String传入一个字符串，问该点是否能返回原点。\n",
    "即判断\"U\"和\"D\"、\"L\"和\"R\"的个数是否相同\n"
   ]
  },
  {
   "cell_type": "code",
   "execution_count": null,
   "metadata": {
    "collapsed": true
   },
   "outputs": [],
   "source": [
    "class Solution {\n",
    "public:\n",
    "    bool judgeCircle(string moves) {\n",
    "        int x = 0, y = 0;\n",
    "        for (int i = 0; i < moves.length(); i++) {\n",
    "            if (moves[i] == 'R')\n",
    "                x++;\n",
    "            else if (moves[i] == 'L')\n",
    "                x--;\n",
    "            else if (moves[i] == 'U')\n",
    "                y++;\n",
    "            else if (moves[i] == 'D')\n",
    "                y--;\n",
    "        }\n",
    "        if (x == 0 && y == 0)\n",
    "            return true;\n",
    "        else\n",
    "            return false;\n",
    "    }\n",
    "};"
   ]
  }
 ],
 "metadata": {
  "kernelspec": {
   "display_name": "C",
   "language": "c",
   "name": "c"
  },
  "language_info": {
   "file_extension": ".c",
   "mimetype": "text/plain",
   "name": "c"
  }
 },
 "nbformat": 4,
 "nbformat_minor": 2
}
