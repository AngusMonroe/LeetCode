{
 "cells": [
  {
   "cell_type": "markdown",
   "metadata": {},
   "source": [
    "https://leetcode.com/problems/battleships-in-a-board/description/"
   ]
  },
  {
   "cell_type": "markdown",
   "metadata": {},
   "source": [
    "## 题目大意\n",
    "给定一个二维字符数组，定义Battleship为`N*1`或`1*N`的一系列单元格，且不同Battleship之间不相连，问有多少Battleship\n",
    "\n",
    "## 知识点\n",
    "由于每次的输入均合法，所以每个Battleship的点都在一条直线上，那么我们如果要统计Battleship的个数，只需统计线段的端点个数即可。\n",
    "通过观察我们可以发现，Battleship只能是水平或垂直的线段，且不同Battleship不互相接触，也就是说如果Battleship是水平的，其左端点的上、下、左三个点为空，如果Battleship是垂直的，其上端点的上、左、右三个点为空，所以总结起来可以发现端点的充要条件是其左边和上边的点为空，遍历一次二维数组即可得到结果，注意边界条件的判断。"
   ]
  },
  {
   "cell_type": "code",
   "execution_count": null,
   "metadata": {
    "collapsed": true
   },
   "outputs": [],
   "source": [
    "class Solution {\n",
    "public:\n",
    "    int countBattleships(vector<vector<char>>& board) {\n",
    "        int count = 0;\n",
    "        for(int i = 0; i < board.size(); i++)\n",
    "            for(int j = 0; j < board[0].size(); j++)\n",
    "                if(board[i][j] == 'X' && (i == 0 || board[i-1][j] != 'X') && (j == 0 || board[i][j-1] != 'X'))\n",
    "                    count++;\n",
    "        return count;\n",
    "    }\n",
    "};"
   ]
  }
 ],
 "metadata": {
  "kernelspec": {
   "display_name": "C",
   "language": "c",
   "name": "c"
  },
  "language_info": {
   "file_extension": ".c",
   "mimetype": "text/plain",
   "name": "c"
  }
 },
 "nbformat": 4,
 "nbformat_minor": 2
}
