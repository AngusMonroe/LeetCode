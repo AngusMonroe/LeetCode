{
 "cells": [
  {
   "cell_type": "markdown",
   "metadata": {},
   "source": [
    "https://leetcode.com/problems/maximum-subarray/"
   ]
  },
  {
   "cell_type": "markdown",
   "metadata": {},
   "source": [
    "## 题目大意\n",
    "给定一个数组，求一个和最大的连续子数组\n",
    "\n",
    "## 解题思路\n",
    "dp，如果dp[n-1]+nums[n]>nums[n]，则dp[n]=nums[n]，最终取dp数组中的最大值，当然在这道题中甚至不用dp数组存，直接声明一个变量代表dp[n-1]即可"
   ]
  },
  {
   "cell_type": "code",
   "execution_count": null,
   "metadata": {
    "collapsed": true
   },
   "outputs": [],
   "source": [
    "class Solution:\n",
    "    def maxSubArray(self, nums: List[int]) -> int:\n",
    "        ans = max(nums)\n",
    "        for i in range(1, len(nums)):\n",
    "            if nums[i - 1] + nums[i] > nums[i]:\n",
    "                nums[i] = nums[i - 1] + nums[i]\n",
    "                if nums[i] > ans:\n",
    "                    ans = nums[i]\n",
    "        return ans"
   ]
  }
 ],
 "metadata": {
  "kernelspec": {
   "display_name": "Python 3",
   "language": "python",
   "name": "python3"
  },
  "language_info": {
   "codemirror_mode": {
    "name": "ipython",
    "version": 3
   },
   "file_extension": ".py",
   "mimetype": "text/x-python",
   "name": "python",
   "nbconvert_exporter": "python",
   "pygments_lexer": "ipython3",
   "version": "3.6.7"
  }
 },
 "nbformat": 4,
 "nbformat_minor": 2
}
