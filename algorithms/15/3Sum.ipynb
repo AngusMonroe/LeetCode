{
 "cells": [
  {
   "cell_type": "markdown",
   "metadata": {},
   "source": [
    "https://leetcode.com/problems/3sum/"
   ]
  },
  {
   "cell_type": "markdown",
   "metadata": {},
   "source": [
    "# 题目大意\n",
    "\n",
    "在list中找出所有和为0的三元组\n",
    "\n",
    "# 解题思路\n",
    "\n",
    "三重循环$O(n^3)$会tle，需要对后两层循环进行优化。\n",
    "\n",
    "我们可以先进行排序，然后第二层循环时一个从前向后遍历一个从后向前遍历，根据三个数之和与0的大小关系决定改变哪个数，这样做复杂度为$O(n^2)$"
   ]
  },
  {
   "cell_type": "code",
   "execution_count": null,
   "metadata": {
    "collapsed": true
   },
   "outputs": [],
   "source": [
    "class Solution:\n",
    "    def threeSum(self, nums: List[int]) -> List[List[int]]:\n",
    "        if len(nums) < 3:\n",
    "            return []\n",
    "        nums.sort()\n",
    "        ans = []\n",
    "        for i in range(len(nums) - 2):\n",
    "            if i != 0 and nums[i] == nums[i - 1]:\n",
    "                continue\n",
    "            l = i + 1\n",
    "            r = len(nums) - 1\n",
    "            while l < r:\n",
    "                sum = nums[i] + nums[l] + nums[r]\n",
    "                if sum > 0:\n",
    "                    r -= 1\n",
    "                elif sum < 0:\n",
    "                    l += 1\n",
    "                else:\n",
    "                    if [nums[i], nums[l], nums[r]] not in ans:\n",
    "                        ans.append([nums[i], nums[l], nums[r]])\n",
    "                    r -= 1\n",
    "                    l += 1\n",
    "        return ans"
   ]
  }
 ],
 "metadata": {
  "kernelspec": {
   "display_name": "Python 3",
   "language": "python",
   "name": "python3"
  },
  "language_info": {
   "codemirror_mode": {
    "name": "ipython",
    "version": 3
   },
   "file_extension": ".py",
   "mimetype": "text/x-python",
   "name": "python",
   "nbconvert_exporter": "python",
   "pygments_lexer": "ipython3",
   "version": "3.6.7"
  }
 },
 "nbformat": 4,
 "nbformat_minor": 2
}
