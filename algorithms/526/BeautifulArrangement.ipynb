{
 "cells": [
  {
   "cell_type": "markdown",
   "metadata": {},
   "source": [
    "https://leetcode.com/problems/beautiful-arrangement/description/"
   ]
  },
  {
   "cell_type": "markdown",
   "metadata": {},
   "source": [
    "## 题目大意\n",
    "给定一个数字N，求1~N能组成多少Beautiful Arrangement\n",
    "\n",
    "Beautiful Arrangement需要满足以下两个条件中的一个：\n",
    "\n",
    "1. 位于i位置的数可以被i整除\n",
    "2. i可以被位于i位置的数整除\n",
    "\n",
    "## 解题思路\n",
    "从数列结尾进行计算，找到满足条件的元素放到数列末尾，然后数列长度-1进行递归求解\n",
    "\n",
    "相当于每次固定一个元素在数列末尾\n"
   ]
  },
  {
   "cell_type": "code",
   "execution_count": null,
   "metadata": {
    "collapsed": true
   },
   "outputs": [],
   "source": [
    "class Solution {\n",
    "public:\n",
    "    int countArrangement(int N) {\n",
    "        vector<int> vs;\n",
    "        for (int i = 1; i <= N; i++) \n",
    "            vs.push_back(i);\n",
    "        return counts(N, vs);\n",
    "    }\n",
    "    int counts(int n, vector<int>& vs) {\n",
    "        if (n <= 0) \n",
    "            return 1;\n",
    "        int ans = 0;\n",
    "        for (int i = n -1 ; i >= 0; i--) {\n",
    "            if (vs[i] % n == 0 || n % vs[i] == 0) {\n",
    "                swap(vs[i], vs[n - 1]);\n",
    "                ans += counts(n - 1, vs);\n",
    "                swap(vs[i], vs[n - 1]);\n",
    "            }\n",
    "        }\n",
    "        return ans;\n",
    "    }\n",
    "};"
   ]
  }
 ],
 "metadata": {
  "kernelspec": {
   "display_name": "C",
   "language": "c",
   "name": "c"
  },
  "language_info": {
   "file_extension": ".c",
   "mimetype": "text/plain",
   "name": "c"
  }
 },
 "nbformat": 4,
 "nbformat_minor": 2
}
