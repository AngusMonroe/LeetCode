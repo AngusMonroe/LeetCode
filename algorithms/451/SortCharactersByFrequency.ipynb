{
 "cells": [
  {
   "cell_type": "markdown",
   "metadata": {},
   "source": [
    "https://leetcode.com/problems/sort-characters-by-frequency/description/"
   ]
  },
  {
   "cell_type": "markdown",
   "metadata": {},
   "source": [
    "## 题目大意\n",
    "给定一个字符串，按字符出现频率进行排序\n",
    "\n",
    "## 解题思路\n",
    "先用一个hash map储存每个字母的出现频率，再直接sort即可\n",
    "\n",
    "需要注意的是，由于相同字母需要连续列出，所以当两个字母出现频率相同时，还需要比较这两个字母是否相同，那么我们就可以从这一点进行优化，比如比较时只比较其出现频率n，然后直接添加n个字母到字符串中，这样就避免了多次比较同一个字母的问题"
   ]
  },
  {
   "cell_type": "code",
   "execution_count": null,
   "metadata": {
    "collapsed": true
   },
   "outputs": [],
   "source": [
    "class Solution {\n",
    "public:\n",
    "    unordered_map<char, int> map;\n",
    "    \n",
    "    string frequencySort(string s) {\n",
    "        int len = s.size();\n",
    "        for(int i = 0; i < len; i++) {\n",
    "            map[s[i]]++;\n",
    "        }\n",
    "        sort(s.begin(), s.end(), [this](char a, char b) {\n",
    "            if(map[a] == map[b])\n",
    "                return a > b;\n",
    "            return map[a] > map[b];\n",
    "        });\n",
    "        return s;\n",
    "    }\n",
    "};"
   ]
  }
 ],
 "metadata": {
  "kernelspec": {
   "display_name": "C",
   "language": "c",
   "name": "c"
  },
  "language_info": {
   "file_extension": ".c",
   "mimetype": "text/plain",
   "name": "c"
  }
 },
 "nbformat": 4,
 "nbformat_minor": 2
}
