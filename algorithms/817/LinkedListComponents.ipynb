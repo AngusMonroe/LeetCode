{
 "cells": [
  {
   "cell_type": "markdown",
   "metadata": {},
   "source": [
    "https://leetcode.com/problems/linked-list-components/"
   ]
  },
  {
   "cell_type": "markdown",
   "metadata": {},
   "source": [
    "## 题目大意\n",
    "给定一个链表，给定一个列表G，它是链表中值的子集。\n",
    "\n",
    "返回G中连接组件的数量，如果它们在链表中连续出现，则连接两个值。\n",
    "\n",
    "## 解题思路\n",
    "通过观察我们可以发现，连接组件的条件是：链表中该元素在G中，但下一个元素不在G中\n",
    "\n",
    "遍历链表求满足条件的连接组件个数即可"
   ]
  },
  {
   "cell_type": "code",
   "execution_count": null,
   "metadata": {
    "collapsed": true
   },
   "outputs": [],
   "source": [
    "# Definition for singly-linked list.\n",
    "# class ListNode:\n",
    "#     def __init__(self, x):\n",
    "#         self.val = x\n",
    "#         self.next = None\n",
    "\n",
    "class Solution:\n",
    "    def numComponents(self, head: 'ListNode', G: 'List[int]') -> 'int':\n",
    "        self.ans = 0\n",
    "        while head:\n",
    "            if head.val in G:\n",
    "                if not head.next or head.next.val not in G:\n",
    "                    self.ans += 1\n",
    "            head = head.next\n",
    "                \n",
    "        return self.ans\n",
    "        "
   ]
  }
 ],
 "metadata": {
  "kernelspec": {
   "display_name": "Python 3",
   "language": "python",
   "name": "python3"
  },
  "language_info": {
   "codemirror_mode": {
    "name": "ipython",
    "version": 3
   },
   "file_extension": ".py",
   "mimetype": "text/x-python",
   "name": "python",
   "nbconvert_exporter": "python",
   "pygments_lexer": "ipython3",
   "version": "3.6.1"
  }
 },
 "nbformat": 4,
 "nbformat_minor": 2
}
