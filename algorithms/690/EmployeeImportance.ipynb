{
 "cells": [
  {
   "cell_type": "markdown",
   "metadata": {},
   "source": [
    "https://leetcode.com/problems/employee-importance/description/"
   ]
  },
  {
   "cell_type": "markdown",
   "metadata": {},
   "source": [
    "## 题目大意\n",
    "给定一个雇员类，其中包含其id、importance值和下属id，求指定雇员的下属的importance值总和\n",
    "\n",
    "## 解题思路\n",
    "DFS"
   ]
  },
  {
   "cell_type": "code",
   "execution_count": null,
   "metadata": {
    "collapsed": true
   },
   "outputs": [],
   "source": [
    "/*\n",
    "// Employee info\n",
    "class Employee {\n",
    "public:\n",
    "    // It's the unique ID of each node.\n",
    "    // unique id of this employee\n",
    "    int id;\n",
    "    // the importance value of this employee\n",
    "    int importance;\n",
    "    // the id of direct subordinates\n",
    "    vector<int> subordinates;\n",
    "};\n",
    "*/\n",
    "class Solution {\n",
    "public:\n",
    "    int check(unordered_map<int, Employee*>& map, const int id){\n",
    "        return map[id]->importance + std::accumulate(map[id]->subordinates.begin(), map[id]->subordinates.end(), 0, [&](int sum, int id){\n",
    "            \n",
    "            return sum + check(map, id);\n",
    "        });\n",
    "    }\n",
    "    \n",
    "    int getImportance(vector<Employee*> employees, int id) {\n",
    "        unordered_map<int, Employee*> map;\n",
    "        std::transform(employees.begin(), employees.end(), std::inserter(map, map.end()), [&](Employee* element){\n",
    "            return std::make_pair(element->id, element);\n",
    "        });\n",
    "        return check(map, id);\n",
    "    }\n",
    "};"
   ]
  }
 ],
 "metadata": {
  "kernelspec": {
   "display_name": "C",
   "language": "c",
   "name": "c"
  },
  "language_info": {
   "file_extension": ".c",
   "mimetype": "text/plain",
   "name": "c"
  }
 },
 "nbformat": 4,
 "nbformat_minor": 2
}
