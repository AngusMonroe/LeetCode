{
 "cells": [
  {
   "cell_type": "markdown",
   "metadata": {},
   "source": [
    "https://leetcode.com/problems/number-complement/description/"
   ]
  },
  {
   "cell_type": "markdown",
   "metadata": {},
   "source": [
    "## 题目大意\n",
    "输入一个整数，输出其每位取反后的值\n",
    "\n",
    "## 知识点\n",
    "我最开始的做法就是用栈储存输入值的二进制值，对每位取反后输出，取反的操作可以将每位与1作异或运算\n"
   ]
  },
  {
   "cell_type": "markdown",
   "metadata": {},
   "source": [
    "## my original code"
   ]
  },
  {
   "cell_type": "code",
   "execution_count": null,
   "metadata": {
    "collapsed": true
   },
   "outputs": [],
   "source": [
    "class Solution {\n",
    "public:\n",
    "    int findComplement(int num) {\n",
    "        stack<int, vector<int>> s;\n",
    "        while (num > 0) {\n",
    "            s.push(num % 2);\n",
    "            num /= 2;\n",
    "        }\n",
    "        int ans = 0;\n",
    "        while (!s.empty()) {\n",
    "            ans = ans * 2 + (1 ^ s.top());\n",
    "            s.pop();\n",
    "        }\n",
    "        return ans;\n",
    "    }\n",
    "};"
   ]
  },
  {
   "cell_type": "markdown",
   "metadata": {},
   "source": [
    "## Easy and Concise Solution using hash set"
   ]
  },
  {
   "cell_type": "code",
   "execution_count": null,
   "metadata": {
    "collapsed": true
   },
   "outputs": [],
   "source": [
    "class Solution {\n",
    "public:\n",
    "    int findComplement(int num) {\n",
    "        unsigned mask = ~0;\n",
    "        while (num & mask) mask <<= 1;\n",
    "        return ~mask & ~num;\n",
    "    }\n",
    "};"
   ]
  },
  {
   "cell_type": "markdown",
   "metadata": {},
   "source": [
    "For example,\n",
    "\n",
    "> num          = 0101\n",
    ">\n",
    "> mask         = 1000\n",
    ">\n",
    "> ~mask & ~num = 0010"
   ]
  }
 ],
 "metadata": {
  "kernelspec": {
   "display_name": "C",
   "language": "c",
   "name": "c"
  },
  "language_info": {
   "file_extension": ".c",
   "mimetype": "text/plain",
   "name": "c"
  }
 },
 "nbformat": 4,
 "nbformat_minor": 2
}
