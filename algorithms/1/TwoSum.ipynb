{
 "cells": [
  {
   "cell_type": "markdown",
   "metadata": {},
   "source": [
    "https://leetcode.com/problems/two-sum/"
   ]
  },
  {
   "cell_type": "markdown",
   "metadata": {},
   "source": [
    "## 题目大意\n",
    "给定一个list和一个目标数，list中有且只有两个数的和等于这个目标数，求这两个数在list中的位置\n",
    "\n",
    "## 解题思路\n",
    "遍历list中的元素，每个元素求其与目标数的差，如果差这个数也存在于list中，则寻找其索引并返回\n",
    "\n",
    "需要注意的是，list中的元素可能有重复，比如3+3=6，所以需要进行处理以保证两个数处于同一位置"
   ]
  },
  {
   "cell_type": "code",
   "execution_count": null,
   "metadata": {
    "collapsed": true
   },
   "outputs": [],
   "source": [
    "class Solution:\n",
    "    def twoSum(self, nums: 'List[int]', target: 'int') -> 'List[int]':\n",
    "        for item in nums:\n",
    "            aim = target - item\n",
    "            loc = nums.index(item)\n",
    "            nums[loc] += 1\n",
    "            if aim in nums and loc != nums.index(aim):\n",
    "                return [loc, nums.index(aim)]\n",
    "            nums[loc] -= 1\n",
    "        "
   ]
  }
 ],
 "metadata": {
  "kernelspec": {
   "display_name": "Python 3",
   "language": "python",
   "name": "python3"
  },
  "language_info": {
   "codemirror_mode": {
    "name": "ipython",
    "version": 3
   },
   "file_extension": ".py",
   "mimetype": "text/x-python",
   "name": "python",
   "nbconvert_exporter": "python",
   "pygments_lexer": "ipython3",
   "version": "3.6.1"
  }
 },
 "nbformat": 4,
 "nbformat_minor": 2
}
