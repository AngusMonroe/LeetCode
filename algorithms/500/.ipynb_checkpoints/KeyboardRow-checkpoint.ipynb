{
 "cells": [
  {
   "cell_type": "markdown",
   "metadata": {},
   "source": [
    "https://leetcode.com/problems/keyboard-row/description/"
   ]
  },
  {
   "cell_type": "markdown",
   "metadata": {},
   "source": [
    "## 题目大意\n",
    "给定一个字符串集，筛选出出现字母均在键盘同一行的字符串\n",
    "\n",
    "## 知识点\n",
    "用哈希表存键盘每一行的字母，然后将每个字符串与之进行比较"
   ]
  },
  {
   "cell_type": "code",
   "execution_count": null,
   "metadata": {
    "collapsed": true
   },
   "outputs": [],
   "source": [
    "class Solution {\n",
    "public:\n",
    "    vector<string> findWords(vector<string> &words) {\n",
    "        vector<unordered_set<char>> dict = {\n",
    "            {'q', 'Q', 'w', 'W', 'e', 'E', 'r', 'R', 't', 'T', 'y', 'Y', 'u', 'U', 'i', 'I', 'o', 'O', 'p', 'P'},\n",
    "            {'a', 'A', 's', 'S', 'd', 'D', 'f', 'F', 'g', 'G', 'h', 'H', 'j', 'J', 'k', 'K', 'l', 'L'},\n",
    "            {'z', 'Z', 'x', 'X', 'c', 'C', 'v', 'V', 'b', 'B', 'n', 'N', 'm', 'M'}};\n",
    "\n",
    "        vector<string> res;\n",
    "\n",
    "        for (auto &word : words) {\n",
    "            vector<bool> d(3, true);\n",
    "\n",
    "            for (auto &ch : word)\n",
    "                for (int i = 0; i < 3; i++)\n",
    "                    if (d[i] && dict[i].find(ch) == dict[i].end())\n",
    "                        d[i] = false;\n",
    "\n",
    "            if (d[0] || d[1] || d[2])\n",
    "                res.push_back(word);\n",
    "        }\n",
    "\n",
    "        return res;\n",
    "    }\n",
    "};"
   ]
  }
 ],
 "metadata": {
  "kernelspec": {
   "display_name": "C",
   "language": "c",
   "name": "c"
  },
  "language_info": {
   "file_extension": ".c",
   "mimetype": "text/plain",
   "name": "c"
  }
 },
 "nbformat": 4,
 "nbformat_minor": 2
}
