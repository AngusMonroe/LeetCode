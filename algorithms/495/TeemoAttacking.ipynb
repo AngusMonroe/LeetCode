{
 "cells": [
  {
   "cell_type": "markdown",
   "metadata": {},
   "source": [
    "https://leetcode.com/problems/teemo-attacking/description/"
   ]
  },
  {
   "cell_type": "markdown",
   "metadata": {},
   "source": [
    "## 题目大意\n",
    "给定一只提莫，他对敌人进行攻击时会使敌人中毒，已知提莫每次攻击时刻和提莫的单次攻击使敌人中毒的时长，问提莫会使敌人中毒多长时间\n",
    "\n",
    "## 解题思路\n",
    "首先将提莫的攻击时刻排序，判断两次攻击造成的中毒时间是否有重合，然后增加相应时间"
   ]
  },
  {
   "cell_type": "code",
   "execution_count": null,
   "metadata": {
    "collapsed": true
   },
   "outputs": [],
   "source": [
    "class Solution {\n",
    "public:\n",
    "    int findPoisonedDuration(vector<int>& timeSeries, int duration) {\n",
    "        if(!timeSeries.size())\n",
    "            return 0;\n",
    "        int ans = duration;\n",
    "        sort(timeSeries.begin(), timeSeries.end());\n",
    "        for(int i = 0; i < timeSeries.size() - 1; i++) {\n",
    "            if(timeSeries[i] + duration - 1 < timeSeries[i + 1])\n",
    "                ans += duration;\n",
    "            else\n",
    "                ans += timeSeries[i + 1] - timeSeries[i];\n",
    "        }\n",
    "        return ans;\n",
    "    }\n",
    "};"
   ]
  }
 ],
 "metadata": {
  "kernelspec": {
   "display_name": "C",
   "language": "c",
   "name": "c"
  },
  "language_info": {
   "file_extension": ".c",
   "mimetype": "text/plain",
   "name": "c"
  }
 },
 "nbformat": 4,
 "nbformat_minor": 2
}
