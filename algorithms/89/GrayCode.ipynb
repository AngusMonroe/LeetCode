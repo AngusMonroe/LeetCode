{
 "cells": [
  {
   "cell_type": "markdown",
   "metadata": {},
   "source": [
    "https://leetcode.com/problems/gray-code/"
   ]
  },
  {
   "cell_type": "markdown",
   "metadata": {},
   "source": [
    "# 题目大意\n",
    "\n",
    "给定一个n，输出$2^n$个数，这$2^n$个数的排列方式如下：\n",
    "\n",
    "```\n",
    "n=3时，输出[0, 1, 3, 2, 6, 7, 5, 4]\n",
    "其二进制为：\n",
    "000\n",
    "001\n",
    "011\n",
    "010\n",
    "110\n",
    "111\n",
    "101\n",
    "100\n",
    "其中相邻两个数的二进制表示仅有一位不同，且不出现重复的数\n",
    "\n",
    "```\n",
    "\n",
    "# 解题思路\n",
    "\n",
    "本质是个找规律的题，根据观察我们很容易发现，第$2^n+i$个数$a(2^n+i)$（$i<n$）可以表示为：$2^n+a(n-i)$\n",
    "\n",
    "或者可以理解为一定存在$a(2^n + i) - a(2^n - i) = 2^n$\n",
    "\n",
    "由此就可以用前面的数推后面的数"
   ]
  },
  {
   "cell_type": "code",
   "execution_count": null,
   "metadata": {
    "collapsed": true
   },
   "outputs": [],
   "source": [
    "class Solution:\n",
    "    def grayCode(self, n: int) -> List[int]:\n",
    "        if n == 0:\n",
    "            return [0]\n",
    "        elif n == 1:\n",
    "            return [0, 1]\n",
    "        ans = [0, 1]\n",
    "        for i in range(1, n):\n",
    "            base = pow(2, i)\n",
    "            l = len(ans)\n",
    "            ans += [base + ans[l - 1 - j] for j in range(l)] \n",
    "        return ans"
   ]
  }
 ],
 "metadata": {
  "kernelspec": {
   "display_name": "Python 3",
   "language": "python",
   "name": "python3"
  },
  "language_info": {
   "codemirror_mode": {
    "name": "ipython",
    "version": 3
   },
   "file_extension": ".py",
   "mimetype": "text/x-python",
   "name": "python",
   "nbconvert_exporter": "python",
   "pygments_lexer": "ipython3",
   "version": "3.6.7"
  }
 },
 "nbformat": 4,
 "nbformat_minor": 2
}
