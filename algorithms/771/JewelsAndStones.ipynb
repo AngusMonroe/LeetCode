{
 "cells": [
  {
   "cell_type": "markdown",
   "metadata": {},
   "source": [
    "https://leetcode.com/problems/jewels-and-stones/description/"
   ]
  },
  {
   "cell_type": "markdown",
   "metadata": {},
   "source": [
    "## my original code"
   ]
  },
  {
   "cell_type": "code",
   "execution_count": null,
   "metadata": {
    "collapsed": true
   },
   "outputs": [],
   "source": [
    "class Solution{\n",
    "public:\n",
    "    int numJewelsInStones(string J, string S) {\n",
    "        bool flag[200] = {false};\n",
    "        int num = 0;\n",
    "        for (int i = 0;i < J.length(); i++)\n",
    "            flag[J[i]] = true;\n",
    "        for (int i = 0;i < S.length(); i++)\n",
    "            if (flag[S[i]] == true)\n",
    "                num++;\n",
    "        return num;\n",
    "    }\n",
    "};"
   ]
  },
  {
   "cell_type": "markdown",
   "metadata": {},
   "source": [
    "## Easy and Concise Solution using hash set"
   ]
  },
  {
   "cell_type": "markdown",
   "metadata": {},
   "source": [
    "First, read `J` and build jewels hash set.\n",
    "Second, read `S` and count jewels.\n",
    "\n",
    "I used hash set so that the time complexity will be O(M+N), instead of O(MN)"
   ]
  },
  {
   "cell_type": "code",
   "execution_count": null,
   "metadata": {
    "collapsed": true
   },
   "outputs": [],
   "source": [
    "int numJewelsInStones(string J, string S) {\n",
    "    int res = 0;\n",
    "    set<char> setJ(J.begin(), J.end());\n",
    "    for (char s : S) if (setJ.count(s)) res++;\n",
    "    return res;\n",
    "}"
   ]
  }
 ],
 "metadata": {
  "kernelspec": {
   "display_name": "C",
   "language": "c",
   "name": "c"
  },
  "language_info": {
   "file_extension": ".c",
   "mimetype": "text/plain",
   "name": "c"
  }
 },
 "nbformat": 4,
 "nbformat_minor": 2
}
