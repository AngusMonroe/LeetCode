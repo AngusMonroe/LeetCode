{
 "cells": [
  {
   "cell_type": "markdown",
   "metadata": {},
   "source": [
    "https://leetcode.com/problems/daily-temperatures/description/"
   ]
  },
  {
   "cell_type": "markdown",
   "metadata": {},
   "source": [
    "## 题目大意\n",
    "给定一个数组，求每一个元素后大于这个元素的元素与该元素的距离\n",
    "\n",
    "## 解题思路\n",
    "最先想到的方法就是双层for循环暴力遍历，然而遇到特殊数据会被卡TLE，然后做了一点微小的优化（判断是否与前一个数字相等）就过了，然而一点都不优雅，应该是LeetCode的测试数据太弱了"
   ]
  },
  {
   "cell_type": "code",
   "execution_count": null,
   "metadata": {
    "collapsed": true
   },
   "outputs": [],
   "source": [
    "class Solution {\n",
    "public:\n",
    "    vector<int> dailyTemperatures(vector<int>& temperatures) {\n",
    "        vector<int> ans;\n",
    "        for(int i = 0; i < temperatures.size(); i++) {\n",
    "            int res = 0;\n",
    "            if(temperatures[i] == temperatures[i - 1]) {\n",
    "                if(ans.back() != 0)\n",
    "                    ans.push_back(ans.back() - 1);\n",
    "                else\n",
    "                    ans.push_back(ans.back());\n",
    "                continue;\n",
    "            }\n",
    "            for(int j = i + 1; j < temperatures.size(); j++) {\n",
    "                if(temperatures[j] > temperatures[i]) {\n",
    "                    res = j - i;\n",
    "                    break;\n",
    "                }\n",
    "            }\n",
    "            ans.push_back(res);\n",
    "        }\n",
    "        return ans;\n",
    "    }\n",
    "};"
   ]
  },
  {
   "cell_type": "markdown",
   "metadata": {},
   "source": [
    "然后看讨论区有一个很简单的方法\n",
    "\n",
    "对题目求解的特点进行分析可以发现，对于一个数字`a[i]`，如果我们知道`a[i]`后面大于`a[i]`的元素与该元素的距离`res[i]`，也就意味着，我们在求解`a[i - 1]`时，如果`a[i - 1] > a[i]`，我们可以直接对比`a[i - 1]`与`a[i + res[i]]`，以此类推可以大大降低时间复杂度（除一些极端特殊数据外），所以我们只需将之前的for循环稍作改动，倒序求解并进行上述优化即可\n",
    "\n",
    "时间复杂度为$O(n)$"
   ]
  },
  {
   "cell_type": "code",
   "execution_count": null,
   "metadata": {
    "collapsed": true
   },
   "outputs": [],
   "source": [
    "class Solution {\n",
    "public:\n",
    "    vector<int> dailyTemperatures(vector<int>& temperatures) {\n",
    "    vector<int> res(temperatures.size());\n",
    "    for (int i = temperatures.size() - 1; i >= 0; --i) {\n",
    "        int j = i + 1;\n",
    "        while (j < temperatures.size() && temperatures[j] <= temperatures[i]) {\n",
    "            if (res[j] > 0) \n",
    "                j = res[j] + j;\n",
    "            else \n",
    "                j = temperatures.size();\n",
    "        }\n",
    "        if (j < temperatures.size()) \n",
    "            res[i] = j - i;\n",
    "    }\n",
    "    return res;\n",
    "}\n",
    "};"
   ]
  }
 ],
 "metadata": {
  "kernelspec": {
   "display_name": "C",
   "language": "c",
   "name": "c"
  },
  "language_info": {
   "file_extension": ".c",
   "mimetype": "text/plain",
   "name": "c"
  }
 },
 "nbformat": 4,
 "nbformat_minor": 2
}
