{
 "cells": [
  {
   "cell_type": "markdown",
   "metadata": {},
   "source": [
    "https://leetcode.com/problems/rotated-digits/description/"
   ]
  },
  {
   "cell_type": "code",
   "execution_count": null,
   "metadata": {
    "collapsed": true
   },
   "outputs": [],
   "source": [
    "class Solution {\n",
    "public:\n",
    "    #define SAME 0 // 0, 1, 8\n",
    "    #define VALID 1 // 2, 6, 8, 9\n",
    "    #define INVALID 2 // 3, 4, 7\n",
    "\n",
    "    int rotatedDigits(int n) {\n",
    "        int i, num, count = 0, is_valid[] = {SAME, SAME, VALID, INVALID, INVALID, VALID, VALID, INVALID, SAME, VALID};\n",
    "        bool found = false;\n",
    "        for(i = 2; i <= n; i++){\n",
    "            for(num = i, found = false; num > 0; num /= 10) {\n",
    "               if(is_valid[num % 10] == INVALID) {\n",
    "                   found = false; \n",
    "                   break;\n",
    "               }\n",
    "               if(is_valid[num % 10] == VALID) \n",
    "                   found = true; \n",
    "            }\n",
    "            if(found == true) \n",
    "                count++;\n",
    "        }\n",
    "        return count;\n",
    "    }\n",
    "};"
   ]
  }
 ],
 "metadata": {
  "kernelspec": {
   "display_name": "C",
   "language": "c",
   "name": "c"
  },
  "language_info": {
   "file_extension": ".c",
   "mimetype": "text/plain",
   "name": "c"
  }
 },
 "nbformat": 4,
 "nbformat_minor": 2
}
