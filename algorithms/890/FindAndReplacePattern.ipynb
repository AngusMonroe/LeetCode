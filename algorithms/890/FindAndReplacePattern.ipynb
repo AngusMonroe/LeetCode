{
 "cells": [
  {
   "cell_type": "markdown",
   "metadata": {},
   "source": [
    "https://leetcode.com/problems/find-and-replace-pattern/"
   ]
  },
  {
   "cell_type": "markdown",
   "metadata": {},
   "source": [
    "# 题目大意\n",
    "\n",
    "给定一个list，其中每个元素都是string且长度相同，再给定一个pattern，输出list中满足该pattern的元素\n",
    "\n",
    "# 解题思路\n",
    "\n",
    "维护两个dictionary，注意边界条件判断"
   ]
  },
  {
   "cell_type": "code",
   "execution_count": null,
   "metadata": {
    "collapsed": true
   },
   "outputs": [],
   "source": [
    "class Solution:\n",
    "    def findAndReplacePattern(self, words: List[str], pattern: str) -> List[str]:\n",
    "        res = []\n",
    "        for word in words:\n",
    "            w2p = {}\n",
    "            p2w = {}\n",
    "            flag = True\n",
    "            for i in range(len(word)):\n",
    "                if word[i] not in w2p.keys():\n",
    "                    if pattern[i] not in p2w.keys():\n",
    "                        w2p[word[i]] = pattern[i]\n",
    "                        p2w[pattern[i]] = word[i]\n",
    "                    else:\n",
    "                        flag = False\n",
    "                        break\n",
    "                elif w2p[word[i]] != pattern[i]:\n",
    "                    flag = False\n",
    "                    break\n",
    "            if flag:\n",
    "               res.append(word)\n",
    "        return res\n"
   ]
  }
 ],
 "metadata": {
  "kernelspec": {
   "display_name": "Python 3",
   "language": "python",
   "name": "python3"
  },
  "language_info": {
   "codemirror_mode": {
    "name": "ipython",
    "version": 3
   },
   "file_extension": ".py",
   "mimetype": "text/x-python",
   "name": "python",
   "nbconvert_exporter": "python",
   "pygments_lexer": "ipython3",
   "version": "3.6.7"
  }
 },
 "nbformat": 4,
 "nbformat_minor": 2
}
