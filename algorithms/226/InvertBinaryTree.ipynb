{
 "cells": [
  {
   "cell_type": "markdown",
   "metadata": {},
   "source": [
    "https://leetcode.com/problems/invert-binary-tree/description/"
   ]
  },
  {
   "cell_type": "markdown",
   "metadata": {},
   "source": [
    "## 题目大意\n",
    "给定一个二叉树，要求将二叉树翻转\n",
    "\n",
    "## 解题思路\n",
    "遍历二叉树，swap每个节点的左右孩子即可"
   ]
  },
  {
   "cell_type": "code",
   "execution_count": null,
   "metadata": {
    "collapsed": true
   },
   "outputs": [],
   "source": [
    "/**\n",
    " * Definition for a binary tree node.\n",
    " * struct TreeNode {\n",
    " *     int val;\n",
    " *     TreeNode *left;\n",
    " *     TreeNode *right;\n",
    " *     TreeNode(int x) : val(x), left(NULL), right(NULL) {}\n",
    " * };\n",
    " */\n",
    "class Solution {\n",
    "public:\n",
    "    \n",
    "    void solve(TreeNode* root) {\n",
    "        if(root == NULL)\n",
    "            return;\n",
    "        swap(root->left, root->right);\n",
    "        solve(root->left);\n",
    "        solve(root->right);\n",
    "    }\n",
    "    \n",
    "    TreeNode* invertTree(TreeNode* root) {\n",
    "        solve(root);\n",
    "        return root;\n",
    "    }\n",
    "};"
   ]
  }
 ],
 "metadata": {
  "kernelspec": {
   "display_name": "C",
   "language": "c",
   "name": "c"
  },
  "language_info": {
   "file_extension": ".c",
   "mimetype": "text/plain",
   "name": "c"
  }
 },
 "nbformat": 4,
 "nbformat_minor": 2
}
