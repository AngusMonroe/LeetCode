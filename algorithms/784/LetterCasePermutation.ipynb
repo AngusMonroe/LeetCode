{
 "cells": [
  {
   "cell_type": "markdown",
   "metadata": {},
   "source": [
    "https://leetcode.com/problems/letter-case-permutation/description/"
   ]
  },
  {
   "cell_type": "markdown",
   "metadata": {},
   "source": [
    "## 题目大意\n",
    "给定一个字符串，输出字符串字母大小写的所有组合情况\n",
    "\n",
    "## 解题思路\n",
    "递归求解所有情况\n",
    "\n",
    "需要注意的是，如果在遍历过程中手动判断字母大小写再进行转换，给人感觉非常不优雅，所以可以选择使用^32这种方法将大小写进行转换，这样一方面节约时间，另一方面也省去了判断大小写的步骤。"
   ]
  },
  {
   "cell_type": "code",
   "execution_count": null,
   "metadata": {
    "collapsed": true
   },
   "outputs": [],
   "source": [
    "class Solution {\n",
    "public:\n",
    "    void permute (string S, vector<string>& result, int index) {\n",
    "        result.push_back(S);\n",
    "        \n",
    "        if(index >= S.size())\n",
    "            return;      \n",
    "        \n",
    "        for (int i = index ; i < S.size(); i++) {\n",
    "            if (isalpha(S[i])) {\n",
    "                S[i] ^= 32;\n",
    "                permute (S, result, i+1);\n",
    "                S[i] ^= 32;\n",
    "            }\n",
    "        }\n",
    "    }\n",
    "    \n",
    "    vector<string> letterCasePermutation(string S) {\n",
    "        vector<string> result;\n",
    "        permute(S, result, 0);\n",
    "        return result;\n",
    "    }\n",
    "};"
   ]
  }
 ],
 "metadata": {
  "kernelspec": {
   "display_name": "C",
   "language": "c",
   "name": "c"
  },
  "language_info": {
   "file_extension": ".c",
   "mimetype": "text/plain",
   "name": "c"
  }
 },
 "nbformat": 4,
 "nbformat_minor": 2
}
