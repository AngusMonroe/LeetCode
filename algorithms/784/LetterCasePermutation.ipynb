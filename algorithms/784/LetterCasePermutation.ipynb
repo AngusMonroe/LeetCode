{
 "cells": [
  {
   "cell_type": "markdown",
   "metadata": {},
   "source": [
    "https://leetcode.com/problems/letter-case-permutation/description/"
   ]
  },
  {
   "cell_type": "markdown",
   "metadata": {},
   "source": [
    "## "
   ]
  },
  {
   "cell_type": "code",
   "execution_count": null,
   "metadata": {
    "collapsed": true
   },
   "outputs": [],
   "source": [
    "class Solution {\n",
    "public:\n",
    "    void permute (string S, vector<string>& result, int index) {\n",
    "        result.push_back(S);\n",
    "        \n",
    "        if(index >= S.size())\n",
    "            return;      \n",
    "        \n",
    "        for (int i = index ; i < S.size(); i++) {\n",
    "            if (isalpha(S[i])) {\n",
    "                S[i] ^= 32;\n",
    "                permute (S, result, i+1);\n",
    "                S[i] ^= 32;\n",
    "            }\n",
    "        }\n",
    "    }\n",
    "    \n",
    "    vector<string> letterCasePermutation(string S) {\n",
    "        vector<string> result;\n",
    "        permute(S, result, 0);\n",
    "        return result;\n",
    "    }\n",
    "};"
   ]
  }
 ],
 "metadata": {
  "kernelspec": {
   "display_name": "C",
   "language": "c",
   "name": "c"
  },
  "language_info": {
   "file_extension": ".c",
   "mimetype": "text/plain",
   "name": "c"
  }
 },
 "nbformat": 4,
 "nbformat_minor": 2
}
