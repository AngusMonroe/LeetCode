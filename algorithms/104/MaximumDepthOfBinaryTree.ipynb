{
 "cells": [
  {
   "cell_type": "markdown",
   "metadata": {},
   "source": [
    "https://leetcode.com/problems/maximum-depth-of-binary-tree/description/"
   ]
  },
  {
   "cell_type": "markdown",
   "metadata": {},
   "source": [
    "## 题目大意\n",
    "求二叉树深度\n",
    "\n",
    "## 解题思路\n",
    "递归遍历求解"
   ]
  },
  {
   "cell_type": "code",
   "execution_count": null,
   "metadata": {
    "collapsed": true
   },
   "outputs": [],
   "source": [
    "/**\n",
    " * Definition for a binary tree node.\n",
    " * struct TreeNode {\n",
    " *     int val;\n",
    " *     TreeNode *left;\n",
    " *     TreeNode *right;\n",
    " *     TreeNode(int x) : val(x), left(NULL), right(NULL) {}\n",
    " * };\n",
    " */\n",
    "class Solution {\n",
    "public:\n",
    "    int depth = 0;\n",
    "    \n",
    "    void check(TreeNode* root, int num) {\n",
    "        if(root == NULL)\n",
    "            return;\n",
    "        if(num > depth)\n",
    "            depth = num;\n",
    "        check(root->left, num + 1);\n",
    "        check(root->right, num + 1);\n",
    "    }\n",
    "    \n",
    "    int maxDepth(TreeNode* root) {\n",
    "        check(root, 1);\n",
    "        return depth;\n",
    "    }\n",
    "};"
   ]
  }
 ],
 "metadata": {
  "kernelspec": {
   "display_name": "C",
   "language": "c",
   "name": "c"
  },
  "language_info": {
   "file_extension": ".c",
   "mimetype": "text/plain",
   "name": "c"
  }
 },
 "nbformat": 4,
 "nbformat_minor": 2
}
