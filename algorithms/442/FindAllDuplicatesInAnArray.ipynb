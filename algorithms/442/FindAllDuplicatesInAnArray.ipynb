{
 "cells": [
  {
   "cell_type": "markdown",
   "metadata": {},
   "source": [
    "https://leetcode.com/problems/find-all-duplicates-in-an-array/description/"
   ]
  },
  {
   "cell_type": "markdown",
   "metadata": {},
   "source": [
    "## 题目大意\n",
    "给定一个长度为n的数组，该数组中元素的值在1~n之间，且每个元素至多出现两次，求出现两次的元素有哪些，要求算法时间复杂度为`O(n)`，且不使用额外空间\n",
    "\n",
    "## 知识点\n",
    "其实并不很明白题目中所说“without extra space”是什么意思，我一开始认为是指只能使用给定数组这一个数组空间，后来发现做不出来，网上查到的算法也都是时间复杂度或空间复杂度不符合要求的，下面这种做法是网上采纳最多的一种方法，时间复杂度为`O(n)`，但额外开了一个res数组\n",
    "\n",
    "其主要思路是：由于出现数字的范围和数组长度一致，并且只重复出现两次，可以用位置标记，当这个位置被访问一次的时候，将位子上的数字置负，再次访问的时候，就将该表示该位置的数存入结果数组。"
   ]
  },
  {
   "cell_type": "code",
   "execution_count": null,
   "metadata": {
    "collapsed": true
   },
   "outputs": [],
   "source": [
    "class Solution {\n",
    "public:\n",
    "    vector<int> findDuplicates(vector<int>& nums) {\n",
    "        vector<int> res;\n",
    "        for (int i = 0; i < nums.size(); i++) {\n",
    "            int flag = abs(nums[i]) - 1;\n",
    "            if (nums[flag] > 0)\n",
    "                nums[flag] = -nums[flag];\n",
    "            else\n",
    "                res.push_back(flag + 1);\n",
    "        }\n",
    "        return res;\n",
    "    }\n",
    "};"
   ]
  }
 ],
 "metadata": {
  "kernelspec": {
   "display_name": "C",
   "language": "c",
   "name": "c"
  },
  "language_info": {
   "file_extension": ".c",
   "mimetype": "text/plain",
   "name": "c"
  }
 },
 "nbformat": 4,
 "nbformat_minor": 2
}
