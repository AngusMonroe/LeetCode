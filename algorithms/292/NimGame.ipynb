{
 "cells": [
  {
   "cell_type": "markdown",
   "metadata": {},
   "source": [
    "https://leetcode.com/problems/nim-game/description/"
   ]
  },
  {
   "cell_type": "markdown",
   "metadata": {},
   "source": [
    "## 题目大意\n",
    "有一堆石头，你和你的朋友每次只能从中拿1~3块，拿走最后一块的人被认为胜利，你们都会选择最优解，问你最后能否获得胜利\n",
    "\n",
    "## 解题思路\n",
    "这是一道算法入门级的组合问题，经过观察和题目描述我们可以发现，如果一方在拿完之后这堆石头还有4块，那这个人必定胜利，因为4是双方的一个“可控范围”，另一方无论这次拿几块，下一次这一方都可以把剩下的都拿走，同理我们可以发现凡是4的倍数都满足这个规律，那么只需判断石头块数是不是4的倍数即可\n"
   ]
  },
  {
   "cell_type": "code",
   "execution_count": null,
   "metadata": {
    "collapsed": true
   },
   "outputs": [],
   "source": [
    "class Solution {\n",
    "public:\n",
    "    bool canWinNim(int n) {\n",
    "        if (n % 4 == 0)\n",
    "            return false;\n",
    "        else\n",
    "            return true;\n",
    "    }\n",
    "};"
   ]
  }
 ],
 "metadata": {
  "kernelspec": {
   "display_name": "C",
   "language": "c",
   "name": "c"
  },
  "language_info": {
   "file_extension": ".c",
   "mimetype": "text/plain",
   "name": "c"
  }
 },
 "nbformat": 4,
 "nbformat_minor": 2
}
