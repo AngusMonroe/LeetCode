{
 "cells": [
  {
   "cell_type": "markdown",
   "metadata": {},
   "source": [
    "https://leetcode.com/problems/encode-and-decode-tinyurl/description/"
   ]
  },
  {
   "cell_type": "markdown",
   "metadata": {},
   "source": [
    "The title clearly recommends using six random characters for encoding. Then we only need to randomly generate 6 characters in all uppercase and lowercase letters and numbers. We use a hash table to create a mapping between 6 characters and url. If the randomly generated character has existed before, we continue to randomly generate a new string until a string that was not previously generated is generated. The following code uses two hash tables. The purpose is to create a mapping between six random strings and urls so that when a large number of identical urls come in, there is no need to generate new random strings."
   ]
  },
  {
   "cell_type": "code",
   "execution_count": null,
   "metadata": {
    "collapsed": true
   },
   "outputs": [],
   "source": [
    "class Solution {\n",
    "    \n",
    "private:\n",
    "    unordered_map<string, string> short2long, long2short;\n",
    "    const string dict = \"0123456789abcdefghijklmnopqrstuvwxyzABCDEFGHIJKLMNOPQRSTUVWXYZ\";;\n",
    "    \n",
    "public:\n",
    "    \n",
    "    Solution() {\n",
    "        short2long.clear();\n",
    "        long2short.clear();\n",
    "        srand(time(NULL));\n",
    "    }\n",
    "\n",
    "    // Encodes a URL to a shortened URL.\n",
    "    string encode(string longUrl) {\n",
    "        if (long2short.count(longUrl))\n",
    "            return \"http://tinyurl.com/\" + long2short[longUrl];\n",
    "        int idx = 0;\n",
    "        string randStr;\n",
    "        for (int i = 0; i < 6; ++i)\n",
    "            randStr.push_back(dict[rand() % 62]);\n",
    "        while (short2long.count(randStr)) {\n",
    "            randStr[idx] = dict[rand() % 62];\n",
    "            idx = (idx + 1) % 5;\n",
    "        }\n",
    "        short2long[randStr] = longUrl;\n",
    "        long2short[longUrl] = randStr;\n",
    "        return \"http://tinyurl.com/\" + randStr;\n",
    "    }\n",
    "\n",
    "    // Decodes a shortened URL to its original URL.\n",
    "    string decode(string shortUrl) {\n",
    "        string randStr = shortUrl.substr(shortUrl.find_last_of(\"/\") + 1);\n",
    "        return short2long.count(randStr) ? short2long[randStr] : shortUrl;\n",
    "    }\n",
    "    \n",
    "};\n",
    "\n",
    "// Your Solution object will be instantiated and called as such:\n",
    "// Solution solution;\n",
    "// solution.decode(solution.encode(url));"
   ]
  },
  {
   "cell_type": "markdown",
   "metadata": {},
   "source": [
    "### reference\n",
    "http://www.cnblogs.com/grandyang/p/6562209.html"
   ]
  }
 ],
 "metadata": {
  "kernelspec": {
   "display_name": "C",
   "language": "c",
   "name": "c"
  },
  "language_info": {
   "file_extension": ".c",
   "mimetype": "text/plain",
   "name": "c"
  }
 },
 "nbformat": 4,
 "nbformat_minor": 2
}
