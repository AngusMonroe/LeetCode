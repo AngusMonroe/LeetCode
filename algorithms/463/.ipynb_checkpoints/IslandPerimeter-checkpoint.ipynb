{
 "cells": [
  {
   "cell_type": "markdown",
   "metadata": {},
   "source": [
    "https://leetcode.com/problems/island-perimeter/description/"
   ]
  },
  {
   "cell_type": "markdown",
   "metadata": {},
   "source": [
    "## 题目大意\n",
    "给定一个二维数组，其每一个位置视为一个正方形，1表示陆地，0表示海洋，问海岸线（陆地与海洋的交界）有多长\n",
    "\n",
    "![island](https://leetcode.com/static/images/problemset/island.png)\n",
    "\n",
    "## 知识点\n",
    "由题意可知，海岸线只存在于0与1的交界处（包括上下左右），因此只需找出满足条件的位置个数即可"
   ]
  },
  {
   "cell_type": "code",
   "execution_count": null,
   "metadata": {
    "collapsed": true
   },
   "outputs": [],
   "source": [
    "class Solution {\n",
    "public:\n",
    "    int islandPerimeter(vector<vector<int>>& grid) {\n",
    "        int ans = 0;\n",
    "        for (int i = 0; i < grid.size(); i++) {\n",
    "            for (int j = 0; j < grid[i].size(); j++) {\n",
    "                if (grid[i][j] == 1) {\n",
    "                    if (i == 0 || grid[i - 1][j] == 0)\n",
    "                        ans++;\n",
    "                    if (j == 0 || grid[i][j - 1] == 0)\n",
    "                        ans++;\n",
    "                    if (i == grid.size() - 1 || grid[i + 1][j] == 0)\n",
    "                        ans++;\n",
    "                    if (j == grid[i].size() - 1 || grid[i][j + 1] == 0)\n",
    "                        ans++;\n",
    "                }\n",
    "            }\n",
    "        }\n",
    "        return ans;\n",
    "    }\n",
    "};"
   ]
  }
 ],
 "metadata": {
  "kernelspec": {
   "display_name": "C",
   "language": "c",
   "name": "c"
  },
  "language_info": {
   "file_extension": ".c",
   "mimetype": "text/plain",
   "name": "c"
  }
 },
 "nbformat": 4,
 "nbformat_minor": 2
}
