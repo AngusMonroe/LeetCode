{
 "cells": [
  {
   "cell_type": "markdown",
   "metadata": {},
   "source": [
    "https://leetcode.com/problems/non-decreasing-array/"
   ]
  },
  {
   "cell_type": "markdown",
   "metadata": {},
   "source": [
    "## 题目大意\n",
    "给定一个数组，问能否在至多改变一个数字的情况下将其变为非减数组（即右一个元素总大于等于左一个元素）\n",
    "\n",
    "## 解题思路\n",
    "当右一个元素小于做一个元素时，有两种修改数字的方法：1)当右一个元素小于次大的元素时，只能将右一个元素变为左一个元素；2)当右一个元素小于左一个元素但大于等于次大的元素（且当前仅有一个最大元素）时，可以将左一个元素变为右一个元素，此时最大次大的元素都等于右一个元素\n",
    "\n",
    "我们可以发现，其实次大的元素就是左边元素再左边的元素，由此可将该算法进一步优化"
   ]
  },
  {
   "cell_type": "code",
   "execution_count": null,
   "metadata": {
    "collapsed": true
   },
   "outputs": [],
   "source": [
    "class Solution:\n",
    "    def checkPossibility(self, nums: List[int]) -> bool:\n",
    "        if len(nums) <= 2:\n",
    "            return True\n",
    "        if nums[0] > nums[1]:\n",
    "            num = 1\n",
    "            max1 = max2 = nums[1]\n",
    "        else:\n",
    "            max1 = nums[1]\n",
    "            max2 = nums[0]\n",
    "            num = 0\n",
    "        for i in range(2, len(nums)):\n",
    "            if nums[i] < max2:\n",
    "                num += 1\n",
    "                max2 = max1\n",
    "            elif nums[i] < max1:\n",
    "                num += 1\n",
    "                if max1 == max2:\n",
    "                    return False\n",
    "                max2 = max1 = nums[i]\n",
    "            else:\n",
    "                max2 = max1\n",
    "                max1 = nums[i]\n",
    "                \n",
    "            \n",
    "            if num > 1:\n",
    "                return False\n",
    "        return True"
   ]
  },
  {
   "cell_type": "code",
   "execution_count": null,
   "metadata": {
    "collapsed": true
   },
   "outputs": [],
   "source": [
    "class Solution:\n",
    "    def checkPossibility(self, nums: List[int]) -> bool:\n",
    "        \n",
    "        count = 0\n",
    "        \n",
    "        if len(nums)==1 :\n",
    "            return True\n",
    "        \n",
    "        for i in range(len(nums)-1):\n",
    "            \n",
    "            #any non decreasing pair identified\n",
    "            if nums[i]>nums[i+1]:\n",
    "                \n",
    "                #two possibilities\n",
    "                \n",
    "                #eg:[1,*4*,*2*,3]  ==> [1,2,2,3] \n",
    "                if i<1 or nums[i-1]<=nums[i+1]:\n",
    "                    nums[i] = nums[i+1]\n",
    "                #eg:[2,3,*3*,*2*,4] ==> [2,3,3,3,4]\n",
    "                else:\n",
    "                    nums[i+1] = nums[i]\n",
    "                    \n",
    "                count+=1\n",
    "                \n",
    "        return count <= 1"
   ]
  }
 ],
 "metadata": {
  "kernelspec": {
   "display_name": "Python 3",
   "language": "python",
   "name": "python3"
  },
  "language_info": {
   "codemirror_mode": {
    "name": "ipython",
    "version": 3
   },
   "file_extension": ".py",
   "mimetype": "text/x-python",
   "name": "python",
   "nbconvert_exporter": "python",
   "pygments_lexer": "ipython3",
   "version": "3.6.7"
  }
 },
 "nbformat": 4,
 "nbformat_minor": 2
}
