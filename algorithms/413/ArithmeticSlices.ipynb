{
 "cells": [
  {
   "cell_type": "markdown",
   "metadata": {},
   "source": [
    "https://leetcode.com/problems/arithmetic-slices/description/"
   ]
  },
  {
   "cell_type": "markdown",
   "metadata": {},
   "source": [
    "## 题目大意\n",
    "求一个数组中包含的长度大于3的等差数列的数量（可以互相包含）\n",
    "\n",
    "## 解题思路\n",
    "dp"
   ]
  },
  {
   "cell_type": "code",
   "execution_count": null,
   "metadata": {
    "collapsed": true
   },
   "outputs": [],
   "source": [
    "class Solution {\n",
    "public:\n",
    "    int numberOfArithmeticSlices(vector<int>& A) {\n",
    "         int n = A.size();\n",
    "        if (n < 3) return 0;\n",
    "        vector<int> dp(n, 0); // dp[i] means the number of arithmetic slices ending with A[i]\n",
    "        if (A[2]-A[1] == A[1]-A[0]) dp[2] = 1; // if the first three numbers are arithmetic or not\n",
    "        int result = dp[2];\n",
    "        for (int i = 3; i < n; ++i) {\n",
    "            // if A[i-2], A[i-1], A[i] are arithmetic, then the number of arithmetic slices ending with A[i] (dp[i])\n",
    "            // equals to:\n",
    "            //      the number of arithmetic slices ending with A[i-1] (dp[i-1], all these arithmetic slices appending A[i] are also arithmetic)\n",
    "            //      +\n",
    "            //      A[i-2], A[i-1], A[i] (a brand new arithmetic slice)\n",
    "            // it is how dp[i] = dp[i-1] + 1 comes\n",
    "            if (A[i]-A[i-1] == A[i-1]-A[i-2]) \n",
    "                dp[i] = dp[i-1] + 1;\n",
    "            result += dp[i]; // accumulate all valid slices\n",
    "        }\n",
    "        return result;\n",
    "    }\n",
    "};"
   ]
  }
 ],
 "metadata": {
  "kernelspec": {
   "display_name": "C",
   "language": "c",
   "name": "c"
  },
  "language_info": {
   "file_extension": ".c",
   "mimetype": "text/plain",
   "name": "c"
  }
 },
 "nbformat": 4,
 "nbformat_minor": 2
}
