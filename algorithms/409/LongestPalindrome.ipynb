{
 "cells": [
  {
   "cell_type": "markdown",
   "metadata": {},
   "source": [
    "https://leetcode.com/problems/longest-palindrome/"
   ]
  },
  {
   "cell_type": "markdown",
   "metadata": {},
   "source": [
    "# 题目大意\n",
    "\n",
    "给定一个字符串，判断使用这些字符能构成的最长回文串长度\n",
    "\n",
    "# 解题思路\n",
    "\n",
    "由于回文串的对称性，我们可以先从给定字符中每种取出偶数个，若取完还有字符剩余，则将结果+1（因为奇数长度的回文串中间可以有一个不同字符）"
   ]
  },
  {
   "cell_type": "code",
   "execution_count": null,
   "metadata": {
    "collapsed": true
   },
   "outputs": [],
   "source": [
    "class Solution:\n",
    "    def longestPalindrome(self, s: str) -> int:\n",
    "        num = [0] * (ord('z')-ord('A') + 1)\n",
    "        for sym in s:\n",
    "            num[ord(sym) - ord('A')] += 1\n",
    "        ans = 0\n",
    "        for n in num:\n",
    "            if n % 2:\n",
    "                ans += n - 1\n",
    "            else:\n",
    "                ans += n\n",
    "        if ans < len(s):\n",
    "            ans += 1\n",
    "        return ans"
   ]
  }
 ],
 "metadata": {
  "kernelspec": {
   "display_name": "Python 3",
   "language": "python",
   "name": "python3"
  },
  "language_info": {
   "codemirror_mode": {
    "name": "ipython",
    "version": 3
   },
   "file_extension": ".py",
   "mimetype": "text/x-python",
   "name": "python",
   "nbconvert_exporter": "python",
   "pygments_lexer": "ipython3",
   "version": "3.6.7"
  }
 },
 "nbformat": 4,
 "nbformat_minor": 2
}
