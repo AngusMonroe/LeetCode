{
 "cells": [
  {
   "cell_type": "markdown",
   "metadata": {},
   "source": [
    "https://leetcode.com/problems/map-sum-pairs/description/"
   ]
  },
  {
   "cell_type": "markdown",
   "metadata": {},
   "source": [
    "## 题目大意\n",
    "构造一个map，并实现insert和sum操作"
   ]
  },
  {
   "cell_type": "code",
   "execution_count": null,
   "metadata": {
    "collapsed": true
   },
   "outputs": [],
   "source": [
    "class MapSum {\n",
    "public:\n",
    "    /** Initialize your data structure here. */\n",
    "    MapSum() {\n",
    "        \n",
    "    }\n",
    "    \n",
    "    void insert(string key, int val) {\n",
    "        mp[key] = val;\n",
    "    }\n",
    "    \n",
    "    int sum(string prefix) {\n",
    "        int sum = 0, n = prefix.size();\n",
    "        for (auto it = mp.lower_bound(prefix); it != mp.end() && it->first.substr(0, n) == prefix; it++) \n",
    "            sum += it->second;\n",
    "        return sum;\n",
    "    }\n",
    "private:\n",
    "    map<string, int> mp;\n",
    "};\n",
    "\n",
    "/**\n",
    " * Your MapSum object will be instantiated and called as such:\n",
    " * MapSum obj = new MapSum();\n",
    " * obj.insert(key,val);\n",
    " * int param_2 = obj.sum(prefix);\n",
    " */"
   ]
  }
 ],
 "metadata": {
  "kernelspec": {
   "display_name": "C",
   "language": "c",
   "name": "c"
  },
  "language_info": {
   "file_extension": ".c",
   "mimetype": "text/plain",
   "name": "c"
  }
 },
 "nbformat": 4,
 "nbformat_minor": 2
}
