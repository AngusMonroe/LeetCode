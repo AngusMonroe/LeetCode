{
 "cells": [
  {
   "cell_type": "markdown",
   "metadata": {},
   "source": [
    "https://leetcode.com/problems/fizz-buzz/description/"
   ]
  },
  {
   "cell_type": "markdown",
   "metadata": {},
   "source": [
    "## 题目大意\n",
    "输入一个数字n，返回一个储存1~n的数组，并进行以下处理：\n",
    "\n",
    "1. 若某数字能被3整除，则替换为Fizz\n",
    "2. 若某数字能被5整除，则替换为Buzz\n",
    "3. 若某数字既能被3整除又能被5整除，则替换为FizzBuzz\n",
    "\n",
    "## 知识点\n",
    "遍历过程中暴力判断即可"
   ]
  },
  {
   "cell_type": "code",
   "execution_count": null,
   "metadata": {
    "collapsed": true
   },
   "outputs": [],
   "source": [
    "class Solution {\n",
    "public:\n",
    "    vector<string> fizzBuzz(int n) {\n",
    "        vector<string> ans;\n",
    "        for (int i = 1; i <= n; i++) {\n",
    "            if (i % 3 == 0 && i % 5 == 0)\n",
    "                ans.push_back(\"FizzBuzz\");\n",
    "            else if (i % 3 == 0)\n",
    "                ans.push_back(\"Fizz\");\n",
    "            else if (i % 5 == 0)\n",
    "                ans.push_back(\"Buzz\");\n",
    "            else\n",
    "                ans.push_back(to_string(i));\n",
    "        }\n",
    "        return ans;\n",
    "    }\n",
    "};"
   ]
  }
 ],
 "metadata": {
  "kernelspec": {
   "display_name": "C",
   "language": "c",
   "name": "c"
  },
  "language_info": {
   "file_extension": ".c",
   "mimetype": "text/plain",
   "name": "c"
  }
 },
 "nbformat": 4,
 "nbformat_minor": 2
}
