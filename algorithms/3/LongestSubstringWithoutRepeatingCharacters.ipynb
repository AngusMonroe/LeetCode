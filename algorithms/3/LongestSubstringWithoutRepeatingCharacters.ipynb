{
 "cells": [
  {
   "cell_type": "markdown",
   "metadata": {},
   "source": [
    "https://leetcode.com/problems/longest-substring-without-repeating-characters/"
   ]
  },
  {
   "cell_type": "markdown",
   "metadata": {},
   "source": [
    "## 题目大意\n",
    "给定一个字符串，求其最长的一个没有重复字符的子串的长度\n",
    "\n",
    "## 解题思路\n",
    "构造一个窗口进行滑动，从左到右复杂度为O(n)，每次滑动右边时判断是否重复，若重复记录当前长度并将左边向右滑动直至没有重复，重复这一过程直至结束"
   ]
  },
  {
   "cell_type": "code",
   "execution_count": null,
   "metadata": {
    "collapsed": true
   },
   "outputs": [],
   "source": [
    "class Solution:\n",
    "    def lengthOfLongestSubstring(self, s: str) -> int:\n",
    "        if not s:\n",
    "            return 0\n",
    "        ans = 1\n",
    "        l, r = 0, 0\n",
    "        while r < len(s):\n",
    "            r += 1\n",
    "            if len(s[l:r]) > ans:\n",
    "                ans = len(s[l:r])\n",
    "            if r < len(s) and s[r] in s[l: r]:\n",
    "                while l < r and s[l] != s[r]:\n",
    "                    l += 1\n",
    "                l += 1\n",
    "        return ans"
   ]
  }
 ],
 "metadata": {
  "kernelspec": {
   "display_name": "Python 3",
   "language": "python",
   "name": "python3"
  },
  "language_info": {
   "codemirror_mode": {
    "name": "ipython",
    "version": 3
   },
   "file_extension": ".py",
   "mimetype": "text/x-python",
   "name": "python",
   "nbconvert_exporter": "python",
   "pygments_lexer": "ipython3",
   "version": "3.6.7"
  }
 },
 "nbformat": 4,
 "nbformat_minor": 2
}
