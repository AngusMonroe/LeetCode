{
 "cells": [
  {
   "cell_type": "markdown",
   "metadata": {},
   "source": [
    "https://leetcode.com/problems/integer-break"
   ]
  },
  {
   "cell_type": "markdown",
   "metadata": {},
   "source": [
    "## 题目大意\n",
    "将一个正整数化为若干个正整数和的形式，求这些正整数的乘积最大值\n",
    "\n",
    "## 解题思路\n",
    "如果将一个正整数化为两个正整数之和的形式，且这两个正整数之积最大，则拆分出的这两个正整数应该相等（原正整数为偶数）或相差1（原正整数为奇数）\n",
    "\n",
    "那么，我们可以重复该过程直至正整数不可拆为止，由于将正整数拆成1没有意义，故拆分成的最小正整数为2，最终的正整数应该只包含2和3\n",
    "\n",
    "但同时我们可以发现$2*2*2<3*3$，所以每有3个2，我们就应该将其转化为2个3，以保证其乘积最大\n",
    "\n",
    "那么我们可以将上述过程简化，从原正整数不断取出3，直至此正整数小于或等于4，需要注意的是，如果最终余4，我们选择将其转化为2*2而不是1*3"
   ]
  },
  {
   "cell_type": "code",
   "execution_count": null,
   "metadata": {
    "collapsed": true
   },
   "outputs": [],
   "source": [
    "class Solution:\n",
    "    def integerBreak(self, n: 'int') -> 'int':\n",
    "        ans = 1\n",
    "        if n == 2:\n",
    "            return 1\n",
    "        elif n == 3:\n",
    "            return 2\n",
    "        elif n == 4:\n",
    "            return 4\n",
    "        while n > 4:\n",
    "            n -= 3\n",
    "            ans *= 3\n",
    "        ans *= n\n",
    "        return ans"
   ]
  }
 ],
 "metadata": {
  "kernelspec": {
   "display_name": "Python 3",
   "language": "python",
   "name": "python3"
  },
  "language_info": {
   "codemirror_mode": {
    "name": "ipython",
    "version": 3
   },
   "file_extension": ".py",
   "mimetype": "text/x-python",
   "name": "python",
   "nbconvert_exporter": "python",
   "pygments_lexer": "ipython3",
   "version": "3.6.1"
  }
 },
 "nbformat": 4,
 "nbformat_minor": 2
}
