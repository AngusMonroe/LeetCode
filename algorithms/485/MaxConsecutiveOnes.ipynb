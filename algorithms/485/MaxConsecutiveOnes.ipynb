{
 "cells": [
  {
   "cell_type": "markdown",
   "metadata": {},
   "source": [
    "https://leetcode.com/problems/max-consecutive-ones/description/"
   ]
  },
  {
   "cell_type": "markdown",
   "metadata": {},
   "source": [
    "## 题目大意\n",
    "给定一个由0和1组成的数组，求其中最长的连续的1的个数\n",
    "\n",
    "## 解题思路\n",
    "遍历数组记录连续1的最大长度即可，时间复杂度为`O(n)`"
   ]
  },
  {
   "cell_type": "code",
   "execution_count": null,
   "metadata": {
    "collapsed": true
   },
   "outputs": [],
   "source": [
    "class Solution {\n",
    "public:\n",
    "    int findMaxConsecutiveOnes(vector<int>& nums) {\n",
    "        int ans = 0;\n",
    "        for (int i = 0, num = 0; i < nums.size(); i++) {\n",
    "            if (nums[i] == 1) {\n",
    "                num++;\n",
    "                if (num > ans)\n",
    "                    ans = num;\n",
    "            } \n",
    "            else\n",
    "                num = 0;\n",
    "        }\n",
    "        return ans;\n",
    "    }\n",
    "};"
   ]
  }
 ],
 "metadata": {
  "kernelspec": {
   "display_name": "C",
   "language": "c",
   "name": "c"
  },
  "language_info": {
   "file_extension": ".c",
   "mimetype": "text/plain",
   "name": "c"
  }
 },
 "nbformat": 4,
 "nbformat_minor": 2
}
