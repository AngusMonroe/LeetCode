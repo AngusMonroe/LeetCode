{
 "cells": [
  {
   "cell_type": "markdown",
   "metadata": {},
   "source": [
    "https://leetcode.com/problems/groups-of-special-equivalent-strings/"
   ]
  },
  {
   "cell_type": "markdown",
   "metadata": {},
   "source": [
    "# 题目大意\n",
    "\n",
    "定义了一种Special-Equivalent Strings，给定两个字符串，若通过任意交换奇数位的数，再任意交换偶数位上的数，两个字符串能变为同一形式，则其属于一种Special-Equivalent Strings。给一个string list，求其中有多少种Special-Equivalent Strings\n",
    "\n",
    "# 解题思路\n",
    "\n",
    "通过观察发现，同种Special-Equivalent Strings需要满足的条件是偶数位出现的字母及次数相同，同时奇数位上出现的字母及次数相同，统计其个数即可"
   ]
  },
  {
   "cell_type": "code",
   "execution_count": null,
   "metadata": {
    "collapsed": true
   },
   "outputs": [],
   "source": [
    "class Solution:\n",
    "    def numSpecialEquivGroups(self, A: List[str]) -> int:\n",
    "        mix_list = []\n",
    "        for s in A:\n",
    "            odd = {}\n",
    "            even = {}\n",
    "            for i, sym in enumerate(s):\n",
    "                if i % 2 == 0:\n",
    "                    if sym in even.keys():\n",
    "                        even[sym] += 1\n",
    "                    else:\n",
    "                        even[sym] = 0\n",
    "                else:\n",
    "                    if sym in odd.keys():\n",
    "                        odd[sym] += 1\n",
    "                    else:\n",
    "                        odd[sym] = 0\n",
    "            if [odd, even] not in mix_list:\n",
    "                mix_list.append([odd, even])\n",
    "        return len(mix_list)\n",
    "        "
   ]
  },
  {
   "cell_type": "markdown",
   "metadata": {},
   "source": [
    "还有一种更为简洁的写法"
   ]
  },
  {
   "cell_type": "code",
   "execution_count": null,
   "metadata": {
    "collapsed": true
   },
   "outputs": [],
   "source": [
    "class Solution(object):\n",
    "    def numSpecialEquivGroups(self, A):\n",
    "        def count(A):\n",
    "            ans = [0] * 52\n",
    "            for i, letter in enumerate(A):\n",
    "                ans[ord(letter) - ord('a') + 26 * (i%2)] += 1\n",
    "            return tuple(ans)\n",
    "\n",
    "        return len({count(word) for word in A})"
   ]
  }
 ],
 "metadata": {
  "kernelspec": {
   "display_name": "Python 3",
   "language": "python",
   "name": "python3"
  },
  "language_info": {
   "codemirror_mode": {
    "name": "ipython",
    "version": 3
   },
   "file_extension": ".py",
   "mimetype": "text/x-python",
   "name": "python",
   "nbconvert_exporter": "python",
   "pygments_lexer": "ipython3",
   "version": "3.6.7"
  }
 },
 "nbformat": 4,
 "nbformat_minor": 2
}
