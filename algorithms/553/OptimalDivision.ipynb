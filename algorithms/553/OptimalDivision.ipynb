{
 "cells": [
  {
   "cell_type": "markdown",
   "metadata": {},
   "source": [
    "https://leetcode.com/problems/optimal-division/description/"
   ]
  },
  {
   "cell_type": "markdown",
   "metadata": {},
   "source": [
    "## 题目大意\n",
    "给定一个正整数数组，可以在这些数字之间加括号和除号，求使得结果最大的式子\n",
    "\n",
    "## 解题思路\n",
    "其实是一道数学题\n",
    "\n",
    "无论如何放置括号，X1 / X2 / X3 / ... / Xn总是等于（X1 / X2）\\* Y。即X1总是分子，X2总是分母。因此，只需要最大化Y.当Y3等于X3 \\* ... \\* Xn时，Y最大。所以答案总是X1 /（X2 / X3 / ... / Xn）=（X1 \\* X3 \\* ... \\* Xn）/ X2"
   ]
  },
  {
   "cell_type": "code",
   "execution_count": null,
   "metadata": {
    "collapsed": true
   },
   "outputs": [],
   "source": [
    "class Solution {\n",
    "public:\n",
    "    string optimalDivision(vector<int>& nums) {\n",
    "        string ans;\n",
    "        if(!nums.size())\n",
    "            return ans;\n",
    "        ans = to_string(nums[0]);\n",
    "        if(nums.size() == 1) \n",
    "            return ans;\n",
    "        if(nums.size() == 2) \n",
    "            return ans + \"/\" + to_string(nums[1]);\n",
    "        ans += \"/(\" + to_string(nums[1]);\n",
    "        for(int i = 2; i < nums.size();++i)\n",
    "            ans += \"/\" + to_string(nums[i]);\n",
    "        ans += \")\";\n",
    "        return ans;\n",
    "    }\n",
    "};"
   ]
  }
 ],
 "metadata": {
  "kernelspec": {
   "display_name": "C",
   "language": "c",
   "name": "c"
  },
  "language_info": {
   "file_extension": ".c",
   "mimetype": "text/plain",
   "name": "c"
  }
 },
 "nbformat": 4,
 "nbformat_minor": 2
}
