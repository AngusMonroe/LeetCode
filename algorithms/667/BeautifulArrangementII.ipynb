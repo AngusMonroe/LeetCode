{
 "cells": [
  {
   "cell_type": "markdown",
   "metadata": {},
   "source": [
    "https://leetcode.com/problems/beautiful-arrangement-ii/description/\n"
   ]
  },
  {
   "cell_type": "code",
   "execution_count": null,
   "metadata": {
    "collapsed": true
   },
   "outputs": [],
   "source": [
    "class Solution {\n",
    "public:\n",
    "    vector<int> constructArray(int n, int k) {\n",
    "        vector<int> res;\n",
    "        for (int i = 1, j = n; i <= j; ) {\n",
    "            if (k > 1) {\n",
    "                res.push_back(k%2 == 0 ? i++ : j--);\n",
    "                k--;\n",
    "            }\n",
    "            else\n",
    "                res.push_back(j--);\n",
    "        }\n",
    "        return res;\n",
    "}\n",
    "};"
   ]
  }
 ],
 "metadata": {
  "kernelspec": {
   "display_name": "C",
   "language": "c",
   "name": "c"
  },
  "language_info": {
   "file_extension": ".c",
   "mimetype": "text/plain",
   "name": "c"
  }
 },
 "nbformat": 4,
 "nbformat_minor": 2
}
