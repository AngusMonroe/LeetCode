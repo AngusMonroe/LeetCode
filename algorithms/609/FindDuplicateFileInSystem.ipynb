{
 "cells": [
  {
   "cell_type": "markdown",
   "metadata": {},
   "source": [
    "https://leetcode.com/problems/find-duplicate-file-in-system/description/"
   ]
  },
  {
   "cell_type": "markdown",
   "metadata": {},
   "source": [
    "## 题目大意\n",
    "给定一个字符数组，其每个元素的格式为`root/d1/d2/.../dm f1.txt(f1_content) f2.txt(f2_content) ... fn.txt(fn_content)`\n",
    "\n",
    "找出其中`fn_content`相同的文件\n",
    "\n",
    "## 解题思路\n",
    "使用带有名称向量的hashmap来存储所有文件内容，然后打印重复项"
   ]
  },
  {
   "cell_type": "code",
   "execution_count": null,
   "metadata": {
    "collapsed": true
   },
   "outputs": [],
   "source": [
    "class Solution {\n",
    "public:\n",
    "    vector<vector<string>> findDuplicate(vector<string>& paths) {\n",
    "        unordered_map<string, vector<string>> files;\n",
    "        vector<vector<string>> result;\n",
    "\n",
    "        for (auto path : paths) {\n",
    "            stringstream ss(path);\n",
    "            string root;\n",
    "            string s;\n",
    "            getline(ss, root, ' ');\n",
    "            while (getline(ss, s, ' ')) {\n",
    "                string fileName = root + '/' + s.substr(0, s.find('('));\n",
    "                string fileContent = s.substr(s.find('(') + 1, s.find(')') - s.find('(') - 1);\n",
    "                files[fileContent].push_back(fileName);\n",
    "            }\n",
    "        }\n",
    "\n",
    "        for (auto file : files) {\n",
    "            if (file.second.size() > 1)\n",
    "                result.push_back(file.second);\n",
    "        }\n",
    "\n",
    "        return result;\n",
    "    }\n",
    "};"
   ]
  },
  {
   "cell_type": "markdown",
   "metadata": {},
   "source": [
    "## 后续问题\n",
    "\n",
    "1. 假设你有一个真正的文件系统，你将如何搜索文件？DFS还是BFS？\n",
    "\n",
    "    一般来说，BFS将使用更多的内存，然后使用DFS。但是BFS可以利用内部目录中文件的局部性，因此可能会更快\n",
    "\n",
    "2. 如果文件内容非常大（GB级别），您将如何修改您的解决方案？\n",
    "\n",
    "    在现实生活中，我们不会散列整个文件内容，因为它不实用。相反，我们将首先根据大小映射所有文件。保证不同大小的文件是不同的。我们将散列相同大小的一小部分文件（例如使用MD5）。只有当md5相同时，我们才会逐字节比较文件\n",
    "\n",
    "3. 如果您每次只能读取1kb的文件，您将如何修改您的解决方案？\n",
    "\n",
    "    这不会改变解决方案。我们可以从1kb块创建散列，然后在需要完整逐字节比较的情况下读取整个文件。\n",
    "\n",
    "4. 修改后的解决方案的时间复杂度是多少？什么是最耗时的部分和内存消耗部分？如何优化？\n",
    "\n",
    "    时间复杂度为`O（n ^ 2 * k）`，因为在更糟糕的情况下，我们可能需要将每个文件与其他文件进行比较。k是文件大小\n",
    "\n",
    "5. 如何确保您找到的重复文件不是误报？\n",
    "\n",
    "    我们将使用几个过滤器进行比较：文件大小，哈希和字节逐字节比较。"
   ]
  }
 ],
 "metadata": {
  "kernelspec": {
   "display_name": "C",
   "language": "c",
   "name": "c"
  },
  "language_info": {
   "file_extension": ".c",
   "mimetype": "text/plain",
   "name": "c"
  }
 },
 "nbformat": 4,
 "nbformat_minor": 2
}
