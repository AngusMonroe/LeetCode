{
 "cells": [
  {
   "cell_type": "markdown",
   "metadata": {},
   "source": [
    "https://leetcode.com/problems/most-frequent-subtree-sum/description/"
   ]
  },
  {
   "cell_type": "markdown",
   "metadata": {},
   "source": [
    "## 题目大意\n",
    "给定一个二叉树，定义节点的子树总和为以该节点（包括节点本身）为根的子树形成的所有节点值之和。求出现最频繁的子树总和值\n",
    "\n",
    "## 解题思路\n",
    "先将每个节点值设为节点和，再遍历统计出现最多的节点和的值\n",
    "\n",
    "算了算时间复杂度是$O(3n)$，本来感觉很不优雅，结果竟然比99%的人都快"
   ]
  },
  {
   "cell_type": "code",
   "execution_count": null,
   "metadata": {
    "collapsed": true
   },
   "outputs": [],
   "source": [
    "/**\n",
    " * Definition for a binary tree node.\n",
    " * struct TreeNode {\n",
    " *     int val;\n",
    " *     TreeNode *left;\n",
    " *     TreeNode *right;\n",
    " *     TreeNode(int x) : val(x), left(NULL), right(NULL) {}\n",
    " * };\n",
    " */\n",
    "class Solution {\n",
    "public:\n",
    "    \n",
    "    vector<int> num;\n",
    "    \n",
    "    int check(TreeNode* root) {\n",
    "        if (root == NULL)\n",
    "            return 0;\n",
    "        else {\n",
    "            root->val = check(root->left) + check(root->right) + root->val;\n",
    "            num.push_back(root->val);\n",
    "            return root->val;\n",
    "        }\n",
    "    }\n",
    "    \n",
    "    vector<int> findFrequentTreeSum(TreeNode* root) {\n",
    "        int ans = 0;\n",
    "        check(root);\n",
    "        sort(num.begin(), num.end(), less<int>());\n",
    "        for(int i = 0, n = 0; i < num.size(); i++) {\n",
    "            if(i == 0 || num[i] == num[i - 1])\n",
    "                n++;\n",
    "            else\n",
    "                n = 1;\n",
    "            if(n > ans)\n",
    "                ans = n;\n",
    "        }\n",
    "        if(ans == 1)\n",
    "            return num;\n",
    "        else {\n",
    "            vector<int> res;\n",
    "            for(int i = 0, n = 0; i < num.size(); i++) {\n",
    "                if(i == 0 || num[i] == num[i - 1]) \n",
    "                    n++;\n",
    "                else\n",
    "                    n = 1;\n",
    "                if(n == ans)\n",
    "                    res.push_back(num[i - 1]);\n",
    "            }\n",
    "            return res;\n",
    "        }\n",
    "    }\n",
    "};"
   ]
  }
 ],
 "metadata": {
  "kernelspec": {
   "display_name": "C",
   "language": "c",
   "name": "c"
  },
  "language_info": {
   "file_extension": ".c",
   "mimetype": "text/plain",
   "name": "c"
  }
 },
 "nbformat": 4,
 "nbformat_minor": 2
}
