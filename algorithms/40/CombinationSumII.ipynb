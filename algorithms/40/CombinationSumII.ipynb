{
 "cells": [
  {
   "cell_type": "markdown",
   "metadata": {},
   "source": [
    "https://leetcode.com/problems/combination-sum-ii/"
   ]
  },
  {
   "cell_type": "markdown",
   "metadata": {},
   "source": [
    "# 题目大意\n",
    "\n",
    "给定一个int类型的list以及一个整数target，从list中任意选取数字（每个元素仅可选取一次）求和，问和为target的所有情况。\n",
    "\n",
    "是39题的升级版，区别在于这里的list中的元素是可重复的，每个元素仅能选取一次。\n",
    "\n",
    "# 解题思路\n",
    "\n",
    "## 对于无重复元素的list（39题）\n",
    "\n",
    "很容易就能想到的一个方案是，维护一个当前元素和，当前元素和小于target时分别选取list中的元素再次进行判断。\n",
    "\n",
    "但这种方法存在一个问题就是可能产生重复但顺序不同的结果，例如2+3=5和3+2=5。\n",
    "\n",
    "为了排除重复的情况，在选取元素时可以从list头向尾依次选取，记录当前选取的位置，由于“不走回头路”，故避免了产生重复结果的情况\n",
    "\n",
    "## 有重复元素的list（本题）\n",
    "\n",
    "最简单的解决方案是先将list排序，以保证选取的list次序一致，最后append的时候再判断一下是否已存在相同结果。但这样做会tle\n",
    "\n",
    "继续进行优化的话，可以首先统计一下每个元素出现的次数，然后将list转化为无重复元素的list，按照39题的思路来做，在每次判断的时候检查当前元素的选取次数，判断是否超出了出现次数限制"
   ]
  },
  {
   "cell_type": "code",
   "execution_count": null,
   "metadata": {
    "collapsed": true
   },
   "outputs": [],
   "source": [
    "class Solution:\n",
    "    def combinationSum2(self, candidates: List[int], target: int) -> List[List[int]]:\n",
    "        cnt = {}\n",
    "        idxs = []\n",
    "        for num in candidates:\n",
    "            if num not in cnt.keys():\n",
    "                cnt[num] = 0\n",
    "                idxs.append(num)\n",
    "            cnt[num] += 1\n",
    "        res = []\n",
    "        \n",
    "        def check(sum, idx, n, l):\n",
    "            if sum == target:\n",
    "                res.append(l)\n",
    "            elif sum < target and idx < len(idxs):\n",
    "                if n < cnt[idxs[idx]]:\n",
    "                    check(sum + idxs[idx], idx, n + 1, l + [idxs[idx]])\n",
    "                check(sum, idx + 1, 0, l)\n",
    "        \n",
    "        check(0, 0, 0, [])\n",
    "        return res"
   ]
  }
 ],
 "metadata": {
  "kernelspec": {
   "display_name": "Python 3",
   "language": "python",
   "name": "python3"
  },
  "language_info": {
   "codemirror_mode": {
    "name": "ipython",
    "version": 3
   },
   "file_extension": ".py",
   "mimetype": "text/x-python",
   "name": "python",
   "nbconvert_exporter": "python",
   "pygments_lexer": "ipython3",
   "version": "3.6.7"
  }
 },
 "nbformat": 4,
 "nbformat_minor": 2
}
