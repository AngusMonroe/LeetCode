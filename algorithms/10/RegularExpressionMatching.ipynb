{
 "cells": [
  {
   "cell_type": "markdown",
   "metadata": {},
   "source": [
    "https://leetcode.com/problems/regular-expression-matching/"
   ]
  },
  {
   "cell_type": "markdown",
   "metadata": {},
   "source": [
    "## 题目大意\n",
    "判断一个字符串是否与包含.和\\*的正则表达式匹配\n",
    "\n",
    "## 解题思路\n",
    "dp"
   ]
  },
  {
   "cell_type": "code",
   "execution_count": null,
   "metadata": {
    "collapsed": true
   },
   "outputs": [],
   "source": [
    "class Solution(object):\n",
    "    def isMatch(self, text, pattern):\n",
    "        memo = {}\n",
    "        def dp(i, j):\n",
    "            if (i, j) not in memo:\n",
    "                if j == len(pattern):\n",
    "                    ans = i == len(text)\n",
    "                else:\n",
    "                    first_match = i < len(text) and pattern[j] in {text[i], '.'}\n",
    "                    if j+1 < len(pattern) and pattern[j+1] == '*':\n",
    "                        ans = dp(i, j+2) or first_match and dp(i+1, j)\n",
    "                    else:\n",
    "                        ans = first_match and dp(i+1, j+1)\n",
    "\n",
    "                memo[i, j] = ans\n",
    "            return memo[i, j]\n",
    "\n",
    "        return dp(0, 0)"
   ]
  }
 ],
 "metadata": {
  "kernelspec": {
   "display_name": "Python 3",
   "language": "python",
   "name": "python3"
  },
  "language_info": {
   "codemirror_mode": {
    "name": "ipython",
    "version": 3
   },
   "file_extension": ".py",
   "mimetype": "text/x-python",
   "name": "python",
   "nbconvert_exporter": "python",
   "pygments_lexer": "ipython3",
   "version": "3.6.7"
  }
 },
 "nbformat": 4,
 "nbformat_minor": 2
}
