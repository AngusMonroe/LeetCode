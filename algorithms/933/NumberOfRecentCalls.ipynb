{
 "cells": [
  {
   "cell_type": "markdown",
   "metadata": {},
   "source": [
    "https://leetcode.com/problems/number-of-recent-calls/"
   ]
  },
  {
   "cell_type": "markdown",
   "metadata": {},
   "source": [
    "# 题目大意\n",
    "\n",
    "给定一系列ping的时间点，问这些时间点3000秒前ping的次数\n",
    "\n",
    "## 解题思路\n",
    "\n",
    "维护一个队列，队首元素小于队尾元素减3000时将队首元素出队"
   ]
  },
  {
   "cell_type": "code",
   "execution_count": null,
   "metadata": {
    "collapsed": true
   },
   "outputs": [],
   "source": [
    "class RecentCounter:\n",
    "\n",
    "    def __init__(self):\n",
    "        self.q = collections.deque()\n",
    "\n",
    "    def ping(self, t: int) -> int:\n",
    "        self.q.append(t)\n",
    "        while self.q[0] < t-3000:\n",
    "            self.q.popleft()\n",
    "        return len(self.q)\n",
    "\n",
    "\n",
    "# Your RecentCounter object will be instantiated and called as such:\n",
    "# obj = RecentCounter()\n",
    "# param_1 = obj.ping(t)"
   ]
  }
 ],
 "metadata": {
  "kernelspec": {
   "display_name": "Python 3",
   "language": "python",
   "name": "python3"
  },
  "language_info": {
   "codemirror_mode": {
    "name": "ipython",
    "version": 3
   },
   "file_extension": ".py",
   "mimetype": "text/x-python",
   "name": "python",
   "nbconvert_exporter": "python",
   "pygments_lexer": "ipython3",
   "version": "3.6.7"
  }
 },
 "nbformat": 4,
 "nbformat_minor": 2
}
